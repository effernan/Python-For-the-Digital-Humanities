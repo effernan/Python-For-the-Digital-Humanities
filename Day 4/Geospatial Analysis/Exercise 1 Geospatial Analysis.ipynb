{
 "cells": [
  {
   "cell_type": "markdown",
   "id": "cbaaf8f5",
   "metadata": {},
   "source": [
    "# Using Geospatial Analysis to visually analyze Travel Literature!"
   ]
  },
  {
   "cell_type": "markdown",
   "id": "0c2f7cf9",
   "metadata": {},
   "source": [
    "Geospatial Analysis can be a great tool to help us digg into the textual analysis of Literary Text. This can be particularly useful if we want to add extra layers of analysis to some genres such as **Travel Literature**. In this notebook we are going to exolore how to use the Python Library Plotly: https://plotly.com/python/getting-started/"
   ]
  },
  {
   "cell_type": "markdown",
   "id": "f8d674d3",
   "metadata": {},
   "source": [
    "**Sources:** the majority of the scripts in this notebook come from these sources from plotly: https://plotly.com/python/mapbox-layers/, https://plotly.com/python/scatter-plots-on-maps/, https://plotly.com/python/mapbox-layers/, https://plotly.com/python/reference/scattermapbox/#scattermapbox-marker-symbol. For more senior scripts about geo-spatial data science, this is an excellent course: https://github.com/suneman/socialdata2023."
   ]
  },
  {
   "cell_type": "markdown",
   "id": "2e8b625b",
   "metadata": {},
   "source": [
    "# 1. We import the libraries"
   ]
  },
  {
   "cell_type": "code",
   "execution_count": 1,
   "id": "be45cf2a",
   "metadata": {},
   "outputs": [],
   "source": [
    "import pandas as pd\n",
    "import plotly.express as px\n",
    "import plotly.graph_objects as go\n",
    "import plotly.offline as py \n",
    "from plotly.figure_factory import create_table # for creating nice table "
   ]
  },
  {
   "cell_type": "markdown",
   "id": "8f23bafe",
   "metadata": {},
   "source": [
    "# 2. We manually inspect our city dataset"
   ]
  },
  {
   "cell_type": "markdown",
   "id": "ab223e7e",
   "metadata": {},
   "source": [
    "All Digital Humanities projects involve some degree of close reading analysis. We need to inspect our \"GPE_aroundtheworld.txt\" file and decide which cities we are going to include in our selection! (you will see that there is a considereable ammount of noise even using Spacy, or that some place names are contemporary to the age of Jules Verne but have changed ever since). Since the file is **very long** I have only selected a bunch of them ;)"
   ]
  },
  {
   "cell_type": "markdown",
   "id": "76e78e64",
   "metadata": {},
   "source": [
    "# 3. We create our GPS dataset."
   ]
  },
  {
   "cell_type": "markdown",
   "id": "147dfdcb",
   "metadata": {},
   "source": [
    "To be able to map our cities, we need to extensively google the Latitude and Longitude of all of them, and manually annotate the results in several lists (as we will need to create a CSV dataframe to be able to plot things in maps with Plotly).\n",
    "\n",
    "Be aware that:\n",
    "\n",
    "**GPS Lat-Long signs: N+, S-, W-, E+.**\n",
    "\n",
    "For example:\n",
    "\n",
    "Rio de Janeiro: 22.9068° S, 43.1729° W (-22.9068, -43.1729)\n",
    "London: 51.5072° N, 0.1276° W (51.5072, -0.1276)\n",
    "Stockholm: 59.3293° N, 18.0686° E (59.3293, 18.0686)\n",
    "Sydney: 25.2744° S, 133.7751° E (-25.2744, -133.7751)"
   ]
  },
  {
   "cell_type": "markdown",
   "id": "2db9bd2f",
   "metadata": {},
   "source": [
    "# Activity for you\n",
    "\n",
    "Please google \"Lat Long decimal\" and add the coordinates of **Montreal, Lybia, Liverpool, Quebec, Boston, Halifax**. Add the lattitude, the longitude, and the country (at each corresponding list). Remember to remove the dots (that is just to indicate you where you should be writing things) and to write the closing braket of the list! Once you are finished run the scripts and you will automatically have a Pandas dataframe with all the information!"
   ]
  },
  {
   "cell_type": "code",
   "execution_count": 1,
   "id": "58c88d53",
   "metadata": {},
   "outputs": [],
   "source": [
    "places = [\"La Plata\", \"Lofoten Islands (Maelstrom)\", \"London\", \"Cardiff (Pay de Galles)\", \"Adelie Land (Terre Adelie)\", \n",
    "          \"Dublin (île d'Émeraude)\", \"Venice\", \"Canberra (îles de l'Océanie)\", \"Prague (Boheme)\", \"Santorini\",\n",
    "          \"Antartica (Graham Land)\", \"Suez\", \"Edinburgh (Scotia)\", \"Gulf of Ob\", \"Panama\", \"Brest (Arsenal de Brest)\",\n",
    "          \"Marquesas Islands\", \"Wellington\", \"Stockholm\", \"Agatti Islands (archipel des Laquedives)\", \"Shanghai\",\n",
    "          \"Havana\", \"Zurich\", \"Gulf of Mannar\", \"Havre\", \"Wellington\", \"Tampa\", \"Budapest (Danube River)\", \n",
    "          \"Orinoco River\", \"Quito\", \"Mannar Island\", \"Leiden\", \"Koln (Rihn River)\", \"Tunisia\", \"Montpellier\", \n",
    "          \"New Jersey\", \"Gran Canaria\", \"Ras Nouadhibou\", \"Cape Horn\", \"Tasmania\", \"Saint Malo\", \"Viti Levu\", \n",
    "          \"Mexican Gulf\", \"Monte Sarmiento\", \"Paris (Hotel du Sommerard)\", \"Santorini\", \"Ile Ronde\", \"Antilles\", \n",
    "          \"Bougainville Island\", \"Rome (Temple d'Hercule)\", \"Alepo (Syria)\", \"Dresden (Saxony)\", \"Baffin Bay\",\n",
    "          \"Lisbon (Portugal)\", \"Old Bahama Channel\", \"New York\", \"Tierra del Fuego\", \"Cairo (Egypt)\", \"Solomon Islands\",\n",
    "          \"Copenhagen (Ceyland)\", \"Karpathos\", \"Glasgow\", \"Cape Race\", \"Cape Matapan\", \"Hudson\", \"Washington DC\", \n",
    "          \"Athens\", \"Sicily\", \"Ribeira\", \"Long Island\", \"Sunderland\", \"Wailea Bay\",  \"St. Lawrence River\", \n",
    "          \"Kara Sea\", \"Sydney\", \"Hymalayas\", \"Cape St. Vicent\", \"Antilles\", \"Cape of Good Hope\", \"San Francisco\", \n",
    "          \"Mauritius\", \"Lucayan Archipelago\", \"Admiralty Islands\", \"Maluku Islands\", \"Gulf of Acaba\", \"Virgin Islands\", \n",
    "          \"Bay of Bengal\", \"Prague (Boeheme)\", \"Tokyo\", \"Spitsbergen\", \"Brooklyn\", \"Congo\", \"Corsica\", \n",
    "          \"Montevideo (Uruguay)\", \"Dublin\", \"Cadiz\", \"Gibraltar\", \"Ceuta\", \"Maiden Islands\", \"Sierra Leone\", ........."
   ]
  },
  {
   "cell_type": "code",
   "execution_count": 67,
   "id": "5001ac0a",
   "metadata": {},
   "outputs": [],
   "source": [
    "lat = [ -34.920345, 68.166672, 51.509865, 51.481583, -67.183055555556 , 53.350140, 45.438759, -35.282001, 50.073658,\n",
    "       36.415, -75.250973, 29.97371, 55.953251, 67.24444, 8.983333, 48.389999, -8.979355,  -41.28664,  59.334591,\n",
    "        10.8575, 31.224361, 23.113592, 47.36667, 8.47, 49.494166666667, -41.28664,  27.964157, 47.497913, 8.56, \n",
    "        -0.180653, 9.05000,  52.160114, 50.935173, 36.816667, 43.611900, 39.833851, 28.09973, 20.771389, -55.98, \n",
    "       -41.640079, 48.647222222222, -17.8, 25.681137, -54.450, 48.864716, 36.393154, 45.81088, 12.226079, -4.45321, \n",
    "       41.902782, 36.216667, 51.050407, 74.5061076, 38.736946, 22.500, 40.730610, -54.554047, 30.033333, -10.71667,\n",
    "        55.676098, 35.50701000, 55.860916, 46.666667, 36.384331796, 42.252865, 38.889805, 37.983810, 37.500000, \n",
    "       42.74611, 40.792240, 54.906101, 20.68973, -69.1667, 74.82583003, -33.865143, 28.598316, 37.030323, 12.226079, \n",
    "       -34.254570, 37.773972, -20.244959, 25.025885, 69.500, -3.654703, 29.40842000, 34.297878, 78.8982, 50.073658,\n",
    "       35.652832, 78.9014, 40.6782, 4.0383, 42.0396, 32.5228, 53.3498, 36.5210, 36.1408, 35.8894, 17.0608, 8.4606, \n",
    "       ................."
   ]
  },
  {
   "cell_type": "code",
   "execution_count": 68,
   "id": "5b6e605e",
   "metadata": {},
   "outputs": [],
   "source": [
    "lon = [-57.969559, 13.750000,  -0.118092, -3.179090, 142.38305555556,  -6.266155, 12.327145, 149.128998, 14.418540, \n",
    "       25.4325,  -0.071389, 32.52627, -3.188267, 73, -79.516670, -4.490000, -139.691137, 174.77557,  18.063240,\n",
    "       72.1934, 121.469170, -82.366592, 8.545094, 79.02, 0.10805555555556, 174.77557, -82.452606, 19.040236, -60.5, \n",
    "        -78.467834, 79.83333,  4.497010,  6.953101, 10.183333, 3.877200, -74.871826, -15.41343, -17.047222, \n",
    "        -67.289167, 146.315918, -2.0088888888889, 178, -89.890137, -70.833, 2.349014,  25.461510, -73.35306, -69.060087, \n",
    "       154.15329, 12.496366, 37.166668, 13.737262, -67.12170641, -9.142685, -78.833, -73.935242, -67.225258, 31.233334,\n",
    "       156.84186, 12.568337, 27.21322000, -4.251433, -53.066667,  22.476331428, -73.790962, -77.009056, 23.727539, \n",
    "       15.090278, -8.44392,  -73.138260, -1.381130, -156.440582, 48.7833, 71.307165438, 151.209900, 83.931061, -8.981127,\n",
    "        -69.060087, 18.406263, -122.431297, 57.561768, -78.035889, -101.000, 128.190643, 34.97918000, -83.824066, \n",
    "       95.0488, 14.418540, 139.839478, 13.4839, 73.9442, 21.7587, 9.0129, 55.7658, 6.2603, 6.2805, 5.3536, 5.3213, \n",
    "       61.7964, 11.7799, ..............."
   ]
  },
  {
   "cell_type": "code",
   "execution_count": 69,
   "id": "124caacb",
   "metadata": {},
   "outputs": [],
   "source": [
    "countries = [\"Argentina\", \"Norway\", \"UK\", \"UK\", \"Antartica\", \"Ireland\", \"Italy\", \"Australia\", \"Check Republic\", \"Greece\", \n",
    "             \"Antartica\", \"Egypt\", \"UK\", \"Russia\", \"Panama\", \"France\", \"French Polynesia\", \"New Zealand\", \"Sweden\", \"India\", \n",
    "             \"China\", \"Cuba\", \"Switzerland\", \"India\", \"France\", \"New Zealand\", \"USA\", \"Hungary\", \"Venezuela\", \"Ecuador\",\n",
    "             \"Sri Lanka\", \"Netherlands\", \"Germany\", \"Tunisisa\", \"France\", \"USA\", \"Spain\", \"Africa\", \"Chile\", \"Australia\", \n",
    "             \"France\", \"Fiyi\", \"USA\", \"Chile\", \"France\", \"Greece\", \"Mauritius\", \"Antilles\", \"Papua New Guinea\", \"Italy\",\n",
    "             \"Syria\", \"Germany\", \"Ocean\", \"Portugal\", \"Cuba\", \"USA\", \"Argentina\", \"Egypt\", \"Solomon Islands\", \"Denmark\",\n",
    "             \"Greece\", \"UK\", \"Canada\", \"Greece\", \"USA\", \"USA\", \"Greece\", \"Italy\", \"Spain\", \"USA\", \"UK\", \"USA\", \"Canada\",\n",
    "             \"Russia\", \"Australia\", \"Nepal\", \"Portugal\", \"Antilles\", \"South Africa\", \"USA\", \"Mauritius\", \"Bahamas\",\n",
    "             \"New Guinea\", \"Indonesia\", \"Jordan\", \"USA\", \"Sri Lanka\", \"Check Republic\", \"Japan\", \"Norway\", \"USA\", \n",
    "             \"Republic of Congo\", \"France\", \"Uruguay\", \"Ireland\", \"Spain\", \"Spain\", \"Spain\", \"Antigua and Barbuda\",\n",
    "             \"Sierra Leone\", .............\n",
    "             "
   ]
  },
  {
   "cell_type": "code",
   "execution_count": 70,
   "id": "cb60b87e",
   "metadata": {},
   "outputs": [],
   "source": [
    "data = pd.DataFrame(places, columns = [\"cities\"])"
   ]
  },
  {
   "cell_type": "code",
   "execution_count": 71,
   "id": "d97aece1",
   "metadata": {},
   "outputs": [],
   "source": [
    "data[\"lat\"] = lat"
   ]
  },
  {
   "cell_type": "code",
   "execution_count": 72,
   "id": "6fa2d17c",
   "metadata": {},
   "outputs": [],
   "source": [
    "data[\"lon\"] = lon"
   ]
  },
  {
   "cell_type": "code",
   "execution_count": 73,
   "id": "54eeacc1",
   "metadata": {},
   "outputs": [],
   "source": [
    "data[\"countries\"] = countries"
   ]
  },
  {
   "cell_type": "code",
   "execution_count": 74,
   "id": "72fdfaa4",
   "metadata": {},
   "outputs": [
    {
     "data": {
      "text/html": [
       "<div>\n",
       "<style scoped>\n",
       "    .dataframe tbody tr th:only-of-type {\n",
       "        vertical-align: middle;\n",
       "    }\n",
       "\n",
       "    .dataframe tbody tr th {\n",
       "        vertical-align: top;\n",
       "    }\n",
       "\n",
       "    .dataframe thead th {\n",
       "        text-align: right;\n",
       "    }\n",
       "</style>\n",
       "<table border=\"1\" class=\"dataframe\">\n",
       "  <thead>\n",
       "    <tr style=\"text-align: right;\">\n",
       "      <th></th>\n",
       "      <th>cities</th>\n",
       "      <th>lat</th>\n",
       "      <th>lon</th>\n",
       "      <th>countries</th>\n",
       "    </tr>\n",
       "  </thead>\n",
       "  <tbody>\n",
       "    <tr>\n",
       "      <th>0</th>\n",
       "      <td>La Plata</td>\n",
       "      <td>-34.920345</td>\n",
       "      <td>-57.969559</td>\n",
       "      <td>Argentina</td>\n",
       "    </tr>\n",
       "    <tr>\n",
       "      <th>1</th>\n",
       "      <td>Lofoten Islands (Maelstrom)</td>\n",
       "      <td>68.166672</td>\n",
       "      <td>13.750000</td>\n",
       "      <td>Norway</td>\n",
       "    </tr>\n",
       "    <tr>\n",
       "      <th>2</th>\n",
       "      <td>London</td>\n",
       "      <td>51.509865</td>\n",
       "      <td>-0.118092</td>\n",
       "      <td>UK</td>\n",
       "    </tr>\n",
       "    <tr>\n",
       "      <th>3</th>\n",
       "      <td>Cardiff (Pay de Galles)</td>\n",
       "      <td>51.481583</td>\n",
       "      <td>-3.179090</td>\n",
       "      <td>UK</td>\n",
       "    </tr>\n",
       "    <tr>\n",
       "      <th>4</th>\n",
       "      <td>Adelie Land (Terre Adelie)</td>\n",
       "      <td>-67.183056</td>\n",
       "      <td>142.383056</td>\n",
       "      <td>Antartica</td>\n",
       "    </tr>\n",
       "    <tr>\n",
       "      <th>...</th>\n",
       "      <td>...</td>\n",
       "      <td>...</td>\n",
       "      <td>...</td>\n",
       "      <td>...</td>\n",
       "    </tr>\n",
       "    <tr>\n",
       "      <th>59</th>\n",
       "      <td>Copenhagen (Ceyland)</td>\n",
       "      <td>55.676098</td>\n",
       "      <td>12.568337</td>\n",
       "      <td>Denmark</td>\n",
       "    </tr>\n",
       "    <tr>\n",
       "      <th>60</th>\n",
       "      <td>Karpathos</td>\n",
       "      <td>35.507010</td>\n",
       "      <td>27.213220</td>\n",
       "      <td>Greece</td>\n",
       "    </tr>\n",
       "    <tr>\n",
       "      <th>61</th>\n",
       "      <td>Glasgow</td>\n",
       "      <td>55.860916</td>\n",
       "      <td>-4.251433</td>\n",
       "      <td>UK</td>\n",
       "    </tr>\n",
       "    <tr>\n",
       "      <th>62</th>\n",
       "      <td>Cape Race</td>\n",
       "      <td>46.666667</td>\n",
       "      <td>-53.066667</td>\n",
       "      <td>Canada</td>\n",
       "    </tr>\n",
       "    <tr>\n",
       "      <th>63</th>\n",
       "      <td>Cape Matapan</td>\n",
       "      <td>36.384332</td>\n",
       "      <td>22.476331</td>\n",
       "      <td>Greece</td>\n",
       "    </tr>\n",
       "  </tbody>\n",
       "</table>\n",
       "<p>64 rows × 4 columns</p>\n",
       "</div>"
      ],
      "text/plain": [
       "                         cities        lat         lon  countries\n",
       "0                      La Plata -34.920345  -57.969559  Argentina\n",
       "1   Lofoten Islands (Maelstrom)  68.166672   13.750000     Norway\n",
       "2                        London  51.509865   -0.118092         UK\n",
       "3       Cardiff (Pay de Galles)  51.481583   -3.179090         UK\n",
       "4    Adelie Land (Terre Adelie) -67.183056  142.383056  Antartica\n",
       "..                          ...        ...         ...        ...\n",
       "59         Copenhagen (Ceyland)  55.676098   12.568337    Denmark\n",
       "60                    Karpathos  35.507010   27.213220     Greece\n",
       "61                      Glasgow  55.860916   -4.251433         UK\n",
       "62                    Cape Race  46.666667  -53.066667     Canada\n",
       "63                 Cape Matapan  36.384332   22.476331     Greece\n",
       "\n",
       "[64 rows x 4 columns]"
      ]
     },
     "execution_count": 74,
     "metadata": {},
     "output_type": "execute_result"
    }
   ],
   "source": [
    "data"
   ]
  },
  {
   "cell_type": "markdown",
   "id": "959cc864",
   "metadata": {},
   "source": [
    "# 5. And now we visualize things!"
   ]
  },
  {
   "cell_type": "markdown",
   "id": "81f2c0ef",
   "metadata": {},
   "source": [
    "Let's first try this map."
   ]
  },
  {
   "cell_type": "markdown",
   "id": "0d264140",
   "metadata": {},
   "source": [
    "# Activity for you\n",
    "\n",
    "Change the color_discrete_sequence = [] variable from \"fuschia\" to \"green\". You can try other colours!"
   ]
  },
  {
   "cell_type": "code",
   "execution_count": 79,
   "id": "0730e28f",
   "metadata": {},
   "outputs": [
    {
     "data": {
      "application/vnd.plotly.v1+json": {
       "config": {
        "plotlyServerURL": "https://plot.ly"
       },
       "data": [
        {
         "customdata": [
          [
           "Argentina"
          ],
          [
           "Norway"
          ],
          [
           "UK"
          ],
          [
           "UK"
          ],
          [
           "Antartica"
          ],
          [
           "Ireland"
          ],
          [
           "Italy"
          ],
          [
           "Australia"
          ],
          [
           "Check Republic"
          ],
          [
           "Greece"
          ],
          [
           "Antartica"
          ],
          [
           "Egypt"
          ],
          [
           "UK"
          ],
          [
           "Russia"
          ],
          [
           "Panama"
          ],
          [
           "France"
          ],
          [
           "French Polynesia"
          ],
          [
           "New Zealand"
          ],
          [
           "Sweden"
          ],
          [
           "India"
          ],
          [
           "China"
          ],
          [
           "Cuba"
          ],
          [
           "Switzerland"
          ],
          [
           "India"
          ],
          [
           "France"
          ],
          [
           "New Zealand"
          ],
          [
           "USA"
          ],
          [
           "Hungary"
          ],
          [
           "Venezuela"
          ],
          [
           "Ecuador"
          ],
          [
           "Sri Lanka"
          ],
          [
           "Netherlands"
          ],
          [
           "Germany"
          ],
          [
           "Tunisisa"
          ],
          [
           "France"
          ],
          [
           "USA"
          ],
          [
           "Spain"
          ],
          [
           "Africa"
          ],
          [
           "Chile"
          ],
          [
           "Australia"
          ],
          [
           "France"
          ],
          [
           "Fiyi"
          ],
          [
           "USA"
          ],
          [
           "Chile"
          ],
          [
           "France"
          ],
          [
           "Greece"
          ],
          [
           "Mauritius"
          ],
          [
           "Antilles"
          ],
          [
           "Papua New Guinea"
          ],
          [
           "Italy"
          ],
          [
           "Syria"
          ],
          [
           "Germany"
          ],
          [
           "Ocean"
          ],
          [
           "Portugal"
          ],
          [
           "Cuba"
          ],
          [
           "USA"
          ],
          [
           "Argentina"
          ],
          [
           "Egypt"
          ],
          [
           "Solomon Islands"
          ],
          [
           "Denmark"
          ],
          [
           "Greece"
          ],
          [
           "UK"
          ],
          [
           "Canada"
          ],
          [
           "Greece"
          ]
         ],
         "hovertemplate": "<b>%{hovertext}</b><br><br>lat=%{lat}<br>lon=%{lon}<br>countries=%{customdata[0]}<extra></extra>",
         "hovertext": [
          "La Plata",
          "Lofoten Islands (Maelstrom)",
          "London",
          "Cardiff (Pay de Galles)",
          "Adelie Land (Terre Adelie)",
          "Dublin (île d'Émeraude)",
          "Venice",
          "Canberra (îles de l'Océanie)",
          "Prague (Boheme)",
          "Santorini",
          "Antartica (Graham Land)",
          "Suez",
          "Edinburgh (Scotia)",
          "Gulf of Ob",
          "Panama",
          "Brest (Arsenal de Brest)",
          "Marquesas Islands",
          "Wellington",
          "Stockholm",
          "Agatti Islands (archipel des Laquedives)",
          "Shanghai",
          "Havana",
          "Zurich",
          "Gulf of Mannar",
          "Havre",
          "Wellington",
          "Tampa",
          "Budapest (Danube River)",
          "Orinoco River",
          "Quito",
          "Mannar Island",
          "Leiden",
          "Koln (Rihn River)",
          "Tunisia",
          "Montpellier",
          "New Jersey",
          "Gran Canaria",
          "Ras Nouadhibou",
          "Cape Horn",
          "Tasmania",
          "Saint Malo",
          "Viti Levu",
          "Mexican Gulf",
          "Monte Sarmiento",
          "Paris (Hotel du Sommerard)",
          "Santorini",
          "Ile Ronde",
          "Antilles",
          "Bougainville Island",
          "Rome (Temple d'Hercule)",
          "Alepo (Syria)",
          "Dresden (Saxony)",
          "Baffin Bay",
          "Lisbon (Portugal)",
          "Old Bahama Channel",
          "New York",
          "Tierra del Fuego",
          "Cairo (Egypt)",
          "Solomon Islands",
          "Copenhagen (Ceyland)",
          "Karpathos",
          "Glasgow",
          "Cape Race",
          "Cape Matapan"
         ],
         "lat": [
          -34.920345,
          68.166672,
          51.509865,
          51.481583,
          -67.183055555556,
          53.35014,
          45.438759,
          -35.282001,
          50.073658,
          36.415,
          -75.250973,
          29.97371,
          55.953251,
          67.24444,
          8.983333,
          48.389999,
          -8.979355,
          -41.28664,
          59.334591,
          10.8575,
          31.224361,
          23.113592,
          47.36667,
          8.47,
          49.494166666667,
          -41.28664,
          27.964157,
          47.497913,
          8.56,
          -0.180653,
          9.05,
          52.160114,
          50.935173,
          36.816667,
          43.6119,
          39.833851,
          28.09973,
          20.771389,
          -55.98,
          -41.640079,
          48.647222222222,
          -17.8,
          25.681137,
          -54.45,
          48.864716,
          36.393154,
          45.81088,
          12.226079,
          -4.45321,
          41.902782,
          36.216667,
          51.050407,
          74.5061076,
          38.736946,
          22.5,
          40.73061,
          -54.554047,
          30.033333,
          -10.71667,
          55.676098,
          35.50701,
          55.860916,
          46.666667,
          36.384331796
         ],
         "legendgroup": "",
         "lon": [
          -57.969559,
          13.75,
          -0.118092,
          -3.17909,
          142.38305555556,
          -6.266155,
          12.327145,
          149.128998,
          14.41854,
          25.4325,
          -0.071389,
          32.52627,
          -3.188267,
          73,
          -79.51667,
          -4.49,
          -139.691137,
          174.77557,
          18.06324,
          72.1934,
          121.46917,
          -82.366592,
          8.545094,
          79.02,
          0.10805555555556,
          174.77557,
          -82.452606,
          19.040236,
          -60.5,
          -78.467834,
          79.83333,
          4.49701,
          6.953101,
          10.183333,
          3.8772,
          -74.871826,
          -15.41343,
          -17.047222,
          -67.289167,
          146.315918,
          -2.0088888888889,
          178,
          -89.890137,
          -70.833,
          2.349014,
          25.46151,
          -73.35306,
          -69.060087,
          154.15329,
          12.496366,
          37.166668,
          13.737262,
          -67.12170641,
          -9.142685,
          -78.833,
          -73.935242,
          -67.225258,
          31.233334,
          156.84186,
          12.568337,
          27.21322,
          -4.251433,
          -53.066667,
          22.476331428
         ],
         "marker": {
          "color": "fuchsia"
         },
         "mode": "markers",
         "name": "",
         "showlegend": false,
         "subplot": "mapbox",
         "type": "scattermapbox"
        }
       ],
       "layout": {
        "height": 300,
        "legend": {
         "tracegroupgap": 0
        },
        "mapbox": {
         "center": {
          "lat": 21.899587183270828,
          "lon": 9.760839503753541
         },
         "domain": {
          "x": [
           0,
           1
          ],
          "y": [
           0,
           1
          ]
         },
         "style": "open-street-map",
         "zoom": 3
        },
        "margin": {
         "b": 0,
         "l": 0,
         "r": 0,
         "t": 0
        },
        "template": {
         "data": {
          "bar": [
           {
            "error_x": {
             "color": "#2a3f5f"
            },
            "error_y": {
             "color": "#2a3f5f"
            },
            "marker": {
             "line": {
              "color": "#E5ECF6",
              "width": 0.5
             },
             "pattern": {
              "fillmode": "overlay",
              "size": 10,
              "solidity": 0.2
             }
            },
            "type": "bar"
           }
          ],
          "barpolar": [
           {
            "marker": {
             "line": {
              "color": "#E5ECF6",
              "width": 0.5
             },
             "pattern": {
              "fillmode": "overlay",
              "size": 10,
              "solidity": 0.2
             }
            },
            "type": "barpolar"
           }
          ],
          "carpet": [
           {
            "aaxis": {
             "endlinecolor": "#2a3f5f",
             "gridcolor": "white",
             "linecolor": "white",
             "minorgridcolor": "white",
             "startlinecolor": "#2a3f5f"
            },
            "baxis": {
             "endlinecolor": "#2a3f5f",
             "gridcolor": "white",
             "linecolor": "white",
             "minorgridcolor": "white",
             "startlinecolor": "#2a3f5f"
            },
            "type": "carpet"
           }
          ],
          "choropleth": [
           {
            "colorbar": {
             "outlinewidth": 0,
             "ticks": ""
            },
            "type": "choropleth"
           }
          ],
          "contour": [
           {
            "colorbar": {
             "outlinewidth": 0,
             "ticks": ""
            },
            "colorscale": [
             [
              0,
              "#0d0887"
             ],
             [
              0.1111111111111111,
              "#46039f"
             ],
             [
              0.2222222222222222,
              "#7201a8"
             ],
             [
              0.3333333333333333,
              "#9c179e"
             ],
             [
              0.4444444444444444,
              "#bd3786"
             ],
             [
              0.5555555555555556,
              "#d8576b"
             ],
             [
              0.6666666666666666,
              "#ed7953"
             ],
             [
              0.7777777777777778,
              "#fb9f3a"
             ],
             [
              0.8888888888888888,
              "#fdca26"
             ],
             [
              1,
              "#f0f921"
             ]
            ],
            "type": "contour"
           }
          ],
          "contourcarpet": [
           {
            "colorbar": {
             "outlinewidth": 0,
             "ticks": ""
            },
            "type": "contourcarpet"
           }
          ],
          "heatmap": [
           {
            "colorbar": {
             "outlinewidth": 0,
             "ticks": ""
            },
            "colorscale": [
             [
              0,
              "#0d0887"
             ],
             [
              0.1111111111111111,
              "#46039f"
             ],
             [
              0.2222222222222222,
              "#7201a8"
             ],
             [
              0.3333333333333333,
              "#9c179e"
             ],
             [
              0.4444444444444444,
              "#bd3786"
             ],
             [
              0.5555555555555556,
              "#d8576b"
             ],
             [
              0.6666666666666666,
              "#ed7953"
             ],
             [
              0.7777777777777778,
              "#fb9f3a"
             ],
             [
              0.8888888888888888,
              "#fdca26"
             ],
             [
              1,
              "#f0f921"
             ]
            ],
            "type": "heatmap"
           }
          ],
          "heatmapgl": [
           {
            "colorbar": {
             "outlinewidth": 0,
             "ticks": ""
            },
            "colorscale": [
             [
              0,
              "#0d0887"
             ],
             [
              0.1111111111111111,
              "#46039f"
             ],
             [
              0.2222222222222222,
              "#7201a8"
             ],
             [
              0.3333333333333333,
              "#9c179e"
             ],
             [
              0.4444444444444444,
              "#bd3786"
             ],
             [
              0.5555555555555556,
              "#d8576b"
             ],
             [
              0.6666666666666666,
              "#ed7953"
             ],
             [
              0.7777777777777778,
              "#fb9f3a"
             ],
             [
              0.8888888888888888,
              "#fdca26"
             ],
             [
              1,
              "#f0f921"
             ]
            ],
            "type": "heatmapgl"
           }
          ],
          "histogram": [
           {
            "marker": {
             "pattern": {
              "fillmode": "overlay",
              "size": 10,
              "solidity": 0.2
             }
            },
            "type": "histogram"
           }
          ],
          "histogram2d": [
           {
            "colorbar": {
             "outlinewidth": 0,
             "ticks": ""
            },
            "colorscale": [
             [
              0,
              "#0d0887"
             ],
             [
              0.1111111111111111,
              "#46039f"
             ],
             [
              0.2222222222222222,
              "#7201a8"
             ],
             [
              0.3333333333333333,
              "#9c179e"
             ],
             [
              0.4444444444444444,
              "#bd3786"
             ],
             [
              0.5555555555555556,
              "#d8576b"
             ],
             [
              0.6666666666666666,
              "#ed7953"
             ],
             [
              0.7777777777777778,
              "#fb9f3a"
             ],
             [
              0.8888888888888888,
              "#fdca26"
             ],
             [
              1,
              "#f0f921"
             ]
            ],
            "type": "histogram2d"
           }
          ],
          "histogram2dcontour": [
           {
            "colorbar": {
             "outlinewidth": 0,
             "ticks": ""
            },
            "colorscale": [
             [
              0,
              "#0d0887"
             ],
             [
              0.1111111111111111,
              "#46039f"
             ],
             [
              0.2222222222222222,
              "#7201a8"
             ],
             [
              0.3333333333333333,
              "#9c179e"
             ],
             [
              0.4444444444444444,
              "#bd3786"
             ],
             [
              0.5555555555555556,
              "#d8576b"
             ],
             [
              0.6666666666666666,
              "#ed7953"
             ],
             [
              0.7777777777777778,
              "#fb9f3a"
             ],
             [
              0.8888888888888888,
              "#fdca26"
             ],
             [
              1,
              "#f0f921"
             ]
            ],
            "type": "histogram2dcontour"
           }
          ],
          "mesh3d": [
           {
            "colorbar": {
             "outlinewidth": 0,
             "ticks": ""
            },
            "type": "mesh3d"
           }
          ],
          "parcoords": [
           {
            "line": {
             "colorbar": {
              "outlinewidth": 0,
              "ticks": ""
             }
            },
            "type": "parcoords"
           }
          ],
          "pie": [
           {
            "automargin": true,
            "type": "pie"
           }
          ],
          "scatter": [
           {
            "fillpattern": {
             "fillmode": "overlay",
             "size": 10,
             "solidity": 0.2
            },
            "type": "scatter"
           }
          ],
          "scatter3d": [
           {
            "line": {
             "colorbar": {
              "outlinewidth": 0,
              "ticks": ""
             }
            },
            "marker": {
             "colorbar": {
              "outlinewidth": 0,
              "ticks": ""
             }
            },
            "type": "scatter3d"
           }
          ],
          "scattercarpet": [
           {
            "marker": {
             "colorbar": {
              "outlinewidth": 0,
              "ticks": ""
             }
            },
            "type": "scattercarpet"
           }
          ],
          "scattergeo": [
           {
            "marker": {
             "colorbar": {
              "outlinewidth": 0,
              "ticks": ""
             }
            },
            "type": "scattergeo"
           }
          ],
          "scattergl": [
           {
            "marker": {
             "colorbar": {
              "outlinewidth": 0,
              "ticks": ""
             }
            },
            "type": "scattergl"
           }
          ],
          "scattermapbox": [
           {
            "marker": {
             "colorbar": {
              "outlinewidth": 0,
              "ticks": ""
             }
            },
            "type": "scattermapbox"
           }
          ],
          "scatterpolar": [
           {
            "marker": {
             "colorbar": {
              "outlinewidth": 0,
              "ticks": ""
             }
            },
            "type": "scatterpolar"
           }
          ],
          "scatterpolargl": [
           {
            "marker": {
             "colorbar": {
              "outlinewidth": 0,
              "ticks": ""
             }
            },
            "type": "scatterpolargl"
           }
          ],
          "scatterternary": [
           {
            "marker": {
             "colorbar": {
              "outlinewidth": 0,
              "ticks": ""
             }
            },
            "type": "scatterternary"
           }
          ],
          "surface": [
           {
            "colorbar": {
             "outlinewidth": 0,
             "ticks": ""
            },
            "colorscale": [
             [
              0,
              "#0d0887"
             ],
             [
              0.1111111111111111,
              "#46039f"
             ],
             [
              0.2222222222222222,
              "#7201a8"
             ],
             [
              0.3333333333333333,
              "#9c179e"
             ],
             [
              0.4444444444444444,
              "#bd3786"
             ],
             [
              0.5555555555555556,
              "#d8576b"
             ],
             [
              0.6666666666666666,
              "#ed7953"
             ],
             [
              0.7777777777777778,
              "#fb9f3a"
             ],
             [
              0.8888888888888888,
              "#fdca26"
             ],
             [
              1,
              "#f0f921"
             ]
            ],
            "type": "surface"
           }
          ],
          "table": [
           {
            "cells": {
             "fill": {
              "color": "#EBF0F8"
             },
             "line": {
              "color": "white"
             }
            },
            "header": {
             "fill": {
              "color": "#C8D4E3"
             },
             "line": {
              "color": "white"
             }
            },
            "type": "table"
           }
          ]
         },
         "layout": {
          "annotationdefaults": {
           "arrowcolor": "#2a3f5f",
           "arrowhead": 0,
           "arrowwidth": 1
          },
          "autotypenumbers": "strict",
          "coloraxis": {
           "colorbar": {
            "outlinewidth": 0,
            "ticks": ""
           }
          },
          "colorscale": {
           "diverging": [
            [
             0,
             "#8e0152"
            ],
            [
             0.1,
             "#c51b7d"
            ],
            [
             0.2,
             "#de77ae"
            ],
            [
             0.3,
             "#f1b6da"
            ],
            [
             0.4,
             "#fde0ef"
            ],
            [
             0.5,
             "#f7f7f7"
            ],
            [
             0.6,
             "#e6f5d0"
            ],
            [
             0.7,
             "#b8e186"
            ],
            [
             0.8,
             "#7fbc41"
            ],
            [
             0.9,
             "#4d9221"
            ],
            [
             1,
             "#276419"
            ]
           ],
           "sequential": [
            [
             0,
             "#0d0887"
            ],
            [
             0.1111111111111111,
             "#46039f"
            ],
            [
             0.2222222222222222,
             "#7201a8"
            ],
            [
             0.3333333333333333,
             "#9c179e"
            ],
            [
             0.4444444444444444,
             "#bd3786"
            ],
            [
             0.5555555555555556,
             "#d8576b"
            ],
            [
             0.6666666666666666,
             "#ed7953"
            ],
            [
             0.7777777777777778,
             "#fb9f3a"
            ],
            [
             0.8888888888888888,
             "#fdca26"
            ],
            [
             1,
             "#f0f921"
            ]
           ],
           "sequentialminus": [
            [
             0,
             "#0d0887"
            ],
            [
             0.1111111111111111,
             "#46039f"
            ],
            [
             0.2222222222222222,
             "#7201a8"
            ],
            [
             0.3333333333333333,
             "#9c179e"
            ],
            [
             0.4444444444444444,
             "#bd3786"
            ],
            [
             0.5555555555555556,
             "#d8576b"
            ],
            [
             0.6666666666666666,
             "#ed7953"
            ],
            [
             0.7777777777777778,
             "#fb9f3a"
            ],
            [
             0.8888888888888888,
             "#fdca26"
            ],
            [
             1,
             "#f0f921"
            ]
           ]
          },
          "colorway": [
           "#636efa",
           "#EF553B",
           "#00cc96",
           "#ab63fa",
           "#FFA15A",
           "#19d3f3",
           "#FF6692",
           "#B6E880",
           "#FF97FF",
           "#FECB52"
          ],
          "font": {
           "color": "#2a3f5f"
          },
          "geo": {
           "bgcolor": "white",
           "lakecolor": "white",
           "landcolor": "#E5ECF6",
           "showlakes": true,
           "showland": true,
           "subunitcolor": "white"
          },
          "hoverlabel": {
           "align": "left"
          },
          "hovermode": "closest",
          "mapbox": {
           "style": "light"
          },
          "paper_bgcolor": "white",
          "plot_bgcolor": "#E5ECF6",
          "polar": {
           "angularaxis": {
            "gridcolor": "white",
            "linecolor": "white",
            "ticks": ""
           },
           "bgcolor": "#E5ECF6",
           "radialaxis": {
            "gridcolor": "white",
            "linecolor": "white",
            "ticks": ""
           }
          },
          "scene": {
           "xaxis": {
            "backgroundcolor": "#E5ECF6",
            "gridcolor": "white",
            "gridwidth": 2,
            "linecolor": "white",
            "showbackground": true,
            "ticks": "",
            "zerolinecolor": "white"
           },
           "yaxis": {
            "backgroundcolor": "#E5ECF6",
            "gridcolor": "white",
            "gridwidth": 2,
            "linecolor": "white",
            "showbackground": true,
            "ticks": "",
            "zerolinecolor": "white"
           },
           "zaxis": {
            "backgroundcolor": "#E5ECF6",
            "gridcolor": "white",
            "gridwidth": 2,
            "linecolor": "white",
            "showbackground": true,
            "ticks": "",
            "zerolinecolor": "white"
           }
          },
          "shapedefaults": {
           "line": {
            "color": "#2a3f5f"
           }
          },
          "ternary": {
           "aaxis": {
            "gridcolor": "white",
            "linecolor": "white",
            "ticks": ""
           },
           "baxis": {
            "gridcolor": "white",
            "linecolor": "white",
            "ticks": ""
           },
           "bgcolor": "#E5ECF6",
           "caxis": {
            "gridcolor": "white",
            "linecolor": "white",
            "ticks": ""
           }
          },
          "title": {
           "x": 0.05
          },
          "xaxis": {
           "automargin": true,
           "gridcolor": "white",
           "linecolor": "white",
           "ticks": "",
           "title": {
            "standoff": 15
           },
           "zerolinecolor": "white",
           "zerolinewidth": 2
          },
          "yaxis": {
           "automargin": true,
           "gridcolor": "white",
           "linecolor": "white",
           "ticks": "",
           "title": {
            "standoff": 15
           },
           "zerolinecolor": "white",
           "zerolinewidth": 2
          }
         }
        }
       }
      },
      "text/html": [
       "<div>                            <div id=\"d35a81d3-a8b4-4198-ab38-7c1548c868ac\" class=\"plotly-graph-div\" style=\"height:300px; width:100%;\"></div>            <script type=\"text/javascript\">                require([\"plotly\"], function(Plotly) {                    window.PLOTLYENV=window.PLOTLYENV || {};                                    if (document.getElementById(\"d35a81d3-a8b4-4198-ab38-7c1548c868ac\")) {                    Plotly.newPlot(                        \"d35a81d3-a8b4-4198-ab38-7c1548c868ac\",                        [{\"customdata\":[[\"Argentina\"],[\"Norway\"],[\"UK\"],[\"UK\"],[\"Antartica\"],[\"Ireland\"],[\"Italy\"],[\"Australia\"],[\"Check Republic\"],[\"Greece\"],[\"Antartica\"],[\"Egypt\"],[\"UK\"],[\"Russia\"],[\"Panama\"],[\"France\"],[\"French Polynesia\"],[\"New Zealand\"],[\"Sweden\"],[\"India\"],[\"China\"],[\"Cuba\"],[\"Switzerland\"],[\"India\"],[\"France\"],[\"New Zealand\"],[\"USA\"],[\"Hungary\"],[\"Venezuela\"],[\"Ecuador\"],[\"Sri Lanka\"],[\"Netherlands\"],[\"Germany\"],[\"Tunisisa\"],[\"France\"],[\"USA\"],[\"Spain\"],[\"Africa\"],[\"Chile\"],[\"Australia\"],[\"France\"],[\"Fiyi\"],[\"USA\"],[\"Chile\"],[\"France\"],[\"Greece\"],[\"Mauritius\"],[\"Antilles\"],[\"Papua New Guinea\"],[\"Italy\"],[\"Syria\"],[\"Germany\"],[\"Ocean\"],[\"Portugal\"],[\"Cuba\"],[\"USA\"],[\"Argentina\"],[\"Egypt\"],[\"Solomon Islands\"],[\"Denmark\"],[\"Greece\"],[\"UK\"],[\"Canada\"],[\"Greece\"]],\"hovertemplate\":\"<b>%{hovertext}</b><br><br>lat=%{lat}<br>lon=%{lon}<br>countries=%{customdata[0]}<extra></extra>\",\"hovertext\":[\"La Plata\",\"Lofoten Islands (Maelstrom)\",\"London\",\"Cardiff (Pay de Galles)\",\"Adelie Land (Terre Adelie)\",\"Dublin (\\u00eele d'\\u00c9meraude)\",\"Venice\",\"Canberra (\\u00eeles de l'Oc\\u00e9anie)\",\"Prague (Boheme)\",\"Santorini\",\"Antartica (Graham Land)\",\"Suez\",\"Edinburgh (Scotia)\",\"Gulf of Ob\",\"Panama\",\"Brest (Arsenal de Brest)\",\"Marquesas Islands\",\"Wellington\",\"Stockholm\",\"Agatti Islands (archipel des Laquedives)\",\"Shanghai\",\"Havana\",\"Zurich\",\"Gulf of Mannar\",\"Havre\",\"Wellington\",\"Tampa\",\"Budapest (Danube River)\",\"Orinoco River\",\"Quito\",\"Mannar Island\",\"Leiden\",\"Koln (Rihn River)\",\"Tunisia\",\"Montpellier\",\"New Jersey\",\"Gran Canaria\",\"Ras Nouadhibou\",\"Cape Horn\",\"Tasmania\",\"Saint Malo\",\"Viti Levu\",\"Mexican Gulf\",\"Monte Sarmiento\",\"Paris (Hotel du Sommerard)\",\"Santorini\",\"Ile Ronde\",\"Antilles\",\"Bougainville Island\",\"Rome (Temple d'Hercule)\",\"Alepo (Syria)\",\"Dresden (Saxony)\",\"Baffin Bay\",\"Lisbon (Portugal)\",\"Old Bahama Channel\",\"New York\",\"Tierra del Fuego\",\"Cairo (Egypt)\",\"Solomon Islands\",\"Copenhagen (Ceyland)\",\"Karpathos\",\"Glasgow\",\"Cape Race\",\"Cape Matapan\"],\"lat\":[-34.920345,68.166672,51.509865,51.481583,-67.183055555556,53.35014,45.438759,-35.282001,50.073658,36.415,-75.250973,29.97371,55.953251,67.24444,8.983333,48.389999,-8.979355,-41.28664,59.334591,10.8575,31.224361,23.113592,47.36667,8.47,49.494166666667,-41.28664,27.964157,47.497913,8.56,-0.180653,9.05,52.160114,50.935173,36.816667,43.6119,39.833851,28.09973,20.771389,-55.98,-41.640079,48.647222222222,-17.8,25.681137,-54.45,48.864716,36.393154,45.81088,12.226079,-4.45321,41.902782,36.216667,51.050407,74.5061076,38.736946,22.5,40.73061,-54.554047,30.033333,-10.71667,55.676098,35.50701,55.860916,46.666667,36.384331796],\"legendgroup\":\"\",\"lon\":[-57.969559,13.75,-0.118092,-3.17909,142.38305555556,-6.266155,12.327145,149.128998,14.41854,25.4325,-0.071389,32.52627,-3.188267,73.0,-79.51667,-4.49,-139.691137,174.77557,18.06324,72.1934,121.46917,-82.366592,8.545094,79.02,0.10805555555556,174.77557,-82.452606,19.040236,-60.5,-78.467834,79.83333,4.49701,6.953101,10.183333,3.8772,-74.871826,-15.41343,-17.047222,-67.289167,146.315918,-2.0088888888889,178.0,-89.890137,-70.833,2.349014,25.46151,-73.35306,-69.060087,154.15329,12.496366,37.166668,13.737262,-67.12170641,-9.142685,-78.833,-73.935242,-67.225258,31.233334,156.84186,12.568337,27.21322,-4.251433,-53.066667,22.476331428],\"marker\":{\"color\":\"fuchsia\"},\"mode\":\"markers\",\"name\":\"\",\"showlegend\":false,\"subplot\":\"mapbox\",\"type\":\"scattermapbox\"}],                        {\"template\":{\"data\":{\"histogram2dcontour\":[{\"type\":\"histogram2dcontour\",\"colorbar\":{\"outlinewidth\":0,\"ticks\":\"\"},\"colorscale\":[[0.0,\"#0d0887\"],[0.1111111111111111,\"#46039f\"],[0.2222222222222222,\"#7201a8\"],[0.3333333333333333,\"#9c179e\"],[0.4444444444444444,\"#bd3786\"],[0.5555555555555556,\"#d8576b\"],[0.6666666666666666,\"#ed7953\"],[0.7777777777777778,\"#fb9f3a\"],[0.8888888888888888,\"#fdca26\"],[1.0,\"#f0f921\"]]}],\"choropleth\":[{\"type\":\"choropleth\",\"colorbar\":{\"outlinewidth\":0,\"ticks\":\"\"}}],\"histogram2d\":[{\"type\":\"histogram2d\",\"colorbar\":{\"outlinewidth\":0,\"ticks\":\"\"},\"colorscale\":[[0.0,\"#0d0887\"],[0.1111111111111111,\"#46039f\"],[0.2222222222222222,\"#7201a8\"],[0.3333333333333333,\"#9c179e\"],[0.4444444444444444,\"#bd3786\"],[0.5555555555555556,\"#d8576b\"],[0.6666666666666666,\"#ed7953\"],[0.7777777777777778,\"#fb9f3a\"],[0.8888888888888888,\"#fdca26\"],[1.0,\"#f0f921\"]]}],\"heatmap\":[{\"type\":\"heatmap\",\"colorbar\":{\"outlinewidth\":0,\"ticks\":\"\"},\"colorscale\":[[0.0,\"#0d0887\"],[0.1111111111111111,\"#46039f\"],[0.2222222222222222,\"#7201a8\"],[0.3333333333333333,\"#9c179e\"],[0.4444444444444444,\"#bd3786\"],[0.5555555555555556,\"#d8576b\"],[0.6666666666666666,\"#ed7953\"],[0.7777777777777778,\"#fb9f3a\"],[0.8888888888888888,\"#fdca26\"],[1.0,\"#f0f921\"]]}],\"heatmapgl\":[{\"type\":\"heatmapgl\",\"colorbar\":{\"outlinewidth\":0,\"ticks\":\"\"},\"colorscale\":[[0.0,\"#0d0887\"],[0.1111111111111111,\"#46039f\"],[0.2222222222222222,\"#7201a8\"],[0.3333333333333333,\"#9c179e\"],[0.4444444444444444,\"#bd3786\"],[0.5555555555555556,\"#d8576b\"],[0.6666666666666666,\"#ed7953\"],[0.7777777777777778,\"#fb9f3a\"],[0.8888888888888888,\"#fdca26\"],[1.0,\"#f0f921\"]]}],\"contourcarpet\":[{\"type\":\"contourcarpet\",\"colorbar\":{\"outlinewidth\":0,\"ticks\":\"\"}}],\"contour\":[{\"type\":\"contour\",\"colorbar\":{\"outlinewidth\":0,\"ticks\":\"\"},\"colorscale\":[[0.0,\"#0d0887\"],[0.1111111111111111,\"#46039f\"],[0.2222222222222222,\"#7201a8\"],[0.3333333333333333,\"#9c179e\"],[0.4444444444444444,\"#bd3786\"],[0.5555555555555556,\"#d8576b\"],[0.6666666666666666,\"#ed7953\"],[0.7777777777777778,\"#fb9f3a\"],[0.8888888888888888,\"#fdca26\"],[1.0,\"#f0f921\"]]}],\"surface\":[{\"type\":\"surface\",\"colorbar\":{\"outlinewidth\":0,\"ticks\":\"\"},\"colorscale\":[[0.0,\"#0d0887\"],[0.1111111111111111,\"#46039f\"],[0.2222222222222222,\"#7201a8\"],[0.3333333333333333,\"#9c179e\"],[0.4444444444444444,\"#bd3786\"],[0.5555555555555556,\"#d8576b\"],[0.6666666666666666,\"#ed7953\"],[0.7777777777777778,\"#fb9f3a\"],[0.8888888888888888,\"#fdca26\"],[1.0,\"#f0f921\"]]}],\"mesh3d\":[{\"type\":\"mesh3d\",\"colorbar\":{\"outlinewidth\":0,\"ticks\":\"\"}}],\"scatter\":[{\"fillpattern\":{\"fillmode\":\"overlay\",\"size\":10,\"solidity\":0.2},\"type\":\"scatter\"}],\"parcoords\":[{\"type\":\"parcoords\",\"line\":{\"colorbar\":{\"outlinewidth\":0,\"ticks\":\"\"}}}],\"scatterpolargl\":[{\"type\":\"scatterpolargl\",\"marker\":{\"colorbar\":{\"outlinewidth\":0,\"ticks\":\"\"}}}],\"bar\":[{\"error_x\":{\"color\":\"#2a3f5f\"},\"error_y\":{\"color\":\"#2a3f5f\"},\"marker\":{\"line\":{\"color\":\"#E5ECF6\",\"width\":0.5},\"pattern\":{\"fillmode\":\"overlay\",\"size\":10,\"solidity\":0.2}},\"type\":\"bar\"}],\"scattergeo\":[{\"type\":\"scattergeo\",\"marker\":{\"colorbar\":{\"outlinewidth\":0,\"ticks\":\"\"}}}],\"scatterpolar\":[{\"type\":\"scatterpolar\",\"marker\":{\"colorbar\":{\"outlinewidth\":0,\"ticks\":\"\"}}}],\"histogram\":[{\"marker\":{\"pattern\":{\"fillmode\":\"overlay\",\"size\":10,\"solidity\":0.2}},\"type\":\"histogram\"}],\"scattergl\":[{\"type\":\"scattergl\",\"marker\":{\"colorbar\":{\"outlinewidth\":0,\"ticks\":\"\"}}}],\"scatter3d\":[{\"type\":\"scatter3d\",\"line\":{\"colorbar\":{\"outlinewidth\":0,\"ticks\":\"\"}},\"marker\":{\"colorbar\":{\"outlinewidth\":0,\"ticks\":\"\"}}}],\"scattermapbox\":[{\"type\":\"scattermapbox\",\"marker\":{\"colorbar\":{\"outlinewidth\":0,\"ticks\":\"\"}}}],\"scatterternary\":[{\"type\":\"scatterternary\",\"marker\":{\"colorbar\":{\"outlinewidth\":0,\"ticks\":\"\"}}}],\"scattercarpet\":[{\"type\":\"scattercarpet\",\"marker\":{\"colorbar\":{\"outlinewidth\":0,\"ticks\":\"\"}}}],\"carpet\":[{\"aaxis\":{\"endlinecolor\":\"#2a3f5f\",\"gridcolor\":\"white\",\"linecolor\":\"white\",\"minorgridcolor\":\"white\",\"startlinecolor\":\"#2a3f5f\"},\"baxis\":{\"endlinecolor\":\"#2a3f5f\",\"gridcolor\":\"white\",\"linecolor\":\"white\",\"minorgridcolor\":\"white\",\"startlinecolor\":\"#2a3f5f\"},\"type\":\"carpet\"}],\"table\":[{\"cells\":{\"fill\":{\"color\":\"#EBF0F8\"},\"line\":{\"color\":\"white\"}},\"header\":{\"fill\":{\"color\":\"#C8D4E3\"},\"line\":{\"color\":\"white\"}},\"type\":\"table\"}],\"barpolar\":[{\"marker\":{\"line\":{\"color\":\"#E5ECF6\",\"width\":0.5},\"pattern\":{\"fillmode\":\"overlay\",\"size\":10,\"solidity\":0.2}},\"type\":\"barpolar\"}],\"pie\":[{\"automargin\":true,\"type\":\"pie\"}]},\"layout\":{\"autotypenumbers\":\"strict\",\"colorway\":[\"#636efa\",\"#EF553B\",\"#00cc96\",\"#ab63fa\",\"#FFA15A\",\"#19d3f3\",\"#FF6692\",\"#B6E880\",\"#FF97FF\",\"#FECB52\"],\"font\":{\"color\":\"#2a3f5f\"},\"hovermode\":\"closest\",\"hoverlabel\":{\"align\":\"left\"},\"paper_bgcolor\":\"white\",\"plot_bgcolor\":\"#E5ECF6\",\"polar\":{\"bgcolor\":\"#E5ECF6\",\"angularaxis\":{\"gridcolor\":\"white\",\"linecolor\":\"white\",\"ticks\":\"\"},\"radialaxis\":{\"gridcolor\":\"white\",\"linecolor\":\"white\",\"ticks\":\"\"}},\"ternary\":{\"bgcolor\":\"#E5ECF6\",\"aaxis\":{\"gridcolor\":\"white\",\"linecolor\":\"white\",\"ticks\":\"\"},\"baxis\":{\"gridcolor\":\"white\",\"linecolor\":\"white\",\"ticks\":\"\"},\"caxis\":{\"gridcolor\":\"white\",\"linecolor\":\"white\",\"ticks\":\"\"}},\"coloraxis\":{\"colorbar\":{\"outlinewidth\":0,\"ticks\":\"\"}},\"colorscale\":{\"sequential\":[[0.0,\"#0d0887\"],[0.1111111111111111,\"#46039f\"],[0.2222222222222222,\"#7201a8\"],[0.3333333333333333,\"#9c179e\"],[0.4444444444444444,\"#bd3786\"],[0.5555555555555556,\"#d8576b\"],[0.6666666666666666,\"#ed7953\"],[0.7777777777777778,\"#fb9f3a\"],[0.8888888888888888,\"#fdca26\"],[1.0,\"#f0f921\"]],\"sequentialminus\":[[0.0,\"#0d0887\"],[0.1111111111111111,\"#46039f\"],[0.2222222222222222,\"#7201a8\"],[0.3333333333333333,\"#9c179e\"],[0.4444444444444444,\"#bd3786\"],[0.5555555555555556,\"#d8576b\"],[0.6666666666666666,\"#ed7953\"],[0.7777777777777778,\"#fb9f3a\"],[0.8888888888888888,\"#fdca26\"],[1.0,\"#f0f921\"]],\"diverging\":[[0,\"#8e0152\"],[0.1,\"#c51b7d\"],[0.2,\"#de77ae\"],[0.3,\"#f1b6da\"],[0.4,\"#fde0ef\"],[0.5,\"#f7f7f7\"],[0.6,\"#e6f5d0\"],[0.7,\"#b8e186\"],[0.8,\"#7fbc41\"],[0.9,\"#4d9221\"],[1,\"#276419\"]]},\"xaxis\":{\"gridcolor\":\"white\",\"linecolor\":\"white\",\"ticks\":\"\",\"title\":{\"standoff\":15},\"zerolinecolor\":\"white\",\"automargin\":true,\"zerolinewidth\":2},\"yaxis\":{\"gridcolor\":\"white\",\"linecolor\":\"white\",\"ticks\":\"\",\"title\":{\"standoff\":15},\"zerolinecolor\":\"white\",\"automargin\":true,\"zerolinewidth\":2},\"scene\":{\"xaxis\":{\"backgroundcolor\":\"#E5ECF6\",\"gridcolor\":\"white\",\"linecolor\":\"white\",\"showbackground\":true,\"ticks\":\"\",\"zerolinecolor\":\"white\",\"gridwidth\":2},\"yaxis\":{\"backgroundcolor\":\"#E5ECF6\",\"gridcolor\":\"white\",\"linecolor\":\"white\",\"showbackground\":true,\"ticks\":\"\",\"zerolinecolor\":\"white\",\"gridwidth\":2},\"zaxis\":{\"backgroundcolor\":\"#E5ECF6\",\"gridcolor\":\"white\",\"linecolor\":\"white\",\"showbackground\":true,\"ticks\":\"\",\"zerolinecolor\":\"white\",\"gridwidth\":2}},\"shapedefaults\":{\"line\":{\"color\":\"#2a3f5f\"}},\"annotationdefaults\":{\"arrowcolor\":\"#2a3f5f\",\"arrowhead\":0,\"arrowwidth\":1},\"geo\":{\"bgcolor\":\"white\",\"landcolor\":\"#E5ECF6\",\"subunitcolor\":\"white\",\"showland\":true,\"showlakes\":true,\"lakecolor\":\"white\"},\"title\":{\"x\":0.05},\"mapbox\":{\"style\":\"light\"}}},\"mapbox\":{\"domain\":{\"x\":[0.0,1.0],\"y\":[0.0,1.0]},\"center\":{\"lat\":21.899587183270828,\"lon\":9.760839503753541},\"zoom\":3,\"style\":\"open-street-map\"},\"legend\":{\"tracegroupgap\":0},\"margin\":{\"t\":0,\"r\":0,\"l\":0,\"b\":0},\"height\":300},                        {\"responsive\": true}                    ).then(function(){\n",
       "                            \n",
       "var gd = document.getElementById('d35a81d3-a8b4-4198-ab38-7c1548c868ac');\n",
       "var x = new MutationObserver(function (mutations, observer) {{\n",
       "        var display = window.getComputedStyle(gd).display;\n",
       "        if (!display || display === 'none') {{\n",
       "            console.log([gd, 'removed!']);\n",
       "            Plotly.purge(gd);\n",
       "            observer.disconnect();\n",
       "        }}\n",
       "}});\n",
       "\n",
       "// Listen for the removal of the full notebook cells\n",
       "var notebookContainer = gd.closest('#notebook-container');\n",
       "if (notebookContainer) {{\n",
       "    x.observe(notebookContainer, {childList: true});\n",
       "}}\n",
       "\n",
       "// Listen for the clearing of the current output cell\n",
       "var outputEl = gd.closest('.output');\n",
       "if (outputEl) {{\n",
       "    x.observe(outputEl, {childList: true});\n",
       "}}\n",
       "\n",
       "                        })                };                });            </script>        </div>"
      ]
     },
     "metadata": {},
     "output_type": "display_data"
    }
   ],
   "source": [
    "import pandas as pd\n",
    "import plotly.express as px\n",
    "\n",
    "fig = px.scatter_mapbox(data, lat=\"lat\", lon=\"lon\", hover_name=\"cities\", hover_data=[\"countries\"], #this is the text\n",
    "                        color_discrete_sequence=[\"fuchsia\"], zoom=3, height=300)                     #that goes inside the boxes\n",
    "\n",
    "fig.update_layout(mapbox_style=\"open-street-map\")\n",
    "fig.update_layout(margin={\"r\":0,\"t\":0,\"l\":0,\"b\":0})\n",
    "\n",
    "fig.show()"
   ]
  },
  {
   "cell_type": "markdown",
   "id": "6c02e1cb",
   "metadata": {},
   "source": [
    "And then this other one."
   ]
  },
  {
   "cell_type": "markdown",
   "id": "1d63ea91",
   "metadata": {},
   "source": [
    "# Activity for you:\n",
    "\n",
    "Move around your mouse on the top right corner of the map and click on the picture camera, where it says \"Download plot as PNG\". You will be able to download your map in your own laptop!"
   ]
  },
  {
   "cell_type": "code",
   "execution_count": 81,
   "id": "99c91117",
   "metadata": {},
   "outputs": [
    {
     "data": {
      "application/vnd.plotly.v1+json": {
       "config": {
        "plotlyServerURL": "https://plot.ly"
       },
       "data": [
        {
         "lat": [
          -34.920345,
          68.166672,
          51.509865,
          51.481583,
          -67.183055555556,
          53.35014,
          45.438759,
          -35.282001,
          50.073658,
          36.415,
          -75.250973,
          29.97371,
          55.953251,
          67.24444,
          8.983333,
          48.389999,
          -8.979355,
          -41.28664,
          59.334591,
          10.8575,
          31.224361,
          23.113592,
          47.36667,
          8.47,
          49.494166666667,
          -41.28664,
          27.964157,
          47.497913,
          8.56,
          -0.180653,
          9.05,
          52.160114,
          50.935173,
          36.816667,
          43.6119,
          39.833851,
          28.09973,
          20.771389,
          -55.98,
          -41.640079,
          48.647222222222,
          -17.8,
          25.681137,
          -54.45,
          48.864716,
          36.393154,
          45.81088,
          12.226079,
          -4.45321,
          41.902782,
          36.216667,
          51.050407,
          74.5061076,
          38.736946,
          22.5,
          40.73061,
          -54.554047,
          30.033333,
          -10.71667,
          55.676098,
          35.50701,
          55.860916,
          46.666667,
          36.384331796
         ],
         "lon": [
          -57.969559,
          13.75,
          -0.118092,
          -3.17909,
          142.38305555556,
          -6.266155,
          12.327145,
          149.128998,
          14.41854,
          25.4325,
          -0.071389,
          32.52627,
          -3.188267,
          73,
          -79.51667,
          -4.49,
          -139.691137,
          174.77557,
          18.06324,
          72.1934,
          121.46917,
          -82.366592,
          8.545094,
          79.02,
          0.10805555555556,
          174.77557,
          -82.452606,
          19.040236,
          -60.5,
          -78.467834,
          79.83333,
          4.49701,
          6.953101,
          10.183333,
          3.8772,
          -74.871826,
          -15.41343,
          -17.047222,
          -67.289167,
          146.315918,
          -2.0088888888889,
          178,
          -89.890137,
          -70.833,
          2.349014,
          25.46151,
          -73.35306,
          -69.060087,
          154.15329,
          12.496366,
          37.166668,
          13.737262,
          -67.12170641,
          -9.142685,
          -78.833,
          -73.935242,
          -67.225258,
          31.233334,
          156.84186,
          12.568337,
          27.21322,
          -4.251433,
          -53.066667,
          22.476331428
         ],
         "mode": "markers",
         "text": [
          "La Plata, Argentina",
          "Lofoten Islands (Maelstrom), Norway",
          "London, UK",
          "Cardiff (Pay de Galles), UK",
          "Adelie Land (Terre Adelie), Antartica",
          "Dublin (île d'Émeraude), Ireland",
          "Venice, Italy",
          "Canberra (îles de l'Océanie), Australia",
          "Prague (Boheme), Check Republic",
          "Santorini, Greece",
          "Antartica (Graham Land), Antartica",
          "Suez, Egypt",
          "Edinburgh (Scotia), UK",
          "Gulf of Ob, Russia",
          "Panama, Panama",
          "Brest (Arsenal de Brest), France",
          "Marquesas Islands, French Polynesia",
          "Wellington, New Zealand",
          "Stockholm, Sweden",
          "Agatti Islands (archipel des Laquedives), India",
          "Shanghai, China",
          "Havana, Cuba",
          "Zurich, Switzerland",
          "Gulf of Mannar, India",
          "Havre, France",
          "Wellington, New Zealand",
          "Tampa, USA",
          "Budapest (Danube River), Hungary",
          "Orinoco River, Venezuela",
          "Quito, Ecuador",
          "Mannar Island, Sri Lanka",
          "Leiden, Netherlands",
          "Koln (Rihn River), Germany",
          "Tunisia, Tunisisa",
          "Montpellier, France",
          "New Jersey, USA",
          "Gran Canaria, Spain",
          "Ras Nouadhibou, Africa",
          "Cape Horn, Chile",
          "Tasmania, Australia",
          "Saint Malo, France",
          "Viti Levu, Fiyi",
          "Mexican Gulf, USA",
          "Monte Sarmiento, Chile",
          "Paris (Hotel du Sommerard), France",
          "Santorini, Greece",
          "Ile Ronde, Mauritius",
          "Antilles, Antilles",
          "Bougainville Island, Papua New Guinea",
          "Rome (Temple d'Hercule), Italy",
          "Alepo (Syria), Syria",
          "Dresden (Saxony), Germany",
          "Baffin Bay, Ocean",
          "Lisbon (Portugal), Portugal",
          "Old Bahama Channel, Cuba",
          "New York, USA",
          "Tierra del Fuego, Argentina",
          "Cairo (Egypt), Egypt",
          "Solomon Islands, Solomon Islands",
          "Copenhagen (Ceyland), Denmark",
          "Karpathos, Greece",
          "Glasgow, UK",
          "Cape Race, Canada",
          "Cape Matapan, Greece"
         ],
         "type": "scattergeo"
        }
       ],
       "layout": {
        "geo": {
         "scope": "world"
        },
        "template": {
         "data": {
          "bar": [
           {
            "error_x": {
             "color": "#2a3f5f"
            },
            "error_y": {
             "color": "#2a3f5f"
            },
            "marker": {
             "line": {
              "color": "#E5ECF6",
              "width": 0.5
             },
             "pattern": {
              "fillmode": "overlay",
              "size": 10,
              "solidity": 0.2
             }
            },
            "type": "bar"
           }
          ],
          "barpolar": [
           {
            "marker": {
             "line": {
              "color": "#E5ECF6",
              "width": 0.5
             },
             "pattern": {
              "fillmode": "overlay",
              "size": 10,
              "solidity": 0.2
             }
            },
            "type": "barpolar"
           }
          ],
          "carpet": [
           {
            "aaxis": {
             "endlinecolor": "#2a3f5f",
             "gridcolor": "white",
             "linecolor": "white",
             "minorgridcolor": "white",
             "startlinecolor": "#2a3f5f"
            },
            "baxis": {
             "endlinecolor": "#2a3f5f",
             "gridcolor": "white",
             "linecolor": "white",
             "minorgridcolor": "white",
             "startlinecolor": "#2a3f5f"
            },
            "type": "carpet"
           }
          ],
          "choropleth": [
           {
            "colorbar": {
             "outlinewidth": 0,
             "ticks": ""
            },
            "type": "choropleth"
           }
          ],
          "contour": [
           {
            "colorbar": {
             "outlinewidth": 0,
             "ticks": ""
            },
            "colorscale": [
             [
              0,
              "#0d0887"
             ],
             [
              0.1111111111111111,
              "#46039f"
             ],
             [
              0.2222222222222222,
              "#7201a8"
             ],
             [
              0.3333333333333333,
              "#9c179e"
             ],
             [
              0.4444444444444444,
              "#bd3786"
             ],
             [
              0.5555555555555556,
              "#d8576b"
             ],
             [
              0.6666666666666666,
              "#ed7953"
             ],
             [
              0.7777777777777778,
              "#fb9f3a"
             ],
             [
              0.8888888888888888,
              "#fdca26"
             ],
             [
              1,
              "#f0f921"
             ]
            ],
            "type": "contour"
           }
          ],
          "contourcarpet": [
           {
            "colorbar": {
             "outlinewidth": 0,
             "ticks": ""
            },
            "type": "contourcarpet"
           }
          ],
          "heatmap": [
           {
            "colorbar": {
             "outlinewidth": 0,
             "ticks": ""
            },
            "colorscale": [
             [
              0,
              "#0d0887"
             ],
             [
              0.1111111111111111,
              "#46039f"
             ],
             [
              0.2222222222222222,
              "#7201a8"
             ],
             [
              0.3333333333333333,
              "#9c179e"
             ],
             [
              0.4444444444444444,
              "#bd3786"
             ],
             [
              0.5555555555555556,
              "#d8576b"
             ],
             [
              0.6666666666666666,
              "#ed7953"
             ],
             [
              0.7777777777777778,
              "#fb9f3a"
             ],
             [
              0.8888888888888888,
              "#fdca26"
             ],
             [
              1,
              "#f0f921"
             ]
            ],
            "type": "heatmap"
           }
          ],
          "heatmapgl": [
           {
            "colorbar": {
             "outlinewidth": 0,
             "ticks": ""
            },
            "colorscale": [
             [
              0,
              "#0d0887"
             ],
             [
              0.1111111111111111,
              "#46039f"
             ],
             [
              0.2222222222222222,
              "#7201a8"
             ],
             [
              0.3333333333333333,
              "#9c179e"
             ],
             [
              0.4444444444444444,
              "#bd3786"
             ],
             [
              0.5555555555555556,
              "#d8576b"
             ],
             [
              0.6666666666666666,
              "#ed7953"
             ],
             [
              0.7777777777777778,
              "#fb9f3a"
             ],
             [
              0.8888888888888888,
              "#fdca26"
             ],
             [
              1,
              "#f0f921"
             ]
            ],
            "type": "heatmapgl"
           }
          ],
          "histogram": [
           {
            "marker": {
             "pattern": {
              "fillmode": "overlay",
              "size": 10,
              "solidity": 0.2
             }
            },
            "type": "histogram"
           }
          ],
          "histogram2d": [
           {
            "colorbar": {
             "outlinewidth": 0,
             "ticks": ""
            },
            "colorscale": [
             [
              0,
              "#0d0887"
             ],
             [
              0.1111111111111111,
              "#46039f"
             ],
             [
              0.2222222222222222,
              "#7201a8"
             ],
             [
              0.3333333333333333,
              "#9c179e"
             ],
             [
              0.4444444444444444,
              "#bd3786"
             ],
             [
              0.5555555555555556,
              "#d8576b"
             ],
             [
              0.6666666666666666,
              "#ed7953"
             ],
             [
              0.7777777777777778,
              "#fb9f3a"
             ],
             [
              0.8888888888888888,
              "#fdca26"
             ],
             [
              1,
              "#f0f921"
             ]
            ],
            "type": "histogram2d"
           }
          ],
          "histogram2dcontour": [
           {
            "colorbar": {
             "outlinewidth": 0,
             "ticks": ""
            },
            "colorscale": [
             [
              0,
              "#0d0887"
             ],
             [
              0.1111111111111111,
              "#46039f"
             ],
             [
              0.2222222222222222,
              "#7201a8"
             ],
             [
              0.3333333333333333,
              "#9c179e"
             ],
             [
              0.4444444444444444,
              "#bd3786"
             ],
             [
              0.5555555555555556,
              "#d8576b"
             ],
             [
              0.6666666666666666,
              "#ed7953"
             ],
             [
              0.7777777777777778,
              "#fb9f3a"
             ],
             [
              0.8888888888888888,
              "#fdca26"
             ],
             [
              1,
              "#f0f921"
             ]
            ],
            "type": "histogram2dcontour"
           }
          ],
          "mesh3d": [
           {
            "colorbar": {
             "outlinewidth": 0,
             "ticks": ""
            },
            "type": "mesh3d"
           }
          ],
          "parcoords": [
           {
            "line": {
             "colorbar": {
              "outlinewidth": 0,
              "ticks": ""
             }
            },
            "type": "parcoords"
           }
          ],
          "pie": [
           {
            "automargin": true,
            "type": "pie"
           }
          ],
          "scatter": [
           {
            "fillpattern": {
             "fillmode": "overlay",
             "size": 10,
             "solidity": 0.2
            },
            "type": "scatter"
           }
          ],
          "scatter3d": [
           {
            "line": {
             "colorbar": {
              "outlinewidth": 0,
              "ticks": ""
             }
            },
            "marker": {
             "colorbar": {
              "outlinewidth": 0,
              "ticks": ""
             }
            },
            "type": "scatter3d"
           }
          ],
          "scattercarpet": [
           {
            "marker": {
             "colorbar": {
              "outlinewidth": 0,
              "ticks": ""
             }
            },
            "type": "scattercarpet"
           }
          ],
          "scattergeo": [
           {
            "marker": {
             "colorbar": {
              "outlinewidth": 0,
              "ticks": ""
             }
            },
            "type": "scattergeo"
           }
          ],
          "scattergl": [
           {
            "marker": {
             "colorbar": {
              "outlinewidth": 0,
              "ticks": ""
             }
            },
            "type": "scattergl"
           }
          ],
          "scattermapbox": [
           {
            "marker": {
             "colorbar": {
              "outlinewidth": 0,
              "ticks": ""
             }
            },
            "type": "scattermapbox"
           }
          ],
          "scatterpolar": [
           {
            "marker": {
             "colorbar": {
              "outlinewidth": 0,
              "ticks": ""
             }
            },
            "type": "scatterpolar"
           }
          ],
          "scatterpolargl": [
           {
            "marker": {
             "colorbar": {
              "outlinewidth": 0,
              "ticks": ""
             }
            },
            "type": "scatterpolargl"
           }
          ],
          "scatterternary": [
           {
            "marker": {
             "colorbar": {
              "outlinewidth": 0,
              "ticks": ""
             }
            },
            "type": "scatterternary"
           }
          ],
          "surface": [
           {
            "colorbar": {
             "outlinewidth": 0,
             "ticks": ""
            },
            "colorscale": [
             [
              0,
              "#0d0887"
             ],
             [
              0.1111111111111111,
              "#46039f"
             ],
             [
              0.2222222222222222,
              "#7201a8"
             ],
             [
              0.3333333333333333,
              "#9c179e"
             ],
             [
              0.4444444444444444,
              "#bd3786"
             ],
             [
              0.5555555555555556,
              "#d8576b"
             ],
             [
              0.6666666666666666,
              "#ed7953"
             ],
             [
              0.7777777777777778,
              "#fb9f3a"
             ],
             [
              0.8888888888888888,
              "#fdca26"
             ],
             [
              1,
              "#f0f921"
             ]
            ],
            "type": "surface"
           }
          ],
          "table": [
           {
            "cells": {
             "fill": {
              "color": "#EBF0F8"
             },
             "line": {
              "color": "white"
             }
            },
            "header": {
             "fill": {
              "color": "#C8D4E3"
             },
             "line": {
              "color": "white"
             }
            },
            "type": "table"
           }
          ]
         },
         "layout": {
          "annotationdefaults": {
           "arrowcolor": "#2a3f5f",
           "arrowhead": 0,
           "arrowwidth": 1
          },
          "autotypenumbers": "strict",
          "coloraxis": {
           "colorbar": {
            "outlinewidth": 0,
            "ticks": ""
           }
          },
          "colorscale": {
           "diverging": [
            [
             0,
             "#8e0152"
            ],
            [
             0.1,
             "#c51b7d"
            ],
            [
             0.2,
             "#de77ae"
            ],
            [
             0.3,
             "#f1b6da"
            ],
            [
             0.4,
             "#fde0ef"
            ],
            [
             0.5,
             "#f7f7f7"
            ],
            [
             0.6,
             "#e6f5d0"
            ],
            [
             0.7,
             "#b8e186"
            ],
            [
             0.8,
             "#7fbc41"
            ],
            [
             0.9,
             "#4d9221"
            ],
            [
             1,
             "#276419"
            ]
           ],
           "sequential": [
            [
             0,
             "#0d0887"
            ],
            [
             0.1111111111111111,
             "#46039f"
            ],
            [
             0.2222222222222222,
             "#7201a8"
            ],
            [
             0.3333333333333333,
             "#9c179e"
            ],
            [
             0.4444444444444444,
             "#bd3786"
            ],
            [
             0.5555555555555556,
             "#d8576b"
            ],
            [
             0.6666666666666666,
             "#ed7953"
            ],
            [
             0.7777777777777778,
             "#fb9f3a"
            ],
            [
             0.8888888888888888,
             "#fdca26"
            ],
            [
             1,
             "#f0f921"
            ]
           ],
           "sequentialminus": [
            [
             0,
             "#0d0887"
            ],
            [
             0.1111111111111111,
             "#46039f"
            ],
            [
             0.2222222222222222,
             "#7201a8"
            ],
            [
             0.3333333333333333,
             "#9c179e"
            ],
            [
             0.4444444444444444,
             "#bd3786"
            ],
            [
             0.5555555555555556,
             "#d8576b"
            ],
            [
             0.6666666666666666,
             "#ed7953"
            ],
            [
             0.7777777777777778,
             "#fb9f3a"
            ],
            [
             0.8888888888888888,
             "#fdca26"
            ],
            [
             1,
             "#f0f921"
            ]
           ]
          },
          "colorway": [
           "#636efa",
           "#EF553B",
           "#00cc96",
           "#ab63fa",
           "#FFA15A",
           "#19d3f3",
           "#FF6692",
           "#B6E880",
           "#FF97FF",
           "#FECB52"
          ],
          "font": {
           "color": "#2a3f5f"
          },
          "geo": {
           "bgcolor": "white",
           "lakecolor": "white",
           "landcolor": "#E5ECF6",
           "showlakes": true,
           "showland": true,
           "subunitcolor": "white"
          },
          "hoverlabel": {
           "align": "left"
          },
          "hovermode": "closest",
          "mapbox": {
           "style": "light"
          },
          "paper_bgcolor": "white",
          "plot_bgcolor": "#E5ECF6",
          "polar": {
           "angularaxis": {
            "gridcolor": "white",
            "linecolor": "white",
            "ticks": ""
           },
           "bgcolor": "#E5ECF6",
           "radialaxis": {
            "gridcolor": "white",
            "linecolor": "white",
            "ticks": ""
           }
          },
          "scene": {
           "xaxis": {
            "backgroundcolor": "#E5ECF6",
            "gridcolor": "white",
            "gridwidth": 2,
            "linecolor": "white",
            "showbackground": true,
            "ticks": "",
            "zerolinecolor": "white"
           },
           "yaxis": {
            "backgroundcolor": "#E5ECF6",
            "gridcolor": "white",
            "gridwidth": 2,
            "linecolor": "white",
            "showbackground": true,
            "ticks": "",
            "zerolinecolor": "white"
           },
           "zaxis": {
            "backgroundcolor": "#E5ECF6",
            "gridcolor": "white",
            "gridwidth": 2,
            "linecolor": "white",
            "showbackground": true,
            "ticks": "",
            "zerolinecolor": "white"
           }
          },
          "shapedefaults": {
           "line": {
            "color": "#2a3f5f"
           }
          },
          "ternary": {
           "aaxis": {
            "gridcolor": "white",
            "linecolor": "white",
            "ticks": ""
           },
           "baxis": {
            "gridcolor": "white",
            "linecolor": "white",
            "ticks": ""
           },
           "bgcolor": "#E5ECF6",
           "caxis": {
            "gridcolor": "white",
            "linecolor": "white",
            "ticks": ""
           }
          },
          "title": {
           "x": 0.05
          },
          "xaxis": {
           "automargin": true,
           "gridcolor": "white",
           "linecolor": "white",
           "ticks": "",
           "title": {
            "standoff": 15
           },
           "zerolinecolor": "white",
           "zerolinewidth": 2
          },
          "yaxis": {
           "automargin": true,
           "gridcolor": "white",
           "linecolor": "white",
           "ticks": "",
           "title": {
            "standoff": 15
           },
           "zerolinecolor": "white",
           "zerolinewidth": 2
          }
         }
        },
        "title": {
         "text": "Around the World in 80 days"
        }
       }
      },
      "text/html": [
       "<div>                            <div id=\"b250e8f3-fb84-4420-b844-ee9246f0282b\" class=\"plotly-graph-div\" style=\"height:525px; width:100%;\"></div>            <script type=\"text/javascript\">                require([\"plotly\"], function(Plotly) {                    window.PLOTLYENV=window.PLOTLYENV || {};                                    if (document.getElementById(\"b250e8f3-fb84-4420-b844-ee9246f0282b\")) {                    Plotly.newPlot(                        \"b250e8f3-fb84-4420-b844-ee9246f0282b\",                        [{\"lat\":[-34.920345,68.166672,51.509865,51.481583,-67.183055555556,53.35014,45.438759,-35.282001,50.073658,36.415,-75.250973,29.97371,55.953251,67.24444,8.983333,48.389999,-8.979355,-41.28664,59.334591,10.8575,31.224361,23.113592,47.36667,8.47,49.494166666667,-41.28664,27.964157,47.497913,8.56,-0.180653,9.05,52.160114,50.935173,36.816667,43.6119,39.833851,28.09973,20.771389,-55.98,-41.640079,48.647222222222,-17.8,25.681137,-54.45,48.864716,36.393154,45.81088,12.226079,-4.45321,41.902782,36.216667,51.050407,74.5061076,38.736946,22.5,40.73061,-54.554047,30.033333,-10.71667,55.676098,35.50701,55.860916,46.666667,36.384331796],\"lon\":[-57.969559,13.75,-0.118092,-3.17909,142.38305555556,-6.266155,12.327145,149.128998,14.41854,25.4325,-0.071389,32.52627,-3.188267,73.0,-79.51667,-4.49,-139.691137,174.77557,18.06324,72.1934,121.46917,-82.366592,8.545094,79.02,0.10805555555556,174.77557,-82.452606,19.040236,-60.5,-78.467834,79.83333,4.49701,6.953101,10.183333,3.8772,-74.871826,-15.41343,-17.047222,-67.289167,146.315918,-2.0088888888889,178.0,-89.890137,-70.833,2.349014,25.46151,-73.35306,-69.060087,154.15329,12.496366,37.166668,13.737262,-67.12170641,-9.142685,-78.833,-73.935242,-67.225258,31.233334,156.84186,12.568337,27.21322,-4.251433,-53.066667,22.476331428],\"mode\":\"markers\",\"text\":[\"La Plata, Argentina\",\"Lofoten Islands (Maelstrom), Norway\",\"London, UK\",\"Cardiff (Pay de Galles), UK\",\"Adelie Land (Terre Adelie), Antartica\",\"Dublin (\\u00eele d'\\u00c9meraude), Ireland\",\"Venice, Italy\",\"Canberra (\\u00eeles de l'Oc\\u00e9anie), Australia\",\"Prague (Boheme), Check Republic\",\"Santorini, Greece\",\"Antartica (Graham Land), Antartica\",\"Suez, Egypt\",\"Edinburgh (Scotia), UK\",\"Gulf of Ob, Russia\",\"Panama, Panama\",\"Brest (Arsenal de Brest), France\",\"Marquesas Islands, French Polynesia\",\"Wellington, New Zealand\",\"Stockholm, Sweden\",\"Agatti Islands (archipel des Laquedives), India\",\"Shanghai, China\",\"Havana, Cuba\",\"Zurich, Switzerland\",\"Gulf of Mannar, India\",\"Havre, France\",\"Wellington, New Zealand\",\"Tampa, USA\",\"Budapest (Danube River), Hungary\",\"Orinoco River, Venezuela\",\"Quito, Ecuador\",\"Mannar Island, Sri Lanka\",\"Leiden, Netherlands\",\"Koln (Rihn River), Germany\",\"Tunisia, Tunisisa\",\"Montpellier, France\",\"New Jersey, USA\",\"Gran Canaria, Spain\",\"Ras Nouadhibou, Africa\",\"Cape Horn, Chile\",\"Tasmania, Australia\",\"Saint Malo, France\",\"Viti Levu, Fiyi\",\"Mexican Gulf, USA\",\"Monte Sarmiento, Chile\",\"Paris (Hotel du Sommerard), France\",\"Santorini, Greece\",\"Ile Ronde, Mauritius\",\"Antilles, Antilles\",\"Bougainville Island, Papua New Guinea\",\"Rome (Temple d'Hercule), Italy\",\"Alepo (Syria), Syria\",\"Dresden (Saxony), Germany\",\"Baffin Bay, Ocean\",\"Lisbon (Portugal), Portugal\",\"Old Bahama Channel, Cuba\",\"New York, USA\",\"Tierra del Fuego, Argentina\",\"Cairo (Egypt), Egypt\",\"Solomon Islands, Solomon Islands\",\"Copenhagen (Ceyland), Denmark\",\"Karpathos, Greece\",\"Glasgow, UK\",\"Cape Race, Canada\",\"Cape Matapan, Greece\"],\"type\":\"scattergeo\"}],                        {\"template\":{\"data\":{\"histogram2dcontour\":[{\"type\":\"histogram2dcontour\",\"colorbar\":{\"outlinewidth\":0,\"ticks\":\"\"},\"colorscale\":[[0.0,\"#0d0887\"],[0.1111111111111111,\"#46039f\"],[0.2222222222222222,\"#7201a8\"],[0.3333333333333333,\"#9c179e\"],[0.4444444444444444,\"#bd3786\"],[0.5555555555555556,\"#d8576b\"],[0.6666666666666666,\"#ed7953\"],[0.7777777777777778,\"#fb9f3a\"],[0.8888888888888888,\"#fdca26\"],[1.0,\"#f0f921\"]]}],\"choropleth\":[{\"type\":\"choropleth\",\"colorbar\":{\"outlinewidth\":0,\"ticks\":\"\"}}],\"histogram2d\":[{\"type\":\"histogram2d\",\"colorbar\":{\"outlinewidth\":0,\"ticks\":\"\"},\"colorscale\":[[0.0,\"#0d0887\"],[0.1111111111111111,\"#46039f\"],[0.2222222222222222,\"#7201a8\"],[0.3333333333333333,\"#9c179e\"],[0.4444444444444444,\"#bd3786\"],[0.5555555555555556,\"#d8576b\"],[0.6666666666666666,\"#ed7953\"],[0.7777777777777778,\"#fb9f3a\"],[0.8888888888888888,\"#fdca26\"],[1.0,\"#f0f921\"]]}],\"heatmap\":[{\"type\":\"heatmap\",\"colorbar\":{\"outlinewidth\":0,\"ticks\":\"\"},\"colorscale\":[[0.0,\"#0d0887\"],[0.1111111111111111,\"#46039f\"],[0.2222222222222222,\"#7201a8\"],[0.3333333333333333,\"#9c179e\"],[0.4444444444444444,\"#bd3786\"],[0.5555555555555556,\"#d8576b\"],[0.6666666666666666,\"#ed7953\"],[0.7777777777777778,\"#fb9f3a\"],[0.8888888888888888,\"#fdca26\"],[1.0,\"#f0f921\"]]}],\"heatmapgl\":[{\"type\":\"heatmapgl\",\"colorbar\":{\"outlinewidth\":0,\"ticks\":\"\"},\"colorscale\":[[0.0,\"#0d0887\"],[0.1111111111111111,\"#46039f\"],[0.2222222222222222,\"#7201a8\"],[0.3333333333333333,\"#9c179e\"],[0.4444444444444444,\"#bd3786\"],[0.5555555555555556,\"#d8576b\"],[0.6666666666666666,\"#ed7953\"],[0.7777777777777778,\"#fb9f3a\"],[0.8888888888888888,\"#fdca26\"],[1.0,\"#f0f921\"]]}],\"contourcarpet\":[{\"type\":\"contourcarpet\",\"colorbar\":{\"outlinewidth\":0,\"ticks\":\"\"}}],\"contour\":[{\"type\":\"contour\",\"colorbar\":{\"outlinewidth\":0,\"ticks\":\"\"},\"colorscale\":[[0.0,\"#0d0887\"],[0.1111111111111111,\"#46039f\"],[0.2222222222222222,\"#7201a8\"],[0.3333333333333333,\"#9c179e\"],[0.4444444444444444,\"#bd3786\"],[0.5555555555555556,\"#d8576b\"],[0.6666666666666666,\"#ed7953\"],[0.7777777777777778,\"#fb9f3a\"],[0.8888888888888888,\"#fdca26\"],[1.0,\"#f0f921\"]]}],\"surface\":[{\"type\":\"surface\",\"colorbar\":{\"outlinewidth\":0,\"ticks\":\"\"},\"colorscale\":[[0.0,\"#0d0887\"],[0.1111111111111111,\"#46039f\"],[0.2222222222222222,\"#7201a8\"],[0.3333333333333333,\"#9c179e\"],[0.4444444444444444,\"#bd3786\"],[0.5555555555555556,\"#d8576b\"],[0.6666666666666666,\"#ed7953\"],[0.7777777777777778,\"#fb9f3a\"],[0.8888888888888888,\"#fdca26\"],[1.0,\"#f0f921\"]]}],\"mesh3d\":[{\"type\":\"mesh3d\",\"colorbar\":{\"outlinewidth\":0,\"ticks\":\"\"}}],\"scatter\":[{\"fillpattern\":{\"fillmode\":\"overlay\",\"size\":10,\"solidity\":0.2},\"type\":\"scatter\"}],\"parcoords\":[{\"type\":\"parcoords\",\"line\":{\"colorbar\":{\"outlinewidth\":0,\"ticks\":\"\"}}}],\"scatterpolargl\":[{\"type\":\"scatterpolargl\",\"marker\":{\"colorbar\":{\"outlinewidth\":0,\"ticks\":\"\"}}}],\"bar\":[{\"error_x\":{\"color\":\"#2a3f5f\"},\"error_y\":{\"color\":\"#2a3f5f\"},\"marker\":{\"line\":{\"color\":\"#E5ECF6\",\"width\":0.5},\"pattern\":{\"fillmode\":\"overlay\",\"size\":10,\"solidity\":0.2}},\"type\":\"bar\"}],\"scattergeo\":[{\"type\":\"scattergeo\",\"marker\":{\"colorbar\":{\"outlinewidth\":0,\"ticks\":\"\"}}}],\"scatterpolar\":[{\"type\":\"scatterpolar\",\"marker\":{\"colorbar\":{\"outlinewidth\":0,\"ticks\":\"\"}}}],\"histogram\":[{\"marker\":{\"pattern\":{\"fillmode\":\"overlay\",\"size\":10,\"solidity\":0.2}},\"type\":\"histogram\"}],\"scattergl\":[{\"type\":\"scattergl\",\"marker\":{\"colorbar\":{\"outlinewidth\":0,\"ticks\":\"\"}}}],\"scatter3d\":[{\"type\":\"scatter3d\",\"line\":{\"colorbar\":{\"outlinewidth\":0,\"ticks\":\"\"}},\"marker\":{\"colorbar\":{\"outlinewidth\":0,\"ticks\":\"\"}}}],\"scattermapbox\":[{\"type\":\"scattermapbox\",\"marker\":{\"colorbar\":{\"outlinewidth\":0,\"ticks\":\"\"}}}],\"scatterternary\":[{\"type\":\"scatterternary\",\"marker\":{\"colorbar\":{\"outlinewidth\":0,\"ticks\":\"\"}}}],\"scattercarpet\":[{\"type\":\"scattercarpet\",\"marker\":{\"colorbar\":{\"outlinewidth\":0,\"ticks\":\"\"}}}],\"carpet\":[{\"aaxis\":{\"endlinecolor\":\"#2a3f5f\",\"gridcolor\":\"white\",\"linecolor\":\"white\",\"minorgridcolor\":\"white\",\"startlinecolor\":\"#2a3f5f\"},\"baxis\":{\"endlinecolor\":\"#2a3f5f\",\"gridcolor\":\"white\",\"linecolor\":\"white\",\"minorgridcolor\":\"white\",\"startlinecolor\":\"#2a3f5f\"},\"type\":\"carpet\"}],\"table\":[{\"cells\":{\"fill\":{\"color\":\"#EBF0F8\"},\"line\":{\"color\":\"white\"}},\"header\":{\"fill\":{\"color\":\"#C8D4E3\"},\"line\":{\"color\":\"white\"}},\"type\":\"table\"}],\"barpolar\":[{\"marker\":{\"line\":{\"color\":\"#E5ECF6\",\"width\":0.5},\"pattern\":{\"fillmode\":\"overlay\",\"size\":10,\"solidity\":0.2}},\"type\":\"barpolar\"}],\"pie\":[{\"automargin\":true,\"type\":\"pie\"}]},\"layout\":{\"autotypenumbers\":\"strict\",\"colorway\":[\"#636efa\",\"#EF553B\",\"#00cc96\",\"#ab63fa\",\"#FFA15A\",\"#19d3f3\",\"#FF6692\",\"#B6E880\",\"#FF97FF\",\"#FECB52\"],\"font\":{\"color\":\"#2a3f5f\"},\"hovermode\":\"closest\",\"hoverlabel\":{\"align\":\"left\"},\"paper_bgcolor\":\"white\",\"plot_bgcolor\":\"#E5ECF6\",\"polar\":{\"bgcolor\":\"#E5ECF6\",\"angularaxis\":{\"gridcolor\":\"white\",\"linecolor\":\"white\",\"ticks\":\"\"},\"radialaxis\":{\"gridcolor\":\"white\",\"linecolor\":\"white\",\"ticks\":\"\"}},\"ternary\":{\"bgcolor\":\"#E5ECF6\",\"aaxis\":{\"gridcolor\":\"white\",\"linecolor\":\"white\",\"ticks\":\"\"},\"baxis\":{\"gridcolor\":\"white\",\"linecolor\":\"white\",\"ticks\":\"\"},\"caxis\":{\"gridcolor\":\"white\",\"linecolor\":\"white\",\"ticks\":\"\"}},\"coloraxis\":{\"colorbar\":{\"outlinewidth\":0,\"ticks\":\"\"}},\"colorscale\":{\"sequential\":[[0.0,\"#0d0887\"],[0.1111111111111111,\"#46039f\"],[0.2222222222222222,\"#7201a8\"],[0.3333333333333333,\"#9c179e\"],[0.4444444444444444,\"#bd3786\"],[0.5555555555555556,\"#d8576b\"],[0.6666666666666666,\"#ed7953\"],[0.7777777777777778,\"#fb9f3a\"],[0.8888888888888888,\"#fdca26\"],[1.0,\"#f0f921\"]],\"sequentialminus\":[[0.0,\"#0d0887\"],[0.1111111111111111,\"#46039f\"],[0.2222222222222222,\"#7201a8\"],[0.3333333333333333,\"#9c179e\"],[0.4444444444444444,\"#bd3786\"],[0.5555555555555556,\"#d8576b\"],[0.6666666666666666,\"#ed7953\"],[0.7777777777777778,\"#fb9f3a\"],[0.8888888888888888,\"#fdca26\"],[1.0,\"#f0f921\"]],\"diverging\":[[0,\"#8e0152\"],[0.1,\"#c51b7d\"],[0.2,\"#de77ae\"],[0.3,\"#f1b6da\"],[0.4,\"#fde0ef\"],[0.5,\"#f7f7f7\"],[0.6,\"#e6f5d0\"],[0.7,\"#b8e186\"],[0.8,\"#7fbc41\"],[0.9,\"#4d9221\"],[1,\"#276419\"]]},\"xaxis\":{\"gridcolor\":\"white\",\"linecolor\":\"white\",\"ticks\":\"\",\"title\":{\"standoff\":15},\"zerolinecolor\":\"white\",\"automargin\":true,\"zerolinewidth\":2},\"yaxis\":{\"gridcolor\":\"white\",\"linecolor\":\"white\",\"ticks\":\"\",\"title\":{\"standoff\":15},\"zerolinecolor\":\"white\",\"automargin\":true,\"zerolinewidth\":2},\"scene\":{\"xaxis\":{\"backgroundcolor\":\"#E5ECF6\",\"gridcolor\":\"white\",\"linecolor\":\"white\",\"showbackground\":true,\"ticks\":\"\",\"zerolinecolor\":\"white\",\"gridwidth\":2},\"yaxis\":{\"backgroundcolor\":\"#E5ECF6\",\"gridcolor\":\"white\",\"linecolor\":\"white\",\"showbackground\":true,\"ticks\":\"\",\"zerolinecolor\":\"white\",\"gridwidth\":2},\"zaxis\":{\"backgroundcolor\":\"#E5ECF6\",\"gridcolor\":\"white\",\"linecolor\":\"white\",\"showbackground\":true,\"ticks\":\"\",\"zerolinecolor\":\"white\",\"gridwidth\":2}},\"shapedefaults\":{\"line\":{\"color\":\"#2a3f5f\"}},\"annotationdefaults\":{\"arrowcolor\":\"#2a3f5f\",\"arrowhead\":0,\"arrowwidth\":1},\"geo\":{\"bgcolor\":\"white\",\"landcolor\":\"#E5ECF6\",\"subunitcolor\":\"white\",\"showland\":true,\"showlakes\":true,\"lakecolor\":\"white\"},\"title\":{\"x\":0.05},\"mapbox\":{\"style\":\"light\"}}},\"geo\":{\"scope\":\"world\"},\"title\":{\"text\":\"Around the World in 80 days\"}},                        {\"responsive\": true}                    ).then(function(){\n",
       "                            \n",
       "var gd = document.getElementById('b250e8f3-fb84-4420-b844-ee9246f0282b');\n",
       "var x = new MutationObserver(function (mutations, observer) {{\n",
       "        var display = window.getComputedStyle(gd).display;\n",
       "        if (!display || display === 'none') {{\n",
       "            console.log([gd, 'removed!']);\n",
       "            Plotly.purge(gd);\n",
       "            observer.disconnect();\n",
       "        }}\n",
       "}});\n",
       "\n",
       "// Listen for the removal of the full notebook cells\n",
       "var notebookContainer = gd.closest('#notebook-container');\n",
       "if (notebookContainer) {{\n",
       "    x.observe(notebookContainer, {childList: true});\n",
       "}}\n",
       "\n",
       "// Listen for the clearing of the current output cell\n",
       "var outputEl = gd.closest('.output');\n",
       "if (outputEl) {{\n",
       "    x.observe(outputEl, {childList: true});\n",
       "}}\n",
       "\n",
       "                        })                };                });            </script>        </div>"
      ]
     },
     "metadata": {},
     "output_type": "display_data"
    }
   ],
   "source": [
    "data['text'] = data['cities'] + ', ' + data[\"countries\"].astype(str)\n",
    "\n",
    "fig = go.Figure(data=go.Scattergeo(\n",
    "        lon = data['lon'],\n",
    "        lat = data['lat'],\n",
    "        text = data['text'],\n",
    "        mode = 'markers',\n",
    "        ))\n",
    "\n",
    "fig.update_layout(\n",
    "        title = 'Around the World in 80 days',\n",
    "        geo_scope='world',\n",
    "    )\n",
    "fig.show()"
   ]
  },
  {
   "cell_type": "markdown",
   "id": "0df6a669",
   "metadata": {},
   "source": [
    "What do you think about this technique for mapping geographical locations?"
   ]
  }
 ],
 "metadata": {
  "kernelspec": {
   "display_name": "Python 3 (ipykernel)",
   "language": "python",
   "name": "python3"
  },
  "language_info": {
   "codemirror_mode": {
    "name": "ipython",
    "version": 3
   },
   "file_extension": ".py",
   "mimetype": "text/x-python",
   "name": "python",
   "nbconvert_exporter": "python",
   "pygments_lexer": "ipython3",
   "version": "3.11.7"
  }
 },
 "nbformat": 4,
 "nbformat_minor": 5
}
