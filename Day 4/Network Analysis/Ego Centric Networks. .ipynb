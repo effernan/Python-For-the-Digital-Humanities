{
 "cells": [
  {
   "cell_type": "markdown",
   "id": "fb0acbf4",
   "metadata": {},
   "source": [
    "# Ego-Centric Networks vs Socio-Centric Networks"
   ]
  },
  {
   "cell_type": "markdown",
   "id": "b559eeb9",
   "metadata": {},
   "source": [
    "In our previous data analysis (weighted vs unweighted networks), we have been building a type of network called socio-centric network, where we seek to analyze the social structure of a given community (characters in movies/novels/theatre plays). However, there is another type of network called ego-centric network, that uses individuals as their object of study. If you would like to know more about both, this is an excellent article: https://bebr.ufl.edu/sites/default/files/SNA_Encyclopedia_Entry_0.pdf"
   ]
  },
  {
   "cell_type": "markdown",
   "id": "0ed9898b",
   "metadata": {},
   "source": [
    "Let's use **Around the World in 80 days** and let's model one Ego-Centric Networks: Phileas Fogg. "
   ]
  },
  {
   "cell_type": "markdown",
   "id": "146bb3ca",
   "metadata": {},
   "source": [
    "# 1. We import the libraries"
   ]
  },
  {
   "cell_type": "code",
   "execution_count": 4,
   "id": "171aaa97",
   "metadata": {},
   "outputs": [],
   "source": [
    "import pandas as pd\n",
    "import networkx as nx\n",
    "import matplotlib.pyplot as plt"
   ]
  },
  {
   "cell_type": "markdown",
   "id": "b5e699e8",
   "metadata": {},
   "source": [
    "And let's not forget to creat G!"
   ]
  },
  {
   "cell_type": "code",
   "execution_count": 5,
   "id": "53623399",
   "metadata": {},
   "outputs": [],
   "source": [
    "G = nx.Graph()"
   ]
  },
  {
   "cell_type": "markdown",
   "id": "0690440d",
   "metadata": {},
   "source": [
    "# 2. Phileas Fogg"
   ]
  },
  {
   "cell_type": "markdown",
   "id": "068a5af2",
   "metadata": {},
   "source": [
    "Book in hand let's count how many times and with whom Phileas Foogs talks to."
   ]
  },
  {
   "cell_type": "markdown",
   "id": "d81a8a11",
   "metadata": {},
   "source": [
    "### Nodes"
   ]
  },
  {
   "cell_type": "code",
   "execution_count": 3,
   "id": "a0801fb4",
   "metadata": {},
   "outputs": [],
   "source": [
    "G.add_node(\"Phileas Fogg\")"
   ]
  },
  {
   "cell_type": "code",
   "execution_count": 6,
   "id": "4b603a94",
   "metadata": {},
   "outputs": [],
   "source": [
    "G.add_node(\"Jean Passepartout\")"
   ]
  },
  {
   "cell_type": "code",
   "execution_count": 7,
   "id": "b03e7f20",
   "metadata": {},
   "outputs": [],
   "source": [
    "G.add_node(\"Andrew Stuart\") "
   ]
  },
  {
   "cell_type": "code",
   "execution_count": 9,
   "id": "7ce87087",
   "metadata": {},
   "outputs": [],
   "source": [
    "G.add_node(\"John Sullivan\") "
   ]
  },
  {
   "cell_type": "code",
   "execution_count": 10,
   "id": "69f204fc",
   "metadata": {
    "collapsed": true
   },
   "outputs": [],
   "source": [
    "G.add_node(\"Consul\") "
   ]
  },
  {
   "cell_type": "code",
   "execution_count": 11,
   "id": "35487d20",
   "metadata": {},
   "outputs": [],
   "source": [
    "G.add_node(\"Landlord\") "
   ]
  },
  {
   "cell_type": "code",
   "execution_count": 13,
   "id": "a26e6488",
   "metadata": {},
   "outputs": [],
   "source": [
    "G.add_node(\"Sir Francis Cromarty\") "
   ]
  },
  {
   "cell_type": "code",
   "execution_count": 14,
   "id": "10452e59",
   "metadata": {},
   "outputs": [],
   "source": [
    "G.add_node(\"Parsee guide\") "
   ]
  },
  {
   "cell_type": "code",
   "execution_count": 15,
   "id": "448e1e03",
   "metadata": {},
   "outputs": [],
   "source": [
    "G.add_node(\"Policeman\") "
   ]
  },
  {
   "cell_type": "code",
   "execution_count": 16,
   "id": "4b47ddd1",
   "metadata": {},
   "outputs": [],
   "source": [
    "G.add_node(\"Aouda\") "
   ]
  },
  {
   "cell_type": "code",
   "execution_count": 17,
   "id": "0dd07867",
   "metadata": {},
   "outputs": [],
   "source": [
    "G.add_node(\"Judge Obadiah\") "
   ]
  },
  {
   "cell_type": "code",
   "execution_count": 21,
   "id": "363e8e23",
   "metadata": {},
   "outputs": [],
   "source": [
    "G.add_node(\"Pilot\") "
   ]
  },
  {
   "cell_type": "code",
   "execution_count": 22,
   "id": "f5463663",
   "metadata": {},
   "outputs": [],
   "source": [
    "G.add_node(\"Fix\") "
   ]
  },
  {
   "cell_type": "code",
   "execution_count": 23,
   "id": "8f11aef4",
   "metadata": {},
   "outputs": [],
   "source": [
    "G.add_node(\"Sailor\") "
   ]
  },
  {
   "cell_type": "code",
   "execution_count": 24,
   "id": "80216aab",
   "metadata": {},
   "outputs": [],
   "source": [
    "G.add_node(\"Colonel Proctor\") "
   ]
  },
  {
   "cell_type": "code",
   "execution_count": 25,
   "id": "57c9e707",
   "metadata": {},
   "outputs": [],
   "source": [
    "G.add_node(\"Captain\") "
   ]
  },
  {
   "cell_type": "code",
   "execution_count": 26,
   "id": "e70a42b4",
   "metadata": {},
   "outputs": [],
   "source": [
    "G.add_node(\"Andrew Speedy\")"
   ]
  },
  {
   "cell_type": "markdown",
   "id": "081efd31",
   "metadata": {},
   "source": [
    "# Edges"
   ]
  },
  {
   "cell_type": "code",
   "execution_count": 27,
   "id": "af07a4e7",
   "metadata": {},
   "outputs": [],
   "source": [
    "G.add_edge(\"Phileas Fogg\", \"Jean Passepartout\", weight = 71) "
   ]
  },
  {
   "cell_type": "code",
   "execution_count": 28,
   "id": "d20ed3ee",
   "metadata": {},
   "outputs": [],
   "source": [
    "G.add_edge(\"Phileas Fogg\", \"Andrew Stuart\", weight = 30) "
   ]
  },
  {
   "cell_type": "code",
   "execution_count": 29,
   "id": "09c8e6e6",
   "metadata": {},
   "outputs": [],
   "source": [
    "G.add_edge(\"John Sullivan\", \"Phileas Fogg\", weight = 9) "
   ]
  },
  {
   "cell_type": "code",
   "execution_count": 30,
   "id": "37a5ef61",
   "metadata": {},
   "outputs": [],
   "source": [
    "G.add_edge(\"Phileas Fogg\", \"Consul\", weight = 11) "
   ]
  },
  {
   "cell_type": "code",
   "execution_count": 31,
   "id": "5eefaa21",
   "metadata": {},
   "outputs": [],
   "source": [
    "G.add_edge(\"Phileas Fogg\", \"Landlord\", weight = 7) "
   ]
  },
  {
   "cell_type": "code",
   "execution_count": 32,
   "id": "b0e1bcc6",
   "metadata": {},
   "outputs": [],
   "source": [
    "G.add_edge(\"Phileas Fogg\", \"Sir Francis Cromarty\", weight = 22) "
   ]
  },
  {
   "cell_type": "code",
   "execution_count": 33,
   "id": "352842d1",
   "metadata": {},
   "outputs": [],
   "source": [
    "G.add_edge(\"Parsee guide\", \"Phileas Fogg\", weight = 11) "
   ]
  },
  {
   "cell_type": "code",
   "execution_count": 34,
   "id": "92a19ce0",
   "metadata": {},
   "outputs": [],
   "source": [
    "G.add_edge(\"Policeman\", \"Phileas Fogg\", weight = 8) "
   ]
  },
  {
   "cell_type": "code",
   "execution_count": 35,
   "id": "a5f9671d",
   "metadata": {},
   "outputs": [],
   "source": [
    "G.add_edge(\"Aouda\", \"Phileas Fogg\", weight = 47) "
   ]
  },
  {
   "cell_type": "code",
   "execution_count": 36,
   "id": "f5e23c82",
   "metadata": {},
   "outputs": [],
   "source": [
    "G.add_edge(\"Phileas Fogg\", \"Judge Obadiah\", weight = 15) "
   ]
  },
  {
   "cell_type": "code",
   "execution_count": 37,
   "id": "987361c0",
   "metadata": {},
   "outputs": [],
   "source": [
    "G.add_edge(\"Pilot\", \"Phileas Fogg\", weight = 35) "
   ]
  },
  {
   "cell_type": "code",
   "execution_count": 38,
   "id": "4f973d37",
   "metadata": {},
   "outputs": [],
   "source": [
    "G.add_edge(\"Fix\", \"Phileas Fogg\", weight = 43) "
   ]
  },
  {
   "cell_type": "code",
   "execution_count": 39,
   "id": "c8f9311c",
   "metadata": {},
   "outputs": [],
   "source": [
    "G.add_edge(\"Sailor\", \"Phileas Fogg\", weight = 31) "
   ]
  },
  {
   "cell_type": "code",
   "execution_count": 40,
   "id": "7827eb9e",
   "metadata": {},
   "outputs": [],
   "source": [
    "G.add_edge(\"Phileas Fogg\", \"Colonel Proctor\", weight = 25) "
   ]
  },
  {
   "cell_type": "code",
   "execution_count": 41,
   "id": "02803079",
   "metadata": {},
   "outputs": [],
   "source": [
    "G.add_edge(\"Phileas Fogg\", \"Captain\", weight = 32) "
   ]
  },
  {
   "cell_type": "code",
   "execution_count": 42,
   "id": "fa2bb225",
   "metadata": {},
   "outputs": [],
   "source": [
    "G.add_edge(\"Andrew Speedy\", \"Phileas Fogg\", weight = 36)"
   ]
  },
  {
   "cell_type": "markdown",
   "id": "612fd4a1",
   "metadata": {},
   "source": [
    "# 3. We check the structure of our Network"
   ]
  },
  {
   "cell_type": "markdown",
   "id": "63c17bc2",
   "metadata": {},
   "source": [
    "Let's check the number of nodes"
   ]
  },
  {
   "cell_type": "code",
   "execution_count": 43,
   "id": "1e33eda2",
   "metadata": {},
   "outputs": [
    {
     "data": {
      "text/plain": [
       "17"
      ]
     },
     "execution_count": 43,
     "metadata": {},
     "output_type": "execute_result"
    }
   ],
   "source": [
    "G.number_of_nodes()"
   ]
  },
  {
   "cell_type": "markdown",
   "id": "16712082",
   "metadata": {},
   "source": [
    "And now let's check the number of edges"
   ]
  },
  {
   "cell_type": "code",
   "execution_count": 44,
   "id": "23293996",
   "metadata": {},
   "outputs": [
    {
     "data": {
      "text/plain": [
       "16"
      ]
     },
     "execution_count": 44,
     "metadata": {},
     "output_type": "execute_result"
    }
   ],
   "source": [
    "G.number_of_edges()"
   ]
  },
  {
   "cell_type": "code",
   "execution_count": 45,
   "id": "1881d5af",
   "metadata": {},
   "outputs": [
    {
     "data": {
      "text/plain": [
       "[('Jean Passepartout', 'Phileas Fogg'),\n",
       " ('Andrew Stuart', 'Phileas Fogg'),\n",
       " ('John Sullivan', 'Phileas Fogg'),\n",
       " ('Consul', 'Phileas Fogg'),\n",
       " ('Landlord', 'Phileas Fogg'),\n",
       " ('Sir Francis Cromarty', 'Phileas Fogg'),\n",
       " ('Parsee guide', 'Phileas Fogg'),\n",
       " ('Policeman', 'Phileas Fogg'),\n",
       " ('Aouda', 'Phileas Fogg'),\n",
       " ('Judge Obadiah', 'Phileas Fogg'),\n",
       " ('Phileas Fogg', 'Pilot'),\n",
       " ('Phileas Fogg', 'Fix'),\n",
       " ('Phileas Fogg', 'Sailor'),\n",
       " ('Phileas Fogg', 'Colonel Proctor'),\n",
       " ('Phileas Fogg', 'Captain'),\n",
       " ('Phileas Fogg', 'Andrew Speedy')]"
      ]
     },
     "execution_count": 45,
     "metadata": {},
     "output_type": "execute_result"
    }
   ],
   "source": [
    "list(G.edges)"
   ]
  },
  {
   "cell_type": "markdown",
   "id": "143012cd",
   "metadata": {},
   "source": [
    "Let's check the weight of the edges"
   ]
  },
  {
   "cell_type": "code",
   "execution_count": 47,
   "id": "e1c92b9a",
   "metadata": {},
   "outputs": [
    {
     "data": {
      "text/plain": [
       "{('Jean Passepartout', 'Phileas Fogg'): 71,\n",
       " ('Andrew Stuart', 'Phileas Fogg'): 30,\n",
       " ('John Sullivan', 'Phileas Fogg'): 9,\n",
       " ('Consul', 'Phileas Fogg'): 11,\n",
       " ('Landlord', 'Phileas Fogg'): 7,\n",
       " ('Sir Francis Cromarty', 'Phileas Fogg'): 22,\n",
       " ('Parsee guide', 'Phileas Fogg'): 11,\n",
       " ('Policeman', 'Phileas Fogg'): 8,\n",
       " ('Aouda', 'Phileas Fogg'): 47,\n",
       " ('Judge Obadiah', 'Phileas Fogg'): 15,\n",
       " ('Phileas Fogg', 'Pilot'): 35,\n",
       " ('Phileas Fogg', 'Fix'): 43,\n",
       " ('Phileas Fogg', 'Sailor'): 31,\n",
       " ('Phileas Fogg', 'Colonel Proctor'): 25,\n",
       " ('Phileas Fogg', 'Captain'): 32,\n",
       " ('Phileas Fogg', 'Andrew Speedy'): 36}"
      ]
     },
     "execution_count": 47,
     "metadata": {},
     "output_type": "execute_result"
    }
   ],
   "source": [
    "edge_weights = nx.get_edge_attributes(G, \"weight\")\n",
    "edge_weights"
   ]
  },
  {
   "cell_type": "code",
   "execution_count": 48,
   "id": "710d7ff1",
   "metadata": {},
   "outputs": [
    {
     "data": {
      "text/plain": [
       "[(('Jean Passepartout', 'Phileas Fogg'), 71),\n",
       " (('Aouda', 'Phileas Fogg'), 47),\n",
       " (('Phileas Fogg', 'Fix'), 43),\n",
       " (('Phileas Fogg', 'Andrew Speedy'), 36),\n",
       " (('Phileas Fogg', 'Pilot'), 35),\n",
       " (('Phileas Fogg', 'Captain'), 32),\n",
       " (('Phileas Fogg', 'Sailor'), 31),\n",
       " (('Andrew Stuart', 'Phileas Fogg'), 30),\n",
       " (('Phileas Fogg', 'Colonel Proctor'), 25),\n",
       " (('Sir Francis Cromarty', 'Phileas Fogg'), 22),\n",
       " (('Judge Obadiah', 'Phileas Fogg'), 15),\n",
       " (('Consul', 'Phileas Fogg'), 11),\n",
       " (('Parsee guide', 'Phileas Fogg'), 11),\n",
       " (('John Sullivan', 'Phileas Fogg'), 9),\n",
       " (('Policeman', 'Phileas Fogg'), 8),\n",
       " (('Landlord', 'Phileas Fogg'), 7)]"
      ]
     },
     "execution_count": 48,
     "metadata": {},
     "output_type": "execute_result"
    }
   ],
   "source": [
    "sorted_weights = sorted(edge_weights.items(), key=lambda x: x[1], reverse = True)\n",
    "sorted_weights"
   ]
  },
  {
   "cell_type": "markdown",
   "id": "89824026",
   "metadata": {},
   "source": [
    "# 4. Network Metrics"
   ]
  },
  {
   "cell_type": "markdown",
   "id": "5268f8c4",
   "metadata": {},
   "source": [
    "1. Calculating **Network Degree** (the hub of the network)"
   ]
  },
  {
   "cell_type": "code",
   "execution_count": 49,
   "id": "1ef6aaca",
   "metadata": {},
   "outputs": [],
   "source": [
    "weighted_degrees = dict(G.degree(weight='weight'))"
   ]
  },
  {
   "cell_type": "code",
   "execution_count": 50,
   "id": "d0a8f25c",
   "metadata": {},
   "outputs": [
    {
     "data": {
      "text/plain": [
       "{'Jean Passepartout': 71,\n",
       " 'Andrew Stuart': 30,\n",
       " 'John Sullivan': 9,\n",
       " 'Consul': 11,\n",
       " 'Landlord': 7,\n",
       " 'Sir Francis Cromarty': 22,\n",
       " 'Parsee guide': 11,\n",
       " 'Policeman': 8,\n",
       " 'Aouda': 47,\n",
       " 'Judge Obadiah': 15,\n",
       " 'Phileas Fogg': 433,\n",
       " 'Fix': 43,\n",
       " 'Pilot': 35,\n",
       " 'Sailor': 31,\n",
       " 'Colonel Proctor': 25,\n",
       " 'Captain': 32,\n",
       " 'Andrew Speedy': 36}"
      ]
     },
     "execution_count": 50,
     "metadata": {},
     "output_type": "execute_result"
    }
   ],
   "source": [
    "weighted_degrees"
   ]
  },
  {
   "cell_type": "code",
   "execution_count": 51,
   "id": "9514d758",
   "metadata": {},
   "outputs": [],
   "source": [
    "sorted_weighted_degrees = sorted(weighted_degrees.items(), key=lambda x: x[1], reverse=True)"
   ]
  },
  {
   "cell_type": "code",
   "execution_count": 52,
   "id": "6a90af4e",
   "metadata": {},
   "outputs": [
    {
     "data": {
      "text/plain": [
       "[('Phileas Fogg', 433),\n",
       " ('Jean Passepartout', 71),\n",
       " ('Aouda', 47),\n",
       " ('Fix', 43),\n",
       " ('Andrew Speedy', 36),\n",
       " ('Pilot', 35),\n",
       " ('Captain', 32),\n",
       " ('Sailor', 31),\n",
       " ('Andrew Stuart', 30),\n",
       " ('Colonel Proctor', 25),\n",
       " ('Sir Francis Cromarty', 22),\n",
       " ('Judge Obadiah', 15),\n",
       " ('Consul', 11),\n",
       " ('Parsee guide', 11),\n",
       " ('John Sullivan', 9),\n",
       " ('Policeman', 8),\n",
       " ('Landlord', 7)]"
      ]
     },
     "execution_count": 52,
     "metadata": {},
     "output_type": "execute_result"
    }
   ],
   "source": [
    "sorted_weighted_degrees"
   ]
  },
  {
   "cell_type": "markdown",
   "id": "b3bc8a36",
   "metadata": {},
   "source": [
    "The hub of the network is **Phileas Fogg** because this is an Ego-Centric Network!"
   ]
  },
  {
   "cell_type": "markdown",
   "id": "a3818f6f",
   "metadata": {},
   "source": [
    "# 5. Network Visualization"
   ]
  },
  {
   "cell_type": "markdown",
   "id": "0b5439eb",
   "metadata": {},
   "source": [
    "First of all let's define the position of the nodes in the network."
   ]
  },
  {
   "cell_type": "code",
   "execution_count": 53,
   "id": "9548324e",
   "metadata": {},
   "outputs": [
    {
     "data": {
      "text/plain": [
       "{'Jean Passepartout': array([-0.23400513,  0.03850673]),\n",
       " 'Andrew Stuart': array([-0.13411249,  0.45942396]),\n",
       " 'John Sullivan': array([0.94608373, 0.04512197]),\n",
       " 'Consul': array([ 0.03581928, -0.8522033 ]),\n",
       " 'Landlord': array([-1.        ,  0.10483809]),\n",
       " 'Sir Francis Cromarty': array([0.20814985, 0.59554731]),\n",
       " 'Parsee guide': array([-0.53614072, -0.64697593]),\n",
       " 'Policeman': array([-0.33651091,  0.92250057]),\n",
       " 'Aouda': array([-0.10024218, -0.34117119]),\n",
       " 'Judge Obadiah': array([ 0.57047701, -0.48552147]),\n",
       " 'Phileas Fogg': array([0.02061949, 0.00706234]),\n",
       " 'Fix': array([0.22159584, 0.27607989]),\n",
       " 'Pilot': array([ 0.20786467, -0.37194401]),\n",
       " 'Sailor': array([ 0.44190893, -0.0905759 ]),\n",
       " 'Colonel Proctor': array([0.51221325, 0.27837302]),\n",
       " 'Captain': array([-0.42423582, -0.19209123]),\n",
       " 'Andrew Speedy': array([-0.39948481,  0.25302915])}"
      ]
     },
     "execution_count": 53,
     "metadata": {},
     "output_type": "execute_result"
    }
   ],
   "source": [
    "pos = nx.spring_layout(G, seed=7)\n",
    "pos"
   ]
  },
  {
   "cell_type": "markdown",
   "id": "7e134f84",
   "metadata": {},
   "source": [
    "Let's now use Network Degree"
   ]
  },
  {
   "cell_type": "code",
   "execution_count": 54,
   "id": "fed85095",
   "metadata": {},
   "outputs": [
    {
     "data": {
      "text/plain": [
       "{'Jean Passepartout': 71,\n",
       " 'Andrew Stuart': 30,\n",
       " 'John Sullivan': 9,\n",
       " 'Consul': 11,\n",
       " 'Landlord': 7,\n",
       " 'Sir Francis Cromarty': 22,\n",
       " 'Parsee guide': 11,\n",
       " 'Policeman': 8,\n",
       " 'Aouda': 47,\n",
       " 'Judge Obadiah': 15,\n",
       " 'Phileas Fogg': 433,\n",
       " 'Fix': 43,\n",
       " 'Pilot': 35,\n",
       " 'Sailor': 31,\n",
       " 'Colonel Proctor': 25,\n",
       " 'Captain': 32,\n",
       " 'Andrew Speedy': 36}"
      ]
     },
     "execution_count": 54,
     "metadata": {},
     "output_type": "execute_result"
    }
   ],
   "source": [
    "degree = weighted_degrees  #we go back to that variable that we defined a few cells before\n",
    "degree"
   ]
  },
  {
   "cell_type": "code",
   "execution_count": 63,
   "id": "aec1deb2",
   "metadata": {},
   "outputs": [],
   "source": [
    "node_sizes = [v * 5 for v in degree.values()] #we can play around the 5 value"
   ]
  },
  {
   "cell_type": "code",
   "execution_count": 64,
   "id": "f1b6d691",
   "metadata": {},
   "outputs": [
    {
     "data": {
      "image/png": "[encoded data removed]",
      "text/plain": [
       "<Figure size 640x480 with 1 Axes>"
      ]
     },
     "metadata": {},
     "output_type": "display_data"
    }
   ],
   "source": [
    "nx.draw(G, node_size=node_sizes, with_labels=True)\n",
    "\n",
    "plt.axis(\"off\")\n",
    "plt.show()"
   ]
  },
  {
   "cell_type": "markdown",
   "id": "4d78361b",
   "metadata": {},
   "source": [
    "Voilá! There we have our network. We can now proceed to do some cool visualizations. For example, we can use colours to bring attention to the Hub in the network (Phileas Fogg), indicate the second and their weighted degree nodes (Jean Passepartout and Auda), and change the colour of the other nodes in the network."
   ]
  },
  {
   "cell_type": "code",
   "execution_count": 68,
   "id": "1cb1581f",
   "metadata": {},
   "outputs": [],
   "source": [
    "node_colors = [\"red\" if n == \"Phileas Fogg\" else \"pink\" if n == \"Aouda\" else \"yellow\" if n == \"Jean Passepartout\"\n",
    "               else \"green\" for n in G.nodes()]"
   ]
  },
  {
   "cell_type": "code",
   "execution_count": 69,
   "id": "68804a1a",
   "metadata": {},
   "outputs": [
    {
     "data": {
      "image/png": "[encoded data removed]",
      "text/plain": [
       "<Figure size 640x480 with 1 Axes>"
      ]
     },
     "metadata": {},
     "output_type": "display_data"
    }
   ],
   "source": [
    "nx.draw(G, node_size = node_sizes, with_labels = True, node_color = node_colors)\n",
    "\n",
    "plt.axis(\"off\")\n",
    "plt.show()"
   ]
  },
  {
   "cell_type": "markdown",
   "id": "eb2511ee",
   "metadata": {},
   "source": [
    "# Exercise Ego Centric Networks"
   ]
  }
 ],
 "metadata": {
  "kernelspec": {
   "display_name": "Python 3 (ipykernel)",
   "language": "python",
   "name": "python3"
  },
  "language_info": {
   "codemirror_mode": {
    "name": "ipython",
    "version": 3
   },
   "file_extension": ".py",
   "mimetype": "text/x-python",
   "name": "python",
   "nbconvert_exporter": "python",
   "pygments_lexer": "ipython3",
   "version": "3.11.7"
  }
 },
 "nbformat": 4,
 "nbformat_minor": 5
}
