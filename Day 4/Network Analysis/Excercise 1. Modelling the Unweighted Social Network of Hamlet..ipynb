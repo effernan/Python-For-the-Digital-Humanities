{
 "cells": [
  {
   "cell_type": "markdown",
   "id": "d54ed9d9",
   "metadata": {},
   "source": [
    "Let's practice what we have just learnt! Let's follow this article (https://litlab.stanford.edu/LiteraryLabPamphlet2.pdf) and built the social network of **Hamlet** by William Shakespeare. We will be using this version of the book: https://www.gutenberg.org/files/1524/1524-h/1524-h.htm\n",
    "\n",
    "**Note**: we are not using *Vingt mille lieues sous les mers* because a) it is a super long book (300+ pages) plus it has not so many dialogues, so it may not be the best study case to work with Social Networks considering the amount of time that we have. However, Network Analysis with NetworkX can be done multilingually!"
   ]
  },
  {
   "cell_type": "markdown",
   "id": "bec2ee0f",
   "metadata": {},
   "source": [
    "# 1. First we import the libraries"
   ]
  },
  {
   "cell_type": "code",
   "execution_count": 1,
   "id": "135c5915",
   "metadata": {},
   "outputs": [],
   "source": [
    "#Your code in here"
   ]
  },
  {
   "cell_type": "code",
   "execution_count": 1,
   "id": "84d9d3cb",
   "metadata": {},
   "outputs": [],
   "source": [
    "#Solution\n",
    "import networkx as nx\n",
    "import pandas as pd"
   ]
  },
  {
   "cell_type": "markdown",
   "id": "f52b4ca8",
   "metadata": {},
   "source": [
    "# 2. The we create the G object"
   ]
  },
  {
   "cell_type": "code",
   "execution_count": 2,
   "id": "a00c7f0f",
   "metadata": {},
   "outputs": [],
   "source": [
    "#Your code in here"
   ]
  },
  {
   "cell_type": "code",
   "execution_count": 3,
   "id": "5aa0ae28",
   "metadata": {},
   "outputs": [],
   "source": [
    "#Solution\n",
    "G = nx.Graph()"
   ]
  },
  {
   "cell_type": "markdown",
   "id": "b8cdee86",
   "metadata": {},
   "source": [
    "Just to let you know with this command we can clean our network (for example if we make a spelling mistake that contaminates our Graph)"
   ]
  },
  {
   "cell_type": "code",
   "execution_count": 4,
   "id": "2ef56f3d",
   "metadata": {},
   "outputs": [],
   "source": [
    "G.clear() #this is just a reminder!"
   ]
  },
  {
   "cell_type": "markdown",
   "id": "831af602",
   "metadata": {},
   "source": [
    "# 3. Characters"
   ]
  },
  {
   "cell_type": "markdown",
   "id": "0bb39112",
   "metadata": {},
   "source": [
    "Now we transform every character into a node by writing each name inside **G.add_node()**. Only the main characters are included in here. "
   ]
  },
  {
   "cell_type": "markdown",
   "id": "e58c0bbb",
   "metadata": {},
   "source": [
    "These are the play characters (you can find this information at the beginning of the book). Remember to change \"Claudius\" for \"King\" and \"Gertrude\" for \"Queen\" as that is how they will appear throughout the play."
   ]
  },
  {
   "cell_type": "markdown",
   "id": "86350235",
   "metadata": {},
   "source": [
    "Dramatis Personæ\n",
    "\n",
    "* HAMLET, Prince of Denmark\n",
    "* CLAUDIUS, King of Denmark, Hamlet’s uncle\n",
    "* The GHOST of the late king, Hamlet’s father\n",
    "* GERTRUDE, the Queen, Hamlet’s mother, now wife of Claudius\n",
    "* POLONIUS, Lord Chamberlain\n",
    "* LAERTES, Son to Polonius\n",
    "* OPHELIA, Daughter to Polonius\n",
    "* HORATIO, Friend to Hamlet\n",
    "* FORTINBRAS, Prince of Norway\n",
    "* VOLTEMAND, Courtier\n",
    "* CORNELIUS, Courtier\n",
    "* ROSENCRANTZ, Courtier\n",
    "* GUILDENSTERN, Courtier\n",
    "* MARCELLUS, Officer\n",
    "* BARNARDO, Officer\n",
    "* FRANCISCO, a Soldier\n",
    "* OSRIC, Courtier\n",
    "* REYNALDO, Servant to Polonius\n",
    "* Players\n",
    "* A Gentleman, Courtier\n",
    "* A Priest\n",
    "* Two Clowns, Grave-diggers\n",
    "* A Captain\n",
    "* English Ambassadors.\n",
    "* Lords, Ladies, Officers, Soldiers, Sailors, Messengers, and Attendants"
   ]
  },
  {
   "cell_type": "code",
   "execution_count": 505,
   "id": "e613dd17",
   "metadata": {},
   "outputs": [],
   "source": [
    "#Your code in here"
   ]
  },
  {
   "cell_type": "code",
   "execution_count": 5,
   "id": "546711a4",
   "metadata": {},
   "outputs": [],
   "source": [
    "#Solution\n",
    "\n",
    "G.add_node(\"Hamlet\")"
   ]
  },
  {
   "cell_type": "code",
   "execution_count": 6,
   "id": "13d19eb2",
   "metadata": {},
   "outputs": [],
   "source": [
    "G.add_node(\"King\")"
   ]
  },
  {
   "cell_type": "code",
   "execution_count": 7,
   "id": "b68a0be0",
   "metadata": {},
   "outputs": [],
   "source": [
    "G.add_node(\"Ghost\")"
   ]
  },
  {
   "cell_type": "code",
   "execution_count": 8,
   "id": "70df20ab",
   "metadata": {},
   "outputs": [],
   "source": [
    "G.add_node(\"Queen\")"
   ]
  },
  {
   "cell_type": "code",
   "execution_count": 9,
   "id": "0f871ba4",
   "metadata": {},
   "outputs": [],
   "source": [
    "G.add_node(\"Polonius\")"
   ]
  },
  {
   "cell_type": "code",
   "execution_count": 10,
   "id": "f1ecd4a4",
   "metadata": {},
   "outputs": [],
   "source": [
    "G.add_node(\"Laertes\")"
   ]
  },
  {
   "cell_type": "code",
   "execution_count": 11,
   "id": "89a34119",
   "metadata": {},
   "outputs": [],
   "source": [
    "G.add_node(\"Ophelia\")"
   ]
  },
  {
   "cell_type": "code",
   "execution_count": 12,
   "id": "f958d042",
   "metadata": {},
   "outputs": [],
   "source": [
    "G.add_node(\"Horatio\")"
   ]
  },
  {
   "cell_type": "code",
   "execution_count": 13,
   "id": "4fe848e5",
   "metadata": {},
   "outputs": [],
   "source": [
    "G.add_node(\"Fortinbras\")"
   ]
  },
  {
   "cell_type": "code",
   "execution_count": 14,
   "id": "d7a142c0",
   "metadata": {},
   "outputs": [],
   "source": [
    "G.add_node(\"Voltemand\")"
   ]
  },
  {
   "cell_type": "code",
   "execution_count": 15,
   "id": "d8d88736",
   "metadata": {},
   "outputs": [],
   "source": [
    "G.add_node(\"Cornelius\")"
   ]
  },
  {
   "cell_type": "code",
   "execution_count": 16,
   "id": "52af673d",
   "metadata": {},
   "outputs": [],
   "source": [
    "G.add_node(\"Rosencrantz\")"
   ]
  },
  {
   "cell_type": "code",
   "execution_count": 17,
   "id": "a0b20b17",
   "metadata": {},
   "outputs": [],
   "source": [
    "G.add_node(\"Guildenstern\")"
   ]
  },
  {
   "cell_type": "code",
   "execution_count": 18,
   "id": "3b85df87",
   "metadata": {},
   "outputs": [],
   "source": [
    "G.add_node(\"Marcellus\")"
   ]
  },
  {
   "cell_type": "code",
   "execution_count": 19,
   "id": "b47b7721",
   "metadata": {},
   "outputs": [],
   "source": [
    "G.add_node(\"Barnardo\")"
   ]
  },
  {
   "cell_type": "code",
   "execution_count": 20,
   "id": "cc6ba1cf",
   "metadata": {},
   "outputs": [],
   "source": [
    "G.add_node(\"Francisco\")"
   ]
  },
  {
   "cell_type": "code",
   "execution_count": 21,
   "id": "3715db8e",
   "metadata": {},
   "outputs": [],
   "source": [
    "G.add_node(\"Osric\")"
   ]
  },
  {
   "cell_type": "code",
   "execution_count": 22,
   "id": "256601dd",
   "metadata": {},
   "outputs": [],
   "source": [
    "G.add_node(\"Reynaldo\")"
   ]
  },
  {
   "cell_type": "code",
   "execution_count": 23,
   "id": "4d6f59a7",
   "metadata": {},
   "outputs": [],
   "source": [
    "G.add_node(\"First Player\")"
   ]
  },
  {
   "cell_type": "code",
   "execution_count": 24,
   "id": "daeafa5c",
   "metadata": {},
   "outputs": [],
   "source": [
    "G.add_node(\"Player King\")"
   ]
  },
  {
   "cell_type": "code",
   "execution_count": 25,
   "id": "e9c95cc0",
   "metadata": {},
   "outputs": [],
   "source": [
    "G.add_node(\"Player Queen\")"
   ]
  },
  {
   "cell_type": "code",
   "execution_count": 26,
   "id": "c5d571fd",
   "metadata": {},
   "outputs": [],
   "source": [
    "G.add_node(\"Captain\")"
   ]
  },
  {
   "cell_type": "code",
   "execution_count": 27,
   "id": "b43804b8",
   "metadata": {},
   "outputs": [],
   "source": [
    "G.add_node(\"Gentleman\")"
   ]
  },
  {
   "cell_type": "code",
   "execution_count": 28,
   "id": "b58e9cc5",
   "metadata": {},
   "outputs": [],
   "source": [
    "G.add_node(\"Danes\")"
   ]
  },
  {
   "cell_type": "code",
   "execution_count": 29,
   "id": "80145967",
   "metadata": {},
   "outputs": [],
   "source": [
    "G.add_node(\"Servant\")"
   ]
  },
  {
   "cell_type": "code",
   "execution_count": 30,
   "id": "05c47499",
   "metadata": {},
   "outputs": [],
   "source": [
    "G.add_node(\"First Sailor\")"
   ]
  },
  {
   "cell_type": "code",
   "execution_count": 31,
   "id": "8089b779",
   "metadata": {},
   "outputs": [],
   "source": [
    "G.add_node(\"Messenger\")"
   ]
  },
  {
   "cell_type": "code",
   "execution_count": 32,
   "id": "7368f5c7",
   "metadata": {},
   "outputs": [],
   "source": [
    "G.add_node(\"First Clown\")"
   ]
  },
  {
   "cell_type": "code",
   "execution_count": 33,
   "id": "eb9f9413",
   "metadata": {},
   "outputs": [],
   "source": [
    "G.add_node(\"Second Clown\")"
   ]
  },
  {
   "cell_type": "code",
   "execution_count": 34,
   "id": "285c8537",
   "metadata": {},
   "outputs": [],
   "source": [
    "G.add_node(\"Priest\")"
   ]
  },
  {
   "cell_type": "code",
   "execution_count": 35,
   "id": "6379083e",
   "metadata": {},
   "outputs": [],
   "source": [
    "G.add_node(\"Osric\")"
   ]
  },
  {
   "cell_type": "code",
   "execution_count": 36,
   "id": "11edbd53",
   "metadata": {},
   "outputs": [],
   "source": [
    "G.add_node(\"Lord\")"
   ]
  },
  {
   "cell_type": "code",
   "execution_count": 37,
   "id": "5430b1cd",
   "metadata": {},
   "outputs": [],
   "source": [
    "G.add_node(\"First Ambassator\")"
   ]
  },
  {
   "cell_type": "markdown",
   "id": "13312836",
   "metadata": {},
   "source": [
    "# 4. Textual Interactions"
   ]
  },
  {
   "cell_type": "markdown",
   "id": "92558ff7",
   "metadata": {},
   "source": [
    "Then we count (old school style by reading the book) who is talking to whom, and we write that down in **G.add_edge()**. If we make a mistake and we accidentally write twice when a character talks to another one, it doesn´t matter. The networkx library will only take into acount one edge per pair of nodes. "
   ]
  },
  {
   "cell_type": "code",
   "execution_count": 539,
   "id": "fe870bee",
   "metadata": {},
   "outputs": [],
   "source": [
    "#Your code in here"
   ]
  },
  {
   "cell_type": "code",
   "execution_count": 540,
   "id": "41acdd51",
   "metadata": {},
   "outputs": [],
   "source": [
    "#Solution"
   ]
  },
  {
   "cell_type": "code",
   "execution_count": 38,
   "id": "f307083b",
   "metadata": {},
   "outputs": [],
   "source": [
    "G.add_edge(\"Barnardo\", \"Francisco\") "
   ]
  },
  {
   "cell_type": "code",
   "execution_count": 39,
   "id": "b12e769e",
   "metadata": {},
   "outputs": [],
   "source": [
    "G.add_edge(\"Francisco\", \"Horatio\") "
   ]
  },
  {
   "cell_type": "code",
   "execution_count": 40,
   "id": "e7cd005c",
   "metadata": {},
   "outputs": [],
   "source": [
    "G.add_edge(\"Marcellus\", \"Francisco\") "
   ]
  },
  {
   "cell_type": "code",
   "execution_count": 41,
   "id": "f1b41b8d",
   "metadata": {},
   "outputs": [],
   "source": [
    "G.add_edge(\"Marcellus\", \"Barnardo\") "
   ]
  },
  {
   "cell_type": "code",
   "execution_count": 42,
   "id": "53bfc4ae",
   "metadata": {},
   "outputs": [],
   "source": [
    "G.add_edge(\"Marcellus\", \"Horatio\") "
   ]
  },
  {
   "cell_type": "code",
   "execution_count": 43,
   "id": "959b70fa",
   "metadata": {},
   "outputs": [],
   "source": [
    "G.add_edge(\"Horatio\", \"Barnardo\") "
   ]
  },
  {
   "cell_type": "code",
   "execution_count": 44,
   "id": "1f586cc7",
   "metadata": {},
   "outputs": [],
   "source": [
    "G.add_edge(\"King\", \"Cornelius\") "
   ]
  },
  {
   "cell_type": "code",
   "execution_count": 45,
   "id": "f2bf5e44",
   "metadata": {},
   "outputs": [],
   "source": [
    "G.add_edge(\"King\", \"Voltemand\") "
   ]
  },
  {
   "cell_type": "code",
   "execution_count": 46,
   "id": "1be18467",
   "metadata": {},
   "outputs": [],
   "source": [
    "G.add_edge(\"King\", \"Laertes\") "
   ]
  },
  {
   "cell_type": "code",
   "execution_count": 47,
   "id": "af2134d8",
   "metadata": {},
   "outputs": [],
   "source": [
    "G.add_edge(\"King\", \"Polonius\") "
   ]
  },
  {
   "cell_type": "code",
   "execution_count": 48,
   "id": "05aaf9db",
   "metadata": {},
   "outputs": [],
   "source": [
    "G.add_edge(\"King\", \"Hamlet\") "
   ]
  },
  {
   "cell_type": "code",
   "execution_count": 49,
   "id": "3d6f5610",
   "metadata": {},
   "outputs": [],
   "source": [
    "G.add_edge(\"King\", \"Queen\") "
   ]
  },
  {
   "cell_type": "code",
   "execution_count": 50,
   "id": "a074d5f6",
   "metadata": {},
   "outputs": [],
   "source": [
    "G.add_edge(\"Queen\", \"Hamlet\") "
   ]
  },
  {
   "cell_type": "code",
   "execution_count": 51,
   "id": "8f7271ac",
   "metadata": {},
   "outputs": [],
   "source": [
    "G.add_edge(\"Horatio\", \"Hamlet\") "
   ]
  },
  {
   "cell_type": "code",
   "execution_count": 52,
   "id": "ac85f0ce",
   "metadata": {},
   "outputs": [],
   "source": [
    "G.add_edge(\"Hamlet\", \"Marcellus\") "
   ]
  },
  {
   "cell_type": "code",
   "execution_count": 53,
   "id": "71c2826b",
   "metadata": {},
   "outputs": [],
   "source": [
    "G.add_edge(\"Laertes\", \"Ophelia\") "
   ]
  },
  {
   "cell_type": "code",
   "execution_count": 54,
   "id": "8f81eb7b",
   "metadata": {},
   "outputs": [],
   "source": [
    "G.add_edge(\"Laertes\", \"Polonius\") "
   ]
  },
  {
   "cell_type": "code",
   "execution_count": 55,
   "id": "730110e2",
   "metadata": {},
   "outputs": [],
   "source": [
    "G.add_edge(\"Polonius\", \"Ophelia\") "
   ]
  },
  {
   "cell_type": "code",
   "execution_count": 56,
   "id": "db535896",
   "metadata": {},
   "outputs": [],
   "source": [
    "G.add_edge(\"Hamlet\", \"Ghost\") "
   ]
  },
  {
   "cell_type": "code",
   "execution_count": 57,
   "id": "2fffc787",
   "metadata": {},
   "outputs": [],
   "source": [
    "G.add_edge(\"Polonius\", \"Reynaldo\") "
   ]
  },
  {
   "cell_type": "code",
   "execution_count": 58,
   "id": "8f06323b",
   "metadata": {},
   "outputs": [],
   "source": [
    "G.add_edge(\"Ophelia\", \"Polonius\") "
   ]
  },
  {
   "cell_type": "code",
   "execution_count": 59,
   "id": "73884d36",
   "metadata": {},
   "outputs": [],
   "source": [
    "G.add_edge(\"Queen\", \"Rosencrantz\") "
   ]
  },
  {
   "cell_type": "code",
   "execution_count": 60,
   "id": "074cf5c7",
   "metadata": {},
   "outputs": [],
   "source": [
    "G.add_edge(\"King\", \"Rosencrantz\") "
   ]
  },
  {
   "cell_type": "code",
   "execution_count": 61,
   "id": "774586cc",
   "metadata": {},
   "outputs": [],
   "source": [
    "G.add_edge(\"Queen\", \"Guildenstern\") "
   ]
  },
  {
   "cell_type": "code",
   "execution_count": 62,
   "id": "c8e2e6f9",
   "metadata": {},
   "outputs": [],
   "source": [
    "G.add_edge(\"King\", \"Guildenstern\") "
   ]
  },
  {
   "cell_type": "code",
   "execution_count": 63,
   "id": "7a32a740",
   "metadata": {},
   "outputs": [],
   "source": [
    "G.add_edge(\"King\", \"Voltemand\") "
   ]
  },
  {
   "cell_type": "code",
   "execution_count": 64,
   "id": "fd5c361f",
   "metadata": {},
   "outputs": [],
   "source": [
    "G.add_edge(\"King\", \"Polonius\") "
   ]
  },
  {
   "cell_type": "code",
   "execution_count": 65,
   "id": "d410c9ed",
   "metadata": {},
   "outputs": [],
   "source": [
    "G.add_edge(\"Queen\", \"Polonius\") "
   ]
  },
  {
   "cell_type": "code",
   "execution_count": 66,
   "id": "0ba1ea2e",
   "metadata": {},
   "outputs": [],
   "source": [
    "G.add_edge(\"Hamlet\", \"Polonius\") "
   ]
  },
  {
   "cell_type": "code",
   "execution_count": 67,
   "id": "74be0c6a",
   "metadata": {},
   "outputs": [],
   "source": [
    "G.add_edge(\"Polonius\", \"Rosencrantz\")"
   ]
  },
  {
   "cell_type": "code",
   "execution_count": 68,
   "id": "0d852719",
   "metadata": {},
   "outputs": [],
   "source": [
    "G.add_edge(\"Guildenstern\", \"Rosencrantz\")"
   ]
  },
  {
   "cell_type": "code",
   "execution_count": 69,
   "id": "9c61afe1",
   "metadata": {},
   "outputs": [],
   "source": [
    "G.add_edge(\"Hamlet\", \"Rosencrantz\")"
   ]
  },
  {
   "cell_type": "code",
   "execution_count": 70,
   "id": "98830580",
   "metadata": {},
   "outputs": [],
   "source": [
    "G.add_edge(\"First Player\", \"Hamlet\")"
   ]
  },
  {
   "cell_type": "code",
   "execution_count": 71,
   "id": "0e3d706d",
   "metadata": {},
   "outputs": [],
   "source": [
    "G.add_edge(\"Polonius\", \"First Player\")"
   ]
  },
  {
   "cell_type": "code",
   "execution_count": 72,
   "id": "20bf3990",
   "metadata": {},
   "outputs": [],
   "source": [
    "G.add_edge(\"Polonius\", \"Rosencrantz\") "
   ]
  },
  {
   "cell_type": "code",
   "execution_count": 73,
   "id": "0d32daec",
   "metadata": {},
   "outputs": [],
   "source": [
    "G.add_edge(\"Queen\", \"Ophelia\") "
   ]
  },
  {
   "cell_type": "code",
   "execution_count": 74,
   "id": "7fe3bca4",
   "metadata": {},
   "outputs": [],
   "source": [
    "G.add_edge(\"Ophelia\", \"King\")"
   ]
  },
  {
   "cell_type": "code",
   "execution_count": 75,
   "id": "8ebc1cf6",
   "metadata": {},
   "outputs": [],
   "source": [
    "G.add_edge(\"Player King\", \"Player Queen\")"
   ]
  },
  {
   "cell_type": "code",
   "execution_count": 76,
   "id": "3d52a5b7",
   "metadata": {},
   "outputs": [],
   "source": [
    "G.add_edge(\"Guildenstern\", \"Hamlet\")"
   ]
  },
  {
   "cell_type": "code",
   "execution_count": 77,
   "id": "4bf5f65a",
   "metadata": {},
   "outputs": [],
   "source": [
    "G.add_edge(\"Captain\", \"Hamlet\")"
   ]
  },
  {
   "cell_type": "code",
   "execution_count": 78,
   "id": "d93233db",
   "metadata": {},
   "outputs": [],
   "source": [
    "G.add_edge(\"Queen\", \"Gentleman\")"
   ]
  },
  {
   "cell_type": "code",
   "execution_count": 79,
   "id": "f151bd3c",
   "metadata": {},
   "outputs": [],
   "source": [
    "G.add_edge(\"King\", \"Gentleman\")"
   ]
  },
  {
   "cell_type": "code",
   "execution_count": 80,
   "id": "8a67686a",
   "metadata": {},
   "outputs": [],
   "source": [
    "G.add_edge(\"Danes\", \"Laertes\")"
   ]
  },
  {
   "cell_type": "code",
   "execution_count": 81,
   "id": "098a60f1",
   "metadata": {},
   "outputs": [],
   "source": [
    "G.add_edge(\"Horatio\", \"Servant\")"
   ]
  },
  {
   "cell_type": "code",
   "execution_count": 82,
   "id": "468d614b",
   "metadata": {},
   "outputs": [],
   "source": [
    "G.add_edge(\"First Sailor\", \"Horatio\")"
   ]
  },
  {
   "cell_type": "code",
   "execution_count": 83,
   "id": "6df33eca",
   "metadata": {},
   "outputs": [],
   "source": [
    "G.add_edge(\"Messenger\", \"King\")"
   ]
  },
  {
   "cell_type": "code",
   "execution_count": 84,
   "id": "54b46717",
   "metadata": {},
   "outputs": [],
   "source": [
    "G.add_edge(\"First Clown\", \"Second Clown\")"
   ]
  },
  {
   "cell_type": "code",
   "execution_count": 85,
   "id": "913faf59",
   "metadata": {},
   "outputs": [],
   "source": [
    "G.add_edge(\"First Clown\", \"Hamlet\")"
   ]
  },
  {
   "cell_type": "code",
   "execution_count": 86,
   "id": "e92c59d3",
   "metadata": {},
   "outputs": [],
   "source": [
    "G.add_edge(\"Priest\", \"Laertes\")"
   ]
  },
  {
   "cell_type": "code",
   "execution_count": 87,
   "id": "82cb5b43",
   "metadata": {},
   "outputs": [],
   "source": [
    "G.add_edge(\"Osric\", \"Hamlet\")"
   ]
  },
  {
   "cell_type": "code",
   "execution_count": 88,
   "id": "d2221aca",
   "metadata": {},
   "outputs": [],
   "source": [
    "G.add_edge(\"Lord\", \"Hamlet\")"
   ]
  },
  {
   "cell_type": "code",
   "execution_count": 89,
   "id": "f21ce07e",
   "metadata": {},
   "outputs": [],
   "source": [
    "G.add_edge(\"Fortinbras\", \"Horatio\")"
   ]
  },
  {
   "cell_type": "code",
   "execution_count": 90,
   "id": "8c5117fa",
   "metadata": {},
   "outputs": [],
   "source": [
    "G.add_edge(\"Fortinbras\", \"First Ambassator\")"
   ]
  },
  {
   "cell_type": "markdown",
   "id": "2e92b823",
   "metadata": {},
   "source": [
    "# 5. Checking the structure of our network"
   ]
  },
  {
   "cell_type": "markdown",
   "id": "a4204360",
   "metadata": {},
   "source": [
    "Now let's have a look at the number of nodes that we have. Use the G.number_of_nodes() script and then transform G.nodes into a list."
   ]
  },
  {
   "cell_type": "code",
   "execution_count": 91,
   "id": "ca65cfef",
   "metadata": {},
   "outputs": [],
   "source": [
    "#Your code in here"
   ]
  },
  {
   "cell_type": "code",
   "execution_count": 92,
   "id": "761045f5",
   "metadata": {},
   "outputs": [
    {
     "data": {
      "text/plain": [
       "32"
      ]
     },
     "execution_count": 92,
     "metadata": {},
     "output_type": "execute_result"
    }
   ],
   "source": [
    "#Solution\n",
    "G.number_of_nodes()"
   ]
  },
  {
   "cell_type": "code",
   "execution_count": 93,
   "id": "615985d9",
   "metadata": {},
   "outputs": [
    {
     "data": {
      "text/plain": [
       "['Hamlet',\n",
       " 'King',\n",
       " 'Ghost',\n",
       " 'Queen',\n",
       " 'Polonius',\n",
       " 'Laertes',\n",
       " 'Ophelia',\n",
       " 'Horatio',\n",
       " 'Fortinbras',\n",
       " 'Voltemand',\n",
       " 'Cornelius',\n",
       " 'Rosencrantz',\n",
       " 'Guildenstern',\n",
       " 'Marcellus',\n",
       " 'Barnardo',\n",
       " 'Francisco',\n",
       " 'Osric',\n",
       " 'Reynaldo',\n",
       " 'First Player',\n",
       " 'Player King',\n",
       " 'Player Queen',\n",
       " 'Captain',\n",
       " 'Gentleman',\n",
       " 'Danes',\n",
       " 'Servant',\n",
       " 'First Sailor',\n",
       " 'Messenger',\n",
       " 'First Clown',\n",
       " 'Second Clown',\n",
       " 'Priest',\n",
       " 'Lord',\n",
       " 'First Ambassator']"
      ]
     },
     "execution_count": 93,
     "metadata": {},
     "output_type": "execute_result"
    }
   ],
   "source": [
    "list(G.nodes)"
   ]
  },
  {
   "cell_type": "markdown",
   "id": "e8d04517",
   "metadata": {},
   "source": [
    "Let's do the same with the edges."
   ]
  },
  {
   "cell_type": "code",
   "execution_count": 94,
   "id": "4245c14e",
   "metadata": {},
   "outputs": [],
   "source": [
    "#Your code in here"
   ]
  },
  {
   "cell_type": "code",
   "execution_count": 95,
   "id": "16a7709b",
   "metadata": {},
   "outputs": [
    {
     "data": {
      "text/plain": [
       "49"
      ]
     },
     "execution_count": 95,
     "metadata": {},
     "output_type": "execute_result"
    }
   ],
   "source": [
    "#Solution\n",
    "G.number_of_edges()"
   ]
  },
  {
   "cell_type": "code",
   "execution_count": 96,
   "id": "86a1e761",
   "metadata": {},
   "outputs": [
    {
     "data": {
      "text/plain": [
       "[('Hamlet', 'King'),\n",
       " ('Hamlet', 'Queen'),\n",
       " ('Hamlet', 'Horatio'),\n",
       " ('Hamlet', 'Marcellus'),\n",
       " ('Hamlet', 'Ghost'),\n",
       " ('Hamlet', 'Polonius'),\n",
       " ('Hamlet', 'Rosencrantz'),\n",
       " ('Hamlet', 'First Player'),\n",
       " ('Hamlet', 'Guildenstern'),\n",
       " ('Hamlet', 'Captain'),\n",
       " ('Hamlet', 'First Clown'),\n",
       " ('Hamlet', 'Osric'),\n",
       " ('Hamlet', 'Lord'),\n",
       " ('King', 'Cornelius'),\n",
       " ('King', 'Voltemand'),\n",
       " ('King', 'Laertes'),\n",
       " ('King', 'Polonius'),\n",
       " ('King', 'Queen'),\n",
       " ('King', 'Rosencrantz'),\n",
       " ('King', 'Guildenstern'),\n",
       " ('King', 'Ophelia'),\n",
       " ('King', 'Gentleman'),\n",
       " ('King', 'Messenger'),\n",
       " ('Queen', 'Rosencrantz'),\n",
       " ('Queen', 'Guildenstern'),\n",
       " ('Queen', 'Polonius'),\n",
       " ('Queen', 'Ophelia'),\n",
       " ('Queen', 'Gentleman'),\n",
       " ('Polonius', 'Laertes'),\n",
       " ('Polonius', 'Ophelia'),\n",
       " ('Polonius', 'Reynaldo'),\n",
       " ('Polonius', 'Rosencrantz'),\n",
       " ('Polonius', 'First Player'),\n",
       " ('Laertes', 'Ophelia'),\n",
       " ('Laertes', 'Danes'),\n",
       " ('Laertes', 'Priest'),\n",
       " ('Horatio', 'Francisco'),\n",
       " ('Horatio', 'Marcellus'),\n",
       " ('Horatio', 'Barnardo'),\n",
       " ('Horatio', 'Servant'),\n",
       " ('Horatio', 'First Sailor'),\n",
       " ('Horatio', 'Fortinbras'),\n",
       " ('Fortinbras', 'First Ambassator'),\n",
       " ('Rosencrantz', 'Guildenstern'),\n",
       " ('Marcellus', 'Francisco'),\n",
       " ('Marcellus', 'Barnardo'),\n",
       " ('Barnardo', 'Francisco'),\n",
       " ('Player King', 'Player Queen'),\n",
       " ('First Clown', 'Second Clown')]"
      ]
     },
     "execution_count": 96,
     "metadata": {},
     "output_type": "execute_result"
    }
   ],
   "source": [
    "list(G.edges)"
   ]
  },
  {
   "cell_type": "markdown",
   "id": "3d3e70aa",
   "metadata": {},
   "source": [
    "# 6. Network Visualization"
   ]
  },
  {
   "cell_type": "markdown",
   "id": "d8423fd0",
   "metadata": {},
   "source": [
    "And now let's have a look at our network!"
   ]
  },
  {
   "cell_type": "code",
   "execution_count": 97,
   "id": "e255e55b",
   "metadata": {},
   "outputs": [],
   "source": [
    "#Your code in here"
   ]
  },
  {
   "cell_type": "code",
   "execution_count": 98,
   "id": "d980571c",
   "metadata": {},
   "outputs": [],
   "source": [
    "#Solution\n",
    "\n",
    "import matplotlib.pyplot as plt"
   ]
  },
  {
   "cell_type": "code",
   "execution_count": 99,
   "id": "db79e4d2",
   "metadata": {},
   "outputs": [],
   "source": [
    "plt.rcParams[\"figure.figsize\"] = (20, 20) #to change the size of the figure"
   ]
  },
  {
   "cell_type": "code",
   "execution_count": 100,
   "id": "cb998041",
   "metadata": {},
   "outputs": [
    {
     "data": {
      "image/png": "[encoded data removed]",
      "text/plain": [
       "<Figure size 2000x2000 with 1 Axes>"
      ]
     },
     "metadata": {},
     "output_type": "display_data"
    }
   ],
   "source": [
    "nx.draw(G, with_labels = True, node_size = 1000) #to change the size of our nodes\n",
    "plt.show()"
   ]
  },
  {
   "cell_type": "markdown",
   "id": "c9f4694d",
   "metadata": {},
   "source": [
    "# 7. Network metrics"
   ]
  },
  {
   "cell_type": "markdown",
   "id": "19022d46",
   "metadata": {},
   "source": [
    "I looks like the tree characters that appear in the center of the network are Kat, Patrick and Joey. Let's try to discover who is the **hub**: the node of the network with the higher number of connections."
   ]
  },
  {
   "cell_type": "markdown",
   "id": "d6affc3c",
   "metadata": {},
   "source": [
    "1. Calculating **Network Degree**: who has more connections?"
   ]
  },
  {
   "cell_type": "code",
   "execution_count": 101,
   "id": "547b2ff8",
   "metadata": {},
   "outputs": [],
   "source": [
    "#Your code in here"
   ]
  },
  {
   "cell_type": "code",
   "execution_count": 102,
   "id": "dda65655",
   "metadata": {},
   "outputs": [
    {
     "data": {
      "text/plain": [
       "DegreeView({'Hamlet': 13, 'King': 11, 'Ghost': 1, 'Queen': 7, 'Polonius': 8, 'Laertes': 5, 'Ophelia': 4, 'Horatio': 7, 'Fortinbras': 2, 'Voltemand': 1, 'Cornelius': 1, 'Rosencrantz': 5, 'Guildenstern': 4, 'Marcellus': 4, 'Barnardo': 3, 'Francisco': 3, 'Osric': 1, 'Reynaldo': 1, 'First Player': 2, 'Player King': 1, 'Player Queen': 1, 'Captain': 1, 'Gentleman': 2, 'Danes': 1, 'Servant': 1, 'First Sailor': 1, 'Messenger': 1, 'First Clown': 2, 'Second Clown': 1, 'Priest': 1, 'Lord': 1, 'First Ambassator': 1})"
      ]
     },
     "execution_count": 102,
     "metadata": {},
     "output_type": "execute_result"
    }
   ],
   "source": [
    "#Solution\n",
    "\n",
    "nx.degree(G)"
   ]
  },
  {
   "cell_type": "code",
   "execution_count": 103,
   "id": "a0f8e8bb",
   "metadata": {},
   "outputs": [],
   "source": [
    "degrees = list(sorted(nx.degree(G), key=lambda x: x[1], reverse=True))"
   ]
  },
  {
   "cell_type": "code",
   "execution_count": 104,
   "id": "edeb2e53",
   "metadata": {},
   "outputs": [
    {
     "data": {
      "text/plain": [
       "[('Hamlet', 13),\n",
       " ('King', 11),\n",
       " ('Polonius', 8),\n",
       " ('Queen', 7),\n",
       " ('Horatio', 7),\n",
       " ('Laertes', 5),\n",
       " ('Rosencrantz', 5),\n",
       " ('Ophelia', 4),\n",
       " ('Guildenstern', 4),\n",
       " ('Marcellus', 4),\n",
       " ('Barnardo', 3),\n",
       " ('Francisco', 3),\n",
       " ('Fortinbras', 2),\n",
       " ('First Player', 2),\n",
       " ('Gentleman', 2),\n",
       " ('First Clown', 2),\n",
       " ('Ghost', 1),\n",
       " ('Voltemand', 1),\n",
       " ('Cornelius', 1),\n",
       " ('Osric', 1),\n",
       " ('Reynaldo', 1),\n",
       " ('Player King', 1),\n",
       " ('Player Queen', 1),\n",
       " ('Captain', 1),\n",
       " ('Danes', 1),\n",
       " ('Servant', 1),\n",
       " ('First Sailor', 1),\n",
       " ('Messenger', 1),\n",
       " ('Second Clown', 1),\n",
       " ('Priest', 1),\n",
       " ('Lord', 1),\n",
       " ('First Ambassator', 1)]"
      ]
     },
     "execution_count": 104,
     "metadata": {},
     "output_type": "execute_result"
    }
   ],
   "source": [
    "degrees"
   ]
  },
  {
   "cell_type": "markdown",
   "id": "2b9925f3",
   "metadata": {},
   "source": [
    "2. Calculating **Betweenes Centrality Scores**: who is the person that connects more nodes in the network?"
   ]
  },
  {
   "cell_type": "code",
   "execution_count": 105,
   "id": "f0cfd5b2",
   "metadata": {},
   "outputs": [],
   "source": [
    "#Your code in here"
   ]
  },
  {
   "cell_type": "code",
   "execution_count": 106,
   "id": "d02abc15",
   "metadata": {},
   "outputs": [],
   "source": [
    "#Solution\n",
    "\n",
    "betweenness = nx.betweenness_centrality(G)"
   ]
  },
  {
   "cell_type": "code",
   "execution_count": 107,
   "id": "ebe04e81",
   "metadata": {},
   "outputs": [
    {
     "data": {
      "text/plain": [
       "{'Hamlet': 0.5956989247311828,\n",
       " 'King': 0.27706093189964165,\n",
       " 'Ghost': 0.0,\n",
       " 'Queen': 0.03620071684587813,\n",
       " 'Polonius': 0.14157706093189962,\n",
       " 'Laertes': 0.11827956989247312,\n",
       " 'Ophelia': 0.0021505376344086017,\n",
       " 'Horatio': 0.2731182795698925,\n",
       " 'Fortinbras': 0.06021505376344086,\n",
       " 'Voltemand': 0.0,\n",
       " 'Cornelius': 0.0,\n",
       " 'Rosencrantz': 0.001075268817204301,\n",
       " 'Guildenstern': 0.0,\n",
       " 'Marcellus': 0.047311827956989246,\n",
       " 'Barnardo': 0.0,\n",
       " 'Francisco': 0.0,\n",
       " 'Osric': 0.0,\n",
       " 'Reynaldo': 0.0,\n",
       " 'First Player': 0.0,\n",
       " 'Player King': 0.0,\n",
       " 'Player Queen': 0.0,\n",
       " 'Captain': 0.0,\n",
       " 'Gentleman': 0.0,\n",
       " 'Danes': 0.0,\n",
       " 'Servant': 0.0,\n",
       " 'First Sailor': 0.0,\n",
       " 'Messenger': 0.0,\n",
       " 'First Clown': 0.06021505376344086,\n",
       " 'Second Clown': 0.0,\n",
       " 'Priest': 0.0,\n",
       " 'Lord': 0.0,\n",
       " 'First Ambassator': 0.0}"
      ]
     },
     "execution_count": 107,
     "metadata": {},
     "output_type": "execute_result"
    }
   ],
   "source": [
    "betweenness"
   ]
  },
  {
   "cell_type": "code",
   "execution_count": 108,
   "id": "aa79d570",
   "metadata": {},
   "outputs": [],
   "source": [
    "betweenness = sorted(betweenness.items(), key=lambda x: x[1], reverse=True)"
   ]
  },
  {
   "cell_type": "code",
   "execution_count": 109,
   "id": "71f0ad56",
   "metadata": {},
   "outputs": [
    {
     "data": {
      "text/plain": [
       "[('Hamlet', 0.5956989247311828),\n",
       " ('King', 0.27706093189964165),\n",
       " ('Horatio', 0.2731182795698925),\n",
       " ('Polonius', 0.14157706093189962),\n",
       " ('Laertes', 0.11827956989247312),\n",
       " ('Fortinbras', 0.06021505376344086),\n",
       " ('First Clown', 0.06021505376344086),\n",
       " ('Marcellus', 0.047311827956989246),\n",
       " ('Queen', 0.03620071684587813),\n",
       " ('Ophelia', 0.0021505376344086017),\n",
       " ('Rosencrantz', 0.001075268817204301),\n",
       " ('Ghost', 0.0),\n",
       " ('Voltemand', 0.0),\n",
       " ('Cornelius', 0.0),\n",
       " ('Guildenstern', 0.0),\n",
       " ('Barnardo', 0.0),\n",
       " ('Francisco', 0.0),\n",
       " ('Osric', 0.0),\n",
       " ('Reynaldo', 0.0),\n",
       " ('First Player', 0.0),\n",
       " ('Player King', 0.0),\n",
       " ('Player Queen', 0.0),\n",
       " ('Captain', 0.0),\n",
       " ('Gentleman', 0.0),\n",
       " ('Danes', 0.0),\n",
       " ('Servant', 0.0),\n",
       " ('First Sailor', 0.0),\n",
       " ('Messenger', 0.0),\n",
       " ('Second Clown', 0.0),\n",
       " ('Priest', 0.0),\n",
       " ('Lord', 0.0),\n",
       " ('First Ambassator', 0.0)]"
      ]
     },
     "execution_count": 109,
     "metadata": {},
     "output_type": "execute_result"
    }
   ],
   "source": [
    "betweenness"
   ]
  },
  {
   "cell_type": "markdown",
   "id": "83c7c71d",
   "metadata": {},
   "source": [
    "3. **Communities**: who forms different communities within this network?"
   ]
  },
  {
   "cell_type": "code",
   "execution_count": 110,
   "id": "436fe783",
   "metadata": {},
   "outputs": [],
   "source": [
    "#Your code in here"
   ]
  },
  {
   "cell_type": "code",
   "execution_count": 111,
   "id": "2fc92c40",
   "metadata": {},
   "outputs": [],
   "source": [
    "#Solution\n",
    "from networkx.algorithms import community"
   ]
  },
  {
   "cell_type": "code",
   "execution_count": 112,
   "id": "92b9c820",
   "metadata": {},
   "outputs": [],
   "source": [
    "communities = community.greedy_modularity_communities(G)"
   ]
  },
  {
   "cell_type": "code",
   "execution_count": 113,
   "id": "61312b0f",
   "metadata": {},
   "outputs": [
    {
     "data": {
      "text/plain": [
       "[frozenset({'Cornelius',\n",
       "            'Gentleman',\n",
       "            'Guildenstern',\n",
       "            'King',\n",
       "            'Messenger',\n",
       "            'Queen',\n",
       "            'Rosencrantz',\n",
       "            'Voltemand'}),\n",
       " frozenset({'Barnardo',\n",
       "            'First Ambassator',\n",
       "            'First Sailor',\n",
       "            'Fortinbras',\n",
       "            'Francisco',\n",
       "            'Horatio',\n",
       "            'Marcellus',\n",
       "            'Servant'}),\n",
       " frozenset({'Danes',\n",
       "            'First Player',\n",
       "            'Laertes',\n",
       "            'Ophelia',\n",
       "            'Polonius',\n",
       "            'Priest',\n",
       "            'Reynaldo'}),\n",
       " frozenset({'Captain',\n",
       "            'First Clown',\n",
       "            'Ghost',\n",
       "            'Hamlet',\n",
       "            'Lord',\n",
       "            'Osric',\n",
       "            'Second Clown'}),\n",
       " frozenset({'Player King', 'Player Queen'})]"
      ]
     },
     "execution_count": 113,
     "metadata": {},
     "output_type": "execute_result"
    }
   ],
   "source": [
    "communities"
   ]
  },
  {
   "cell_type": "markdown",
   "id": "c4aefb4d",
   "metadata": {},
   "source": [
    "And then we can check whether there are some narrative sub-groups that tend to interact more with each other, and we do indeed observe four different communities."
   ]
  },
  {
   "cell_type": "markdown",
   "id": "d5ddd370",
   "metadata": {},
   "source": [
    "# 8. Saving up our data"
   ]
  },
  {
   "cell_type": "markdown",
   "id": "f5ca00c6",
   "metadata": {},
   "source": [
    "Let's transform our network into a Pandas Dataframe. We can use nx.to_pandas_adjacency() to do this. It will return a Document Term Matrix where each node is assigned 1 point if there is an interaction between two characters, and 0 points if there is no interaction."
   ]
  },
  {
   "cell_type": "code",
   "execution_count": 114,
   "id": "c788107c",
   "metadata": {},
   "outputs": [],
   "source": [
    "#Your code in here"
   ]
  },
  {
   "cell_type": "code",
   "execution_count": 115,
   "id": "09232847",
   "metadata": {},
   "outputs": [],
   "source": [
    "#Solution\n",
    "\n",
    "df_hamlet = nx.to_pandas_adjacency(G)"
   ]
  },
  {
   "cell_type": "code",
   "execution_count": 116,
   "id": "98a1ba9d",
   "metadata": {},
   "outputs": [
    {
     "data": {
      "text/html": [
       "<div>\n",
       "<style scoped>\n",
       "    .dataframe tbody tr th:only-of-type {\n",
       "        vertical-align: middle;\n",
       "    }\n",
       "\n",
       "    .dataframe tbody tr th {\n",
       "        vertical-align: top;\n",
       "    }\n",
       "\n",
       "    .dataframe thead th {\n",
       "        text-align: right;\n",
       "    }\n",
       "</style>\n",
       "<table border=\"1\" class=\"dataframe\">\n",
       "  <thead>\n",
       "    <tr style=\"text-align: right;\">\n",
       "      <th></th>\n",
       "      <th>Hamlet</th>\n",
       "      <th>King</th>\n",
       "      <th>Ghost</th>\n",
       "      <th>Queen</th>\n",
       "      <th>Polonius</th>\n",
       "      <th>Laertes</th>\n",
       "      <th>Ophelia</th>\n",
       "      <th>Horatio</th>\n",
       "      <th>Fortinbras</th>\n",
       "      <th>Voltemand</th>\n",
       "      <th>...</th>\n",
       "      <th>Gentleman</th>\n",
       "      <th>Danes</th>\n",
       "      <th>Servant</th>\n",
       "      <th>First Sailor</th>\n",
       "      <th>Messenger</th>\n",
       "      <th>First Clown</th>\n",
       "      <th>Second Clown</th>\n",
       "      <th>Priest</th>\n",
       "      <th>Lord</th>\n",
       "      <th>First Ambassator</th>\n",
       "    </tr>\n",
       "  </thead>\n",
       "  <tbody>\n",
       "    <tr>\n",
       "      <th>Hamlet</th>\n",
       "      <td>0.0</td>\n",
       "      <td>1.0</td>\n",
       "      <td>1.0</td>\n",
       "      <td>1.0</td>\n",
       "      <td>1.0</td>\n",
       "      <td>0.0</td>\n",
       "      <td>0.0</td>\n",
       "      <td>1.0</td>\n",
       "      <td>0.0</td>\n",
       "      <td>0.0</td>\n",
       "      <td>...</td>\n",
       "      <td>0.0</td>\n",
       "      <td>0.0</td>\n",
       "      <td>0.0</td>\n",
       "      <td>0.0</td>\n",
       "      <td>0.0</td>\n",
       "      <td>1.0</td>\n",
       "      <td>0.0</td>\n",
       "      <td>0.0</td>\n",
       "      <td>1.0</td>\n",
       "      <td>0.0</td>\n",
       "    </tr>\n",
       "    <tr>\n",
       "      <th>King</th>\n",
       "      <td>1.0</td>\n",
       "      <td>0.0</td>\n",
       "      <td>0.0</td>\n",
       "      <td>1.0</td>\n",
       "      <td>1.0</td>\n",
       "      <td>1.0</td>\n",
       "      <td>1.0</td>\n",
       "      <td>0.0</td>\n",
       "      <td>0.0</td>\n",
       "      <td>1.0</td>\n",
       "      <td>...</td>\n",
       "      <td>1.0</td>\n",
       "      <td>0.0</td>\n",
       "      <td>0.0</td>\n",
       "      <td>0.0</td>\n",
       "      <td>1.0</td>\n",
       "      <td>0.0</td>\n",
       "      <td>0.0</td>\n",
       "      <td>0.0</td>\n",
       "      <td>0.0</td>\n",
       "      <td>0.0</td>\n",
       "    </tr>\n",
       "    <tr>\n",
       "      <th>Ghost</th>\n",
       "      <td>1.0</td>\n",
       "      <td>0.0</td>\n",
       "      <td>0.0</td>\n",
       "      <td>0.0</td>\n",
       "      <td>0.0</td>\n",
       "      <td>0.0</td>\n",
       "      <td>0.0</td>\n",
       "      <td>0.0</td>\n",
       "      <td>0.0</td>\n",
       "      <td>0.0</td>\n",
       "      <td>...</td>\n",
       "      <td>0.0</td>\n",
       "      <td>0.0</td>\n",
       "      <td>0.0</td>\n",
       "      <td>0.0</td>\n",
       "      <td>0.0</td>\n",
       "      <td>0.0</td>\n",
       "      <td>0.0</td>\n",
       "      <td>0.0</td>\n",
       "      <td>0.0</td>\n",
       "      <td>0.0</td>\n",
       "    </tr>\n",
       "    <tr>\n",
       "      <th>Queen</th>\n",
       "      <td>1.0</td>\n",
       "      <td>1.0</td>\n",
       "      <td>0.0</td>\n",
       "      <td>0.0</td>\n",
       "      <td>1.0</td>\n",
       "      <td>0.0</td>\n",
       "      <td>1.0</td>\n",
       "      <td>0.0</td>\n",
       "      <td>0.0</td>\n",
       "      <td>0.0</td>\n",
       "      <td>...</td>\n",
       "      <td>1.0</td>\n",
       "      <td>0.0</td>\n",
       "      <td>0.0</td>\n",
       "      <td>0.0</td>\n",
       "      <td>0.0</td>\n",
       "      <td>0.0</td>\n",
       "      <td>0.0</td>\n",
       "      <td>0.0</td>\n",
       "      <td>0.0</td>\n",
       "      <td>0.0</td>\n",
       "    </tr>\n",
       "    <tr>\n",
       "      <th>Polonius</th>\n",
       "      <td>1.0</td>\n",
       "      <td>1.0</td>\n",
       "      <td>0.0</td>\n",
       "      <td>1.0</td>\n",
       "      <td>0.0</td>\n",
       "      <td>1.0</td>\n",
       "      <td>1.0</td>\n",
       "      <td>0.0</td>\n",
       "      <td>0.0</td>\n",
       "      <td>0.0</td>\n",
       "      <td>...</td>\n",
       "      <td>0.0</td>\n",
       "      <td>0.0</td>\n",
       "      <td>0.0</td>\n",
       "      <td>0.0</td>\n",
       "      <td>0.0</td>\n",
       "      <td>0.0</td>\n",
       "      <td>0.0</td>\n",
       "      <td>0.0</td>\n",
       "      <td>0.0</td>\n",
       "      <td>0.0</td>\n",
       "    </tr>\n",
       "    <tr>\n",
       "      <th>Laertes</th>\n",
       "      <td>0.0</td>\n",
       "      <td>1.0</td>\n",
       "      <td>0.0</td>\n",
       "      <td>0.0</td>\n",
       "      <td>1.0</td>\n",
       "      <td>0.0</td>\n",
       "      <td>1.0</td>\n",
       "      <td>0.0</td>\n",
       "      <td>0.0</td>\n",
       "      <td>0.0</td>\n",
       "      <td>...</td>\n",
       "      <td>0.0</td>\n",
       "      <td>1.0</td>\n",
       "      <td>0.0</td>\n",
       "      <td>0.0</td>\n",
       "      <td>0.0</td>\n",
       "      <td>0.0</td>\n",
       "      <td>0.0</td>\n",
       "      <td>1.0</td>\n",
       "      <td>0.0</td>\n",
       "      <td>0.0</td>\n",
       "    </tr>\n",
       "    <tr>\n",
       "      <th>Ophelia</th>\n",
       "      <td>0.0</td>\n",
       "      <td>1.0</td>\n",
       "      <td>0.0</td>\n",
       "      <td>1.0</td>\n",
       "      <td>1.0</td>\n",
       "      <td>1.0</td>\n",
       "      <td>0.0</td>\n",
       "      <td>0.0</td>\n",
       "      <td>0.0</td>\n",
       "      <td>0.0</td>\n",
       "      <td>...</td>\n",
       "      <td>0.0</td>\n",
       "      <td>0.0</td>\n",
       "      <td>0.0</td>\n",
       "      <td>0.0</td>\n",
       "      <td>0.0</td>\n",
       "      <td>0.0</td>\n",
       "      <td>0.0</td>\n",
       "      <td>0.0</td>\n",
       "      <td>0.0</td>\n",
       "      <td>0.0</td>\n",
       "    </tr>\n",
       "    <tr>\n",
       "      <th>Horatio</th>\n",
       "      <td>1.0</td>\n",
       "      <td>0.0</td>\n",
       "      <td>0.0</td>\n",
       "      <td>0.0</td>\n",
       "      <td>0.0</td>\n",
       "      <td>0.0</td>\n",
       "      <td>0.0</td>\n",
       "      <td>0.0</td>\n",
       "      <td>1.0</td>\n",
       "      <td>0.0</td>\n",
       "      <td>...</td>\n",
       "      <td>0.0</td>\n",
       "      <td>0.0</td>\n",
       "      <td>1.0</td>\n",
       "      <td>1.0</td>\n",
       "      <td>0.0</td>\n",
       "      <td>0.0</td>\n",
       "      <td>0.0</td>\n",
       "      <td>0.0</td>\n",
       "      <td>0.0</td>\n",
       "      <td>0.0</td>\n",
       "    </tr>\n",
       "    <tr>\n",
       "      <th>Fortinbras</th>\n",
       "      <td>0.0</td>\n",
       "      <td>0.0</td>\n",
       "      <td>0.0</td>\n",
       "      <td>0.0</td>\n",
       "      <td>0.0</td>\n",
       "      <td>0.0</td>\n",
       "      <td>0.0</td>\n",
       "      <td>1.0</td>\n",
       "      <td>0.0</td>\n",
       "      <td>0.0</td>\n",
       "      <td>...</td>\n",
       "      <td>0.0</td>\n",
       "      <td>0.0</td>\n",
       "      <td>0.0</td>\n",
       "      <td>0.0</td>\n",
       "      <td>0.0</td>\n",
       "      <td>0.0</td>\n",
       "      <td>0.0</td>\n",
       "      <td>0.0</td>\n",
       "      <td>0.0</td>\n",
       "      <td>1.0</td>\n",
       "    </tr>\n",
       "    <tr>\n",
       "      <th>Voltemand</th>\n",
       "      <td>0.0</td>\n",
       "      <td>1.0</td>\n",
       "      <td>0.0</td>\n",
       "      <td>0.0</td>\n",
       "      <td>0.0</td>\n",
       "      <td>0.0</td>\n",
       "      <td>0.0</td>\n",
       "      <td>0.0</td>\n",
       "      <td>0.0</td>\n",
       "      <td>0.0</td>\n",
       "      <td>...</td>\n",
       "      <td>0.0</td>\n",
       "      <td>0.0</td>\n",
       "      <td>0.0</td>\n",
       "      <td>0.0</td>\n",
       "      <td>0.0</td>\n",
       "      <td>0.0</td>\n",
       "      <td>0.0</td>\n",
       "      <td>0.0</td>\n",
       "      <td>0.0</td>\n",
       "      <td>0.0</td>\n",
       "    </tr>\n",
       "    <tr>\n",
       "      <th>Cornelius</th>\n",
       "      <td>0.0</td>\n",
       "      <td>1.0</td>\n",
       "      <td>0.0</td>\n",
       "      <td>0.0</td>\n",
       "      <td>0.0</td>\n",
       "      <td>0.0</td>\n",
       "      <td>0.0</td>\n",
       "      <td>0.0</td>\n",
       "      <td>0.0</td>\n",
       "      <td>0.0</td>\n",
       "      <td>...</td>\n",
       "      <td>0.0</td>\n",
       "      <td>0.0</td>\n",
       "      <td>0.0</td>\n",
       "      <td>0.0</td>\n",
       "      <td>0.0</td>\n",
       "      <td>0.0</td>\n",
       "      <td>0.0</td>\n",
       "      <td>0.0</td>\n",
       "      <td>0.0</td>\n",
       "      <td>0.0</td>\n",
       "    </tr>\n",
       "    <tr>\n",
       "      <th>Rosencrantz</th>\n",
       "      <td>1.0</td>\n",
       "      <td>1.0</td>\n",
       "      <td>0.0</td>\n",
       "      <td>1.0</td>\n",
       "      <td>1.0</td>\n",
       "      <td>0.0</td>\n",
       "      <td>0.0</td>\n",
       "      <td>0.0</td>\n",
       "      <td>0.0</td>\n",
       "      <td>0.0</td>\n",
       "      <td>...</td>\n",
       "      <td>0.0</td>\n",
       "      <td>0.0</td>\n",
       "      <td>0.0</td>\n",
       "      <td>0.0</td>\n",
       "      <td>0.0</td>\n",
       "      <td>0.0</td>\n",
       "      <td>0.0</td>\n",
       "      <td>0.0</td>\n",
       "      <td>0.0</td>\n",
       "      <td>0.0</td>\n",
       "    </tr>\n",
       "    <tr>\n",
       "      <th>Guildenstern</th>\n",
       "      <td>1.0</td>\n",
       "      <td>1.0</td>\n",
       "      <td>0.0</td>\n",
       "      <td>1.0</td>\n",
       "      <td>0.0</td>\n",
       "      <td>0.0</td>\n",
       "      <td>0.0</td>\n",
       "      <td>0.0</td>\n",
       "      <td>0.0</td>\n",
       "      <td>0.0</td>\n",
       "      <td>...</td>\n",
       "      <td>0.0</td>\n",
       "      <td>0.0</td>\n",
       "      <td>0.0</td>\n",
       "      <td>0.0</td>\n",
       "      <td>0.0</td>\n",
       "      <td>0.0</td>\n",
       "      <td>0.0</td>\n",
       "      <td>0.0</td>\n",
       "      <td>0.0</td>\n",
       "      <td>0.0</td>\n",
       "    </tr>\n",
       "    <tr>\n",
       "      <th>Marcellus</th>\n",
       "      <td>1.0</td>\n",
       "      <td>0.0</td>\n",
       "      <td>0.0</td>\n",
       "      <td>0.0</td>\n",
       "      <td>0.0</td>\n",
       "      <td>0.0</td>\n",
       "      <td>0.0</td>\n",
       "      <td>1.0</td>\n",
       "      <td>0.0</td>\n",
       "      <td>0.0</td>\n",
       "      <td>...</td>\n",
       "      <td>0.0</td>\n",
       "      <td>0.0</td>\n",
       "      <td>0.0</td>\n",
       "      <td>0.0</td>\n",
       "      <td>0.0</td>\n",
       "      <td>0.0</td>\n",
       "      <td>0.0</td>\n",
       "      <td>0.0</td>\n",
       "      <td>0.0</td>\n",
       "      <td>0.0</td>\n",
       "    </tr>\n",
       "    <tr>\n",
       "      <th>Barnardo</th>\n",
       "      <td>0.0</td>\n",
       "      <td>0.0</td>\n",
       "      <td>0.0</td>\n",
       "      <td>0.0</td>\n",
       "      <td>0.0</td>\n",
       "      <td>0.0</td>\n",
       "      <td>0.0</td>\n",
       "      <td>1.0</td>\n",
       "      <td>0.0</td>\n",
       "      <td>0.0</td>\n",
       "      <td>...</td>\n",
       "      <td>0.0</td>\n",
       "      <td>0.0</td>\n",
       "      <td>0.0</td>\n",
       "      <td>0.0</td>\n",
       "      <td>0.0</td>\n",
       "      <td>0.0</td>\n",
       "      <td>0.0</td>\n",
       "      <td>0.0</td>\n",
       "      <td>0.0</td>\n",
       "      <td>0.0</td>\n",
       "    </tr>\n",
       "    <tr>\n",
       "      <th>Francisco</th>\n",
       "      <td>0.0</td>\n",
       "      <td>0.0</td>\n",
       "      <td>0.0</td>\n",
       "      <td>0.0</td>\n",
       "      <td>0.0</td>\n",
       "      <td>0.0</td>\n",
       "      <td>0.0</td>\n",
       "      <td>1.0</td>\n",
       "      <td>0.0</td>\n",
       "      <td>0.0</td>\n",
       "      <td>...</td>\n",
       "      <td>0.0</td>\n",
       "      <td>0.0</td>\n",
       "      <td>0.0</td>\n",
       "      <td>0.0</td>\n",
       "      <td>0.0</td>\n",
       "      <td>0.0</td>\n",
       "      <td>0.0</td>\n",
       "      <td>0.0</td>\n",
       "      <td>0.0</td>\n",
       "      <td>0.0</td>\n",
       "    </tr>\n",
       "    <tr>\n",
       "      <th>Osric</th>\n",
       "      <td>1.0</td>\n",
       "      <td>0.0</td>\n",
       "      <td>0.0</td>\n",
       "      <td>0.0</td>\n",
       "      <td>0.0</td>\n",
       "      <td>0.0</td>\n",
       "      <td>0.0</td>\n",
       "      <td>0.0</td>\n",
       "      <td>0.0</td>\n",
       "      <td>0.0</td>\n",
       "      <td>...</td>\n",
       "      <td>0.0</td>\n",
       "      <td>0.0</td>\n",
       "      <td>0.0</td>\n",
       "      <td>0.0</td>\n",
       "      <td>0.0</td>\n",
       "      <td>0.0</td>\n",
       "      <td>0.0</td>\n",
       "      <td>0.0</td>\n",
       "      <td>0.0</td>\n",
       "      <td>0.0</td>\n",
       "    </tr>\n",
       "    <tr>\n",
       "      <th>Reynaldo</th>\n",
       "      <td>0.0</td>\n",
       "      <td>0.0</td>\n",
       "      <td>0.0</td>\n",
       "      <td>0.0</td>\n",
       "      <td>1.0</td>\n",
       "      <td>0.0</td>\n",
       "      <td>0.0</td>\n",
       "      <td>0.0</td>\n",
       "      <td>0.0</td>\n",
       "      <td>0.0</td>\n",
       "      <td>...</td>\n",
       "      <td>0.0</td>\n",
       "      <td>0.0</td>\n",
       "      <td>0.0</td>\n",
       "      <td>0.0</td>\n",
       "      <td>0.0</td>\n",
       "      <td>0.0</td>\n",
       "      <td>0.0</td>\n",
       "      <td>0.0</td>\n",
       "      <td>0.0</td>\n",
       "      <td>0.0</td>\n",
       "    </tr>\n",
       "    <tr>\n",
       "      <th>First Player</th>\n",
       "      <td>1.0</td>\n",
       "      <td>0.0</td>\n",
       "      <td>0.0</td>\n",
       "      <td>0.0</td>\n",
       "      <td>1.0</td>\n",
       "      <td>0.0</td>\n",
       "      <td>0.0</td>\n",
       "      <td>0.0</td>\n",
       "      <td>0.0</td>\n",
       "      <td>0.0</td>\n",
       "      <td>...</td>\n",
       "      <td>0.0</td>\n",
       "      <td>0.0</td>\n",
       "      <td>0.0</td>\n",
       "      <td>0.0</td>\n",
       "      <td>0.0</td>\n",
       "      <td>0.0</td>\n",
       "      <td>0.0</td>\n",
       "      <td>0.0</td>\n",
       "      <td>0.0</td>\n",
       "      <td>0.0</td>\n",
       "    </tr>\n",
       "    <tr>\n",
       "      <th>Player King</th>\n",
       "      <td>0.0</td>\n",
       "      <td>0.0</td>\n",
       "      <td>0.0</td>\n",
       "      <td>0.0</td>\n",
       "      <td>0.0</td>\n",
       "      <td>0.0</td>\n",
       "      <td>0.0</td>\n",
       "      <td>0.0</td>\n",
       "      <td>0.0</td>\n",
       "      <td>0.0</td>\n",
       "      <td>...</td>\n",
       "      <td>0.0</td>\n",
       "      <td>0.0</td>\n",
       "      <td>0.0</td>\n",
       "      <td>0.0</td>\n",
       "      <td>0.0</td>\n",
       "      <td>0.0</td>\n",
       "      <td>0.0</td>\n",
       "      <td>0.0</td>\n",
       "      <td>0.0</td>\n",
       "      <td>0.0</td>\n",
       "    </tr>\n",
       "    <tr>\n",
       "      <th>Player Queen</th>\n",
       "      <td>0.0</td>\n",
       "      <td>0.0</td>\n",
       "      <td>0.0</td>\n",
       "      <td>0.0</td>\n",
       "      <td>0.0</td>\n",
       "      <td>0.0</td>\n",
       "      <td>0.0</td>\n",
       "      <td>0.0</td>\n",
       "      <td>0.0</td>\n",
       "      <td>0.0</td>\n",
       "      <td>...</td>\n",
       "      <td>0.0</td>\n",
       "      <td>0.0</td>\n",
       "      <td>0.0</td>\n",
       "      <td>0.0</td>\n",
       "      <td>0.0</td>\n",
       "      <td>0.0</td>\n",
       "      <td>0.0</td>\n",
       "      <td>0.0</td>\n",
       "      <td>0.0</td>\n",
       "      <td>0.0</td>\n",
       "    </tr>\n",
       "    <tr>\n",
       "      <th>Captain</th>\n",
       "      <td>1.0</td>\n",
       "      <td>0.0</td>\n",
       "      <td>0.0</td>\n",
       "      <td>0.0</td>\n",
       "      <td>0.0</td>\n",
       "      <td>0.0</td>\n",
       "      <td>0.0</td>\n",
       "      <td>0.0</td>\n",
       "      <td>0.0</td>\n",
       "      <td>0.0</td>\n",
       "      <td>...</td>\n",
       "      <td>0.0</td>\n",
       "      <td>0.0</td>\n",
       "      <td>0.0</td>\n",
       "      <td>0.0</td>\n",
       "      <td>0.0</td>\n",
       "      <td>0.0</td>\n",
       "      <td>0.0</td>\n",
       "      <td>0.0</td>\n",
       "      <td>0.0</td>\n",
       "      <td>0.0</td>\n",
       "    </tr>\n",
       "    <tr>\n",
       "      <th>Gentleman</th>\n",
       "      <td>0.0</td>\n",
       "      <td>1.0</td>\n",
       "      <td>0.0</td>\n",
       "      <td>1.0</td>\n",
       "      <td>0.0</td>\n",
       "      <td>0.0</td>\n",
       "      <td>0.0</td>\n",
       "      <td>0.0</td>\n",
       "      <td>0.0</td>\n",
       "      <td>0.0</td>\n",
       "      <td>...</td>\n",
       "      <td>0.0</td>\n",
       "      <td>0.0</td>\n",
       "      <td>0.0</td>\n",
       "      <td>0.0</td>\n",
       "      <td>0.0</td>\n",
       "      <td>0.0</td>\n",
       "      <td>0.0</td>\n",
       "      <td>0.0</td>\n",
       "      <td>0.0</td>\n",
       "      <td>0.0</td>\n",
       "    </tr>\n",
       "    <tr>\n",
       "      <th>Danes</th>\n",
       "      <td>0.0</td>\n",
       "      <td>0.0</td>\n",
       "      <td>0.0</td>\n",
       "      <td>0.0</td>\n",
       "      <td>0.0</td>\n",
       "      <td>1.0</td>\n",
       "      <td>0.0</td>\n",
       "      <td>0.0</td>\n",
       "      <td>0.0</td>\n",
       "      <td>0.0</td>\n",
       "      <td>...</td>\n",
       "      <td>0.0</td>\n",
       "      <td>0.0</td>\n",
       "      <td>0.0</td>\n",
       "      <td>0.0</td>\n",
       "      <td>0.0</td>\n",
       "      <td>0.0</td>\n",
       "      <td>0.0</td>\n",
       "      <td>0.0</td>\n",
       "      <td>0.0</td>\n",
       "      <td>0.0</td>\n",
       "    </tr>\n",
       "    <tr>\n",
       "      <th>Servant</th>\n",
       "      <td>0.0</td>\n",
       "      <td>0.0</td>\n",
       "      <td>0.0</td>\n",
       "      <td>0.0</td>\n",
       "      <td>0.0</td>\n",
       "      <td>0.0</td>\n",
       "      <td>0.0</td>\n",
       "      <td>1.0</td>\n",
       "      <td>0.0</td>\n",
       "      <td>0.0</td>\n",
       "      <td>...</td>\n",
       "      <td>0.0</td>\n",
       "      <td>0.0</td>\n",
       "      <td>0.0</td>\n",
       "      <td>0.0</td>\n",
       "      <td>0.0</td>\n",
       "      <td>0.0</td>\n",
       "      <td>0.0</td>\n",
       "      <td>0.0</td>\n",
       "      <td>0.0</td>\n",
       "      <td>0.0</td>\n",
       "    </tr>\n",
       "    <tr>\n",
       "      <th>First Sailor</th>\n",
       "      <td>0.0</td>\n",
       "      <td>0.0</td>\n",
       "      <td>0.0</td>\n",
       "      <td>0.0</td>\n",
       "      <td>0.0</td>\n",
       "      <td>0.0</td>\n",
       "      <td>0.0</td>\n",
       "      <td>1.0</td>\n",
       "      <td>0.0</td>\n",
       "      <td>0.0</td>\n",
       "      <td>...</td>\n",
       "      <td>0.0</td>\n",
       "      <td>0.0</td>\n",
       "      <td>0.0</td>\n",
       "      <td>0.0</td>\n",
       "      <td>0.0</td>\n",
       "      <td>0.0</td>\n",
       "      <td>0.0</td>\n",
       "      <td>0.0</td>\n",
       "      <td>0.0</td>\n",
       "      <td>0.0</td>\n",
       "    </tr>\n",
       "    <tr>\n",
       "      <th>Messenger</th>\n",
       "      <td>0.0</td>\n",
       "      <td>1.0</td>\n",
       "      <td>0.0</td>\n",
       "      <td>0.0</td>\n",
       "      <td>0.0</td>\n",
       "      <td>0.0</td>\n",
       "      <td>0.0</td>\n",
       "      <td>0.0</td>\n",
       "      <td>0.0</td>\n",
       "      <td>0.0</td>\n",
       "      <td>...</td>\n",
       "      <td>0.0</td>\n",
       "      <td>0.0</td>\n",
       "      <td>0.0</td>\n",
       "      <td>0.0</td>\n",
       "      <td>0.0</td>\n",
       "      <td>0.0</td>\n",
       "      <td>0.0</td>\n",
       "      <td>0.0</td>\n",
       "      <td>0.0</td>\n",
       "      <td>0.0</td>\n",
       "    </tr>\n",
       "    <tr>\n",
       "      <th>First Clown</th>\n",
       "      <td>1.0</td>\n",
       "      <td>0.0</td>\n",
       "      <td>0.0</td>\n",
       "      <td>0.0</td>\n",
       "      <td>0.0</td>\n",
       "      <td>0.0</td>\n",
       "      <td>0.0</td>\n",
       "      <td>0.0</td>\n",
       "      <td>0.0</td>\n",
       "      <td>0.0</td>\n",
       "      <td>...</td>\n",
       "      <td>0.0</td>\n",
       "      <td>0.0</td>\n",
       "      <td>0.0</td>\n",
       "      <td>0.0</td>\n",
       "      <td>0.0</td>\n",
       "      <td>0.0</td>\n",
       "      <td>1.0</td>\n",
       "      <td>0.0</td>\n",
       "      <td>0.0</td>\n",
       "      <td>0.0</td>\n",
       "    </tr>\n",
       "    <tr>\n",
       "      <th>Second Clown</th>\n",
       "      <td>0.0</td>\n",
       "      <td>0.0</td>\n",
       "      <td>0.0</td>\n",
       "      <td>0.0</td>\n",
       "      <td>0.0</td>\n",
       "      <td>0.0</td>\n",
       "      <td>0.0</td>\n",
       "      <td>0.0</td>\n",
       "      <td>0.0</td>\n",
       "      <td>0.0</td>\n",
       "      <td>...</td>\n",
       "      <td>0.0</td>\n",
       "      <td>0.0</td>\n",
       "      <td>0.0</td>\n",
       "      <td>0.0</td>\n",
       "      <td>0.0</td>\n",
       "      <td>1.0</td>\n",
       "      <td>0.0</td>\n",
       "      <td>0.0</td>\n",
       "      <td>0.0</td>\n",
       "      <td>0.0</td>\n",
       "    </tr>\n",
       "    <tr>\n",
       "      <th>Priest</th>\n",
       "      <td>0.0</td>\n",
       "      <td>0.0</td>\n",
       "      <td>0.0</td>\n",
       "      <td>0.0</td>\n",
       "      <td>0.0</td>\n",
       "      <td>1.0</td>\n",
       "      <td>0.0</td>\n",
       "      <td>0.0</td>\n",
       "      <td>0.0</td>\n",
       "      <td>0.0</td>\n",
       "      <td>...</td>\n",
       "      <td>0.0</td>\n",
       "      <td>0.0</td>\n",
       "      <td>0.0</td>\n",
       "      <td>0.0</td>\n",
       "      <td>0.0</td>\n",
       "      <td>0.0</td>\n",
       "      <td>0.0</td>\n",
       "      <td>0.0</td>\n",
       "      <td>0.0</td>\n",
       "      <td>0.0</td>\n",
       "    </tr>\n",
       "    <tr>\n",
       "      <th>Lord</th>\n",
       "      <td>1.0</td>\n",
       "      <td>0.0</td>\n",
       "      <td>0.0</td>\n",
       "      <td>0.0</td>\n",
       "      <td>0.0</td>\n",
       "      <td>0.0</td>\n",
       "      <td>0.0</td>\n",
       "      <td>0.0</td>\n",
       "      <td>0.0</td>\n",
       "      <td>0.0</td>\n",
       "      <td>...</td>\n",
       "      <td>0.0</td>\n",
       "      <td>0.0</td>\n",
       "      <td>0.0</td>\n",
       "      <td>0.0</td>\n",
       "      <td>0.0</td>\n",
       "      <td>0.0</td>\n",
       "      <td>0.0</td>\n",
       "      <td>0.0</td>\n",
       "      <td>0.0</td>\n",
       "      <td>0.0</td>\n",
       "    </tr>\n",
       "    <tr>\n",
       "      <th>First Ambassator</th>\n",
       "      <td>0.0</td>\n",
       "      <td>0.0</td>\n",
       "      <td>0.0</td>\n",
       "      <td>0.0</td>\n",
       "      <td>0.0</td>\n",
       "      <td>0.0</td>\n",
       "      <td>0.0</td>\n",
       "      <td>0.0</td>\n",
       "      <td>1.0</td>\n",
       "      <td>0.0</td>\n",
       "      <td>...</td>\n",
       "      <td>0.0</td>\n",
       "      <td>0.0</td>\n",
       "      <td>0.0</td>\n",
       "      <td>0.0</td>\n",
       "      <td>0.0</td>\n",
       "      <td>0.0</td>\n",
       "      <td>0.0</td>\n",
       "      <td>0.0</td>\n",
       "      <td>0.0</td>\n",
       "      <td>0.0</td>\n",
       "    </tr>\n",
       "  </tbody>\n",
       "</table>\n",
       "<p>32 rows × 32 columns</p>\n",
       "</div>"
      ],
      "text/plain": [
       "                  Hamlet  King  Ghost  Queen  Polonius  Laertes  Ophelia  \\\n",
       "Hamlet               0.0   1.0    1.0    1.0       1.0      0.0      0.0   \n",
       "King                 1.0   0.0    0.0    1.0       1.0      1.0      1.0   \n",
       "Ghost                1.0   0.0    0.0    0.0       0.0      0.0      0.0   \n",
       "Queen                1.0   1.0    0.0    0.0       1.0      0.0      1.0   \n",
       "Polonius             1.0   1.0    0.0    1.0       0.0      1.0      1.0   \n",
       "Laertes              0.0   1.0    0.0    0.0       1.0      0.0      1.0   \n",
       "Ophelia              0.0   1.0    0.0    1.0       1.0      1.0      0.0   \n",
       "Horatio              1.0   0.0    0.0    0.0       0.0      0.0      0.0   \n",
       "Fortinbras           0.0   0.0    0.0    0.0       0.0      0.0      0.0   \n",
       "Voltemand            0.0   1.0    0.0    0.0       0.0      0.0      0.0   \n",
       "Cornelius            0.0   1.0    0.0    0.0       0.0      0.0      0.0   \n",
       "Rosencrantz          1.0   1.0    0.0    1.0       1.0      0.0      0.0   \n",
       "Guildenstern         1.0   1.0    0.0    1.0       0.0      0.0      0.0   \n",
       "Marcellus            1.0   0.0    0.0    0.0       0.0      0.0      0.0   \n",
       "Barnardo             0.0   0.0    0.0    0.0       0.0      0.0      0.0   \n",
       "Francisco            0.0   0.0    0.0    0.0       0.0      0.0      0.0   \n",
       "Osric                1.0   0.0    0.0    0.0       0.0      0.0      0.0   \n",
       "Reynaldo             0.0   0.0    0.0    0.0       1.0      0.0      0.0   \n",
       "First Player         1.0   0.0    0.0    0.0       1.0      0.0      0.0   \n",
       "Player King          0.0   0.0    0.0    0.0       0.0      0.0      0.0   \n",
       "Player Queen         0.0   0.0    0.0    0.0       0.0      0.0      0.0   \n",
       "Captain              1.0   0.0    0.0    0.0       0.0      0.0      0.0   \n",
       "Gentleman            0.0   1.0    0.0    1.0       0.0      0.0      0.0   \n",
       "Danes                0.0   0.0    0.0    0.0       0.0      1.0      0.0   \n",
       "Servant              0.0   0.0    0.0    0.0       0.0      0.0      0.0   \n",
       "First Sailor         0.0   0.0    0.0    0.0       0.0      0.0      0.0   \n",
       "Messenger            0.0   1.0    0.0    0.0       0.0      0.0      0.0   \n",
       "First Clown          1.0   0.0    0.0    0.0       0.0      0.0      0.0   \n",
       "Second Clown         0.0   0.0    0.0    0.0       0.0      0.0      0.0   \n",
       "Priest               0.0   0.0    0.0    0.0       0.0      1.0      0.0   \n",
       "Lord                 1.0   0.0    0.0    0.0       0.0      0.0      0.0   \n",
       "First Ambassator     0.0   0.0    0.0    0.0       0.0      0.0      0.0   \n",
       "\n",
       "                  Horatio  Fortinbras  Voltemand  ...  Gentleman  Danes  \\\n",
       "Hamlet                1.0         0.0        0.0  ...        0.0    0.0   \n",
       "King                  0.0         0.0        1.0  ...        1.0    0.0   \n",
       "Ghost                 0.0         0.0        0.0  ...        0.0    0.0   \n",
       "Queen                 0.0         0.0        0.0  ...        1.0    0.0   \n",
       "Polonius              0.0         0.0        0.0  ...        0.0    0.0   \n",
       "Laertes               0.0         0.0        0.0  ...        0.0    1.0   \n",
       "Ophelia               0.0         0.0        0.0  ...        0.0    0.0   \n",
       "Horatio               0.0         1.0        0.0  ...        0.0    0.0   \n",
       "Fortinbras            1.0         0.0        0.0  ...        0.0    0.0   \n",
       "Voltemand             0.0         0.0        0.0  ...        0.0    0.0   \n",
       "Cornelius             0.0         0.0        0.0  ...        0.0    0.0   \n",
       "Rosencrantz           0.0         0.0        0.0  ...        0.0    0.0   \n",
       "Guildenstern          0.0         0.0        0.0  ...        0.0    0.0   \n",
       "Marcellus             1.0         0.0        0.0  ...        0.0    0.0   \n",
       "Barnardo              1.0         0.0        0.0  ...        0.0    0.0   \n",
       "Francisco             1.0         0.0        0.0  ...        0.0    0.0   \n",
       "Osric                 0.0         0.0        0.0  ...        0.0    0.0   \n",
       "Reynaldo              0.0         0.0        0.0  ...        0.0    0.0   \n",
       "First Player          0.0         0.0        0.0  ...        0.0    0.0   \n",
       "Player King           0.0         0.0        0.0  ...        0.0    0.0   \n",
       "Player Queen          0.0         0.0        0.0  ...        0.0    0.0   \n",
       "Captain               0.0         0.0        0.0  ...        0.0    0.0   \n",
       "Gentleman             0.0         0.0        0.0  ...        0.0    0.0   \n",
       "Danes                 0.0         0.0        0.0  ...        0.0    0.0   \n",
       "Servant               1.0         0.0        0.0  ...        0.0    0.0   \n",
       "First Sailor          1.0         0.0        0.0  ...        0.0    0.0   \n",
       "Messenger             0.0         0.0        0.0  ...        0.0    0.0   \n",
       "First Clown           0.0         0.0        0.0  ...        0.0    0.0   \n",
       "Second Clown          0.0         0.0        0.0  ...        0.0    0.0   \n",
       "Priest                0.0         0.0        0.0  ...        0.0    0.0   \n",
       "Lord                  0.0         0.0        0.0  ...        0.0    0.0   \n",
       "First Ambassator      0.0         1.0        0.0  ...        0.0    0.0   \n",
       "\n",
       "                  Servant  First Sailor  Messenger  First Clown  Second Clown  \\\n",
       "Hamlet                0.0           0.0        0.0          1.0           0.0   \n",
       "King                  0.0           0.0        1.0          0.0           0.0   \n",
       "Ghost                 0.0           0.0        0.0          0.0           0.0   \n",
       "Queen                 0.0           0.0        0.0          0.0           0.0   \n",
       "Polonius              0.0           0.0        0.0          0.0           0.0   \n",
       "Laertes               0.0           0.0        0.0          0.0           0.0   \n",
       "Ophelia               0.0           0.0        0.0          0.0           0.0   \n",
       "Horatio               1.0           1.0        0.0          0.0           0.0   \n",
       "Fortinbras            0.0           0.0        0.0          0.0           0.0   \n",
       "Voltemand             0.0           0.0        0.0          0.0           0.0   \n",
       "Cornelius             0.0           0.0        0.0          0.0           0.0   \n",
       "Rosencrantz           0.0           0.0        0.0          0.0           0.0   \n",
       "Guildenstern          0.0           0.0        0.0          0.0           0.0   \n",
       "Marcellus             0.0           0.0        0.0          0.0           0.0   \n",
       "Barnardo              0.0           0.0        0.0          0.0           0.0   \n",
       "Francisco             0.0           0.0        0.0          0.0           0.0   \n",
       "Osric                 0.0           0.0        0.0          0.0           0.0   \n",
       "Reynaldo              0.0           0.0        0.0          0.0           0.0   \n",
       "First Player          0.0           0.0        0.0          0.0           0.0   \n",
       "Player King           0.0           0.0        0.0          0.0           0.0   \n",
       "Player Queen          0.0           0.0        0.0          0.0           0.0   \n",
       "Captain               0.0           0.0        0.0          0.0           0.0   \n",
       "Gentleman             0.0           0.0        0.0          0.0           0.0   \n",
       "Danes                 0.0           0.0        0.0          0.0           0.0   \n",
       "Servant               0.0           0.0        0.0          0.0           0.0   \n",
       "First Sailor          0.0           0.0        0.0          0.0           0.0   \n",
       "Messenger             0.0           0.0        0.0          0.0           0.0   \n",
       "First Clown           0.0           0.0        0.0          0.0           1.0   \n",
       "Second Clown          0.0           0.0        0.0          1.0           0.0   \n",
       "Priest                0.0           0.0        0.0          0.0           0.0   \n",
       "Lord                  0.0           0.0        0.0          0.0           0.0   \n",
       "First Ambassator      0.0           0.0        0.0          0.0           0.0   \n",
       "\n",
       "                  Priest  Lord  First Ambassator  \n",
       "Hamlet               0.0   1.0               0.0  \n",
       "King                 0.0   0.0               0.0  \n",
       "Ghost                0.0   0.0               0.0  \n",
       "Queen                0.0   0.0               0.0  \n",
       "Polonius             0.0   0.0               0.0  \n",
       "Laertes              1.0   0.0               0.0  \n",
       "Ophelia              0.0   0.0               0.0  \n",
       "Horatio              0.0   0.0               0.0  \n",
       "Fortinbras           0.0   0.0               1.0  \n",
       "Voltemand            0.0   0.0               0.0  \n",
       "Cornelius            0.0   0.0               0.0  \n",
       "Rosencrantz          0.0   0.0               0.0  \n",
       "Guildenstern         0.0   0.0               0.0  \n",
       "Marcellus            0.0   0.0               0.0  \n",
       "Barnardo             0.0   0.0               0.0  \n",
       "Francisco            0.0   0.0               0.0  \n",
       "Osric                0.0   0.0               0.0  \n",
       "Reynaldo             0.0   0.0               0.0  \n",
       "First Player         0.0   0.0               0.0  \n",
       "Player King          0.0   0.0               0.0  \n",
       "Player Queen         0.0   0.0               0.0  \n",
       "Captain              0.0   0.0               0.0  \n",
       "Gentleman            0.0   0.0               0.0  \n",
       "Danes                0.0   0.0               0.0  \n",
       "Servant              0.0   0.0               0.0  \n",
       "First Sailor         0.0   0.0               0.0  \n",
       "Messenger            0.0   0.0               0.0  \n",
       "First Clown          0.0   0.0               0.0  \n",
       "Second Clown         0.0   0.0               0.0  \n",
       "Priest               0.0   0.0               0.0  \n",
       "Lord                 0.0   0.0               0.0  \n",
       "First Ambassator     0.0   0.0               0.0  \n",
       "\n",
       "[32 rows x 32 columns]"
      ]
     },
     "execution_count": 116,
     "metadata": {},
     "output_type": "execute_result"
    }
   ],
   "source": [
    "df_hamlet"
   ]
  },
  {
   "cell_type": "code",
   "execution_count": 117,
   "id": "b206c2ab",
   "metadata": {},
   "outputs": [],
   "source": [
    "df_hamlet.to_csv(\"hamlet.csv\")"
   ]
  }
 ],
 "metadata": {
  "kernelspec": {
   "display_name": "Python 3 (ipykernel)",
   "language": "python",
   "name": "python3"
  },
  "language_info": {
   "codemirror_mode": {
    "name": "ipython",
    "version": 3
   },
   "file_extension": ".py",
   "mimetype": "text/x-python",
   "name": "python",
   "nbconvert_exporter": "python",
   "pygments_lexer": "ipython3",
   "version": "3.11.7"
  }
 },
 "nbformat": 4,
 "nbformat_minor": 5
}
