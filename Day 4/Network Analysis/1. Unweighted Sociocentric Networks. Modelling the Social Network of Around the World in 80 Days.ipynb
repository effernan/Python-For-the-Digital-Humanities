{
 "cells": [
  {
   "cell_type": "markdown",
   "id": "ee4153f1",
   "metadata": {},
   "source": [
    "**References**: the method of building a network using characters as nodes and textual interaction as edges is inspired by this article (https://litlab.stanford.edu/LiteraryLabPamphlet2.pdf). While in there the text used is a play (and therefore it is easier to model networks), and we are using a novel instead, the idea is the same) Some of the scripts have been adapted from this tutorial (https://melaniewalsh.github.io/Intro-Cultural-Analytics/06-Network-Analysis/02-Making-Network-Viz-with-Bokeh.html), and also from this other one (https://networkx.org/documentation/stable/tutorial.html). "
   ]
  },
  {
   "cell_type": "markdown",
   "id": "26c2a02c",
   "metadata": {},
   "source": [
    "# Modelling the Social Network of **Around the World in 80 Days**."
   ]
  },
  {
   "cell_type": "markdown",
   "id": "d54ed9d9",
   "metadata": {},
   "source": [
    "In this notebook, we are going to use **Network Analysis** to model the social network of **Around the World in Eighty Days**. We are going to count **\"who knows whom\"**. We are going to transform each character into a **nod**. After that, we are going to count every time that a character talks to another character, and we are going to call that **edge**. This method, while not perfect (it only measures textual interactions once, and therefore, we don´t know what is being said, or how much each character speaks), can be useful nevertheless as a first approximation of empirically measuring changing narrative weighths by identifying **hubs** (which essentially means nodes with lots of connections: https://en.wikipedia.org/wiki/Hub_(network_science)). "
   ]
  },
  {
   "cell_type": "markdown",
   "id": "bec2ee0f",
   "metadata": {},
   "source": [
    "# 1. First we import the libraries"
   ]
  },
  {
   "cell_type": "code",
   "execution_count": 1,
   "id": "84d9d3cb",
   "metadata": {},
   "outputs": [],
   "source": [
    "import networkx as nx\n",
    "import pandas as pd"
   ]
  },
  {
   "cell_type": "markdown",
   "id": "f52b4ca8",
   "metadata": {},
   "source": [
    "# 2. The we create the G object"
   ]
  },
  {
   "cell_type": "code",
   "execution_count": 2,
   "id": "5aa0ae28",
   "metadata": {},
   "outputs": [],
   "source": [
    "G = nx.Graph()"
   ]
  },
  {
   "cell_type": "markdown",
   "id": "b8cdee86",
   "metadata": {},
   "source": [
    "Just to let you know with this command we can clean our network (for example if we make a spelling mistake that contaminates our Graph)"
   ]
  },
  {
   "cell_type": "code",
   "execution_count": 3,
   "id": "2ef56f3d",
   "metadata": {},
   "outputs": [],
   "source": [
    "G.clear()"
   ]
  },
  {
   "cell_type": "markdown",
   "id": "831af602",
   "metadata": {},
   "source": [
    "# 3. Characters"
   ]
  },
  {
   "cell_type": "markdown",
   "id": "0bb39112",
   "metadata": {},
   "source": [
    "Now we transform every character into a node by writing each name inside **G.add_node()**. Only the main characters are included in here. "
   ]
  },
  {
   "cell_type": "code",
   "execution_count": 4,
   "id": "546711a4",
   "metadata": {},
   "outputs": [],
   "source": [
    "G.add_node(\"Phileas Fogg\")"
   ]
  },
  {
   "cell_type": "code",
   "execution_count": 5,
   "id": "13d19eb2",
   "metadata": {},
   "outputs": [],
   "source": [
    "G.add_node(\"Jean Passepartout\")"
   ]
  },
  {
   "cell_type": "code",
   "execution_count": 6,
   "id": "b68a0be0",
   "metadata": {},
   "outputs": [],
   "source": [
    "G.add_node(\"Thomas Flanagan\")"
   ]
  },
  {
   "cell_type": "code",
   "execution_count": 7,
   "id": "70df20ab",
   "metadata": {},
   "outputs": [],
   "source": [
    "G.add_node(\"Gauthier Ralph\")"
   ]
  },
  {
   "cell_type": "code",
   "execution_count": 8,
   "id": "0f871ba4",
   "metadata": {},
   "outputs": [],
   "source": [
    "G.add_node(\"Andrew Stuart\")"
   ]
  },
  {
   "cell_type": "code",
   "execution_count": 9,
   "id": "f1ecd4a4",
   "metadata": {},
   "outputs": [],
   "source": [
    "G.add_node(\"John Sullivan\")"
   ]
  },
  {
   "cell_type": "code",
   "execution_count": 10,
   "id": "89a34119",
   "metadata": {},
   "outputs": [],
   "source": [
    "G.add_node(\"Samuel Fallentin\")"
   ]
  },
  {
   "cell_type": "code",
   "execution_count": 11,
   "id": "f958d042",
   "metadata": {},
   "outputs": [],
   "source": [
    "G.add_node(\"Fix\")"
   ]
  },
  {
   "cell_type": "code",
   "execution_count": 12,
   "id": "4fe848e5",
   "metadata": {},
   "outputs": [],
   "source": [
    "G.add_node(\"Consul\")"
   ]
  },
  {
   "cell_type": "code",
   "execution_count": 13,
   "id": "d7a142c0",
   "metadata": {},
   "outputs": [],
   "source": [
    "G.add_node(\"Landlord\")"
   ]
  },
  {
   "cell_type": "code",
   "execution_count": 14,
   "id": "d8d88736",
   "metadata": {},
   "outputs": [],
   "source": [
    "G.add_node(\"Sir Francis Cromarty\")"
   ]
  },
  {
   "cell_type": "code",
   "execution_count": 15,
   "id": "52af673d",
   "metadata": {},
   "outputs": [],
   "source": [
    "G.add_node(\"Parsee guide\")"
   ]
  },
  {
   "cell_type": "code",
   "execution_count": 16,
   "id": "a0b20b17",
   "metadata": {},
   "outputs": [],
   "source": [
    "G.add_node(\"Aouda\")"
   ]
  },
  {
   "cell_type": "code",
   "execution_count": 17,
   "id": "3b85df87",
   "metadata": {},
   "outputs": [],
   "source": [
    "G.add_node(\"Policeman\")"
   ]
  },
  {
   "cell_type": "code",
   "execution_count": 18,
   "id": "b47b7721",
   "metadata": {},
   "outputs": [],
   "source": [
    "G.add_node(\"Judge Obadiah\")"
   ]
  },
  {
   "cell_type": "code",
   "execution_count": 19,
   "id": "cc6ba1cf",
   "metadata": {},
   "outputs": [],
   "source": [
    "G.add_node(\"Clerk\")"
   ]
  },
  {
   "cell_type": "code",
   "execution_count": 20,
   "id": "3715db8e",
   "metadata": {},
   "outputs": [],
   "source": [
    "G.add_node(\"Pilot\")"
   ]
  },
  {
   "cell_type": "code",
   "execution_count": 21,
   "id": "256601dd",
   "metadata": {},
   "outputs": [],
   "source": [
    "G.add_node(\"Sailor\")"
   ]
  },
  {
   "cell_type": "code",
   "execution_count": 22,
   "id": "1da4bed3",
   "metadata": {},
   "outputs": [],
   "source": [
    "G.add_node(\"Mr. Batulcar\")"
   ]
  },
  {
   "cell_type": "code",
   "execution_count": 23,
   "id": "34afffbc",
   "metadata": {},
   "outputs": [],
   "source": [
    "G.add_node(\"Colonel Proctor\")"
   ]
  },
  {
   "cell_type": "code",
   "execution_count": 24,
   "id": "3ee463f6",
   "metadata": {},
   "outputs": [],
   "source": [
    "G.add_node(\"Elder William Hitch\")"
   ]
  },
  {
   "cell_type": "code",
   "execution_count": 25,
   "id": "da8c312a",
   "metadata": {},
   "outputs": [],
   "source": [
    "G.add_node(\"Colonel Proctor\")"
   ]
  },
  {
   "cell_type": "code",
   "execution_count": 26,
   "id": "a15fb123",
   "metadata": {},
   "outputs": [],
   "source": [
    "G.add_node(\"Conductor\")"
   ]
  },
  {
   "cell_type": "code",
   "execution_count": 27,
   "id": "395a1bb8",
   "metadata": {},
   "outputs": [],
   "source": [
    "G.add_node(\"Forster\")"
   ]
  },
  {
   "cell_type": "code",
   "execution_count": 28,
   "id": "697ae282",
   "metadata": {},
   "outputs": [],
   "source": [
    "G.add_node(\"Passenger\")"
   ]
  },
  {
   "cell_type": "code",
   "execution_count": 29,
   "id": "ed42c650",
   "metadata": {},
   "outputs": [],
   "source": [
    "G.add_node(\"Captain\")"
   ]
  },
  {
   "cell_type": "code",
   "execution_count": 30,
   "id": "cc16ec6b",
   "metadata": {},
   "outputs": [],
   "source": [
    "G.add_node(\"Andrew Speedy\")"
   ]
  },
  {
   "cell_type": "markdown",
   "id": "13312836",
   "metadata": {},
   "source": [
    "# 4. Textual Interactions"
   ]
  },
  {
   "cell_type": "markdown",
   "id": "92558ff7",
   "metadata": {},
   "source": [
    "Then we count (old school style by reading the book) who is talking to whom, and we write that down in **G.add_edge()**. If we make a mistake and we accidentally write twice when a character talks to another one, it doesn´t matter. The networkx library will only take into acount one edge per pair of nodes. "
   ]
  },
  {
   "cell_type": "code",
   "execution_count": 31,
   "id": "f307083b",
   "metadata": {},
   "outputs": [],
   "source": [
    "G.add_edge(\"Phileas Fogg\", \"Jean Passepartout\") "
   ]
  },
  {
   "cell_type": "code",
   "execution_count": 32,
   "id": "b12e769e",
   "metadata": {},
   "outputs": [],
   "source": [
    "G.add_edge(\"Thomas Flanagan\", \"Gauthier Ralph\") "
   ]
  },
  {
   "cell_type": "code",
   "execution_count": 33,
   "id": "e7cd005c",
   "metadata": {},
   "outputs": [],
   "source": [
    "G.add_edge(\"Andrew Stuart\", \"Thomas Flanagan\") "
   ]
  },
  {
   "cell_type": "code",
   "execution_count": 34,
   "id": "f1b41b8d",
   "metadata": {},
   "outputs": [],
   "source": [
    "G.add_edge(\"Gauthier Ralph\", \"Andrew Stuart\") "
   ]
  },
  {
   "cell_type": "code",
   "execution_count": 35,
   "id": "53bfc4ae",
   "metadata": {},
   "outputs": [],
   "source": [
    "G.add_edge(\"Phileas Fogg\", \"Andrew Stuart\") "
   ]
  },
  {
   "cell_type": "code",
   "execution_count": 36,
   "id": "ea44ccda",
   "metadata": {},
   "outputs": [],
   "source": [
    "G.add_edge(\"Samuel Fallentin\", \"Andrew Stuart\") "
   ]
  },
  {
   "cell_type": "code",
   "execution_count": 37,
   "id": "959b70fa",
   "metadata": {},
   "outputs": [],
   "source": [
    "G.add_edge(\"John Sullivan\", \"Phileas Fogg\") "
   ]
  },
  {
   "cell_type": "code",
   "execution_count": 38,
   "id": "1f586cc7",
   "metadata": {},
   "outputs": [],
   "source": [
    "G.add_edge(\"Fix\", \"Consul\") "
   ]
  },
  {
   "cell_type": "code",
   "execution_count": 39,
   "id": "f2bf5e44",
   "metadata": {},
   "outputs": [],
   "source": [
    "G.add_edge(\"Phileas Fogg\", \"Consul\") "
   ]
  },
  {
   "cell_type": "code",
   "execution_count": 40,
   "id": "1be18467",
   "metadata": {},
   "outputs": [],
   "source": [
    "G.add_edge(\"Fix\", \"Jean Passepartout\") "
   ]
  },
  {
   "cell_type": "code",
   "execution_count": 41,
   "id": "af2134d8",
   "metadata": {},
   "outputs": [],
   "source": [
    "G.add_edge(\"Phileas Fogg\", \"Landlord\") "
   ]
  },
  {
   "cell_type": "code",
   "execution_count": 42,
   "id": "05aaf9db",
   "metadata": {},
   "outputs": [],
   "source": [
    "G.add_edge(\"Phileas Fogg\", \"Sir Francis Cromarty\") "
   ]
  },
  {
   "cell_type": "code",
   "execution_count": 43,
   "id": "3d6f5610",
   "metadata": {},
   "outputs": [],
   "source": [
    "G.add_edge(\"Jean Passepartout\", \"Sir Francis Cromarty\") "
   ]
  },
  {
   "cell_type": "code",
   "execution_count": 44,
   "id": "a074d5f6",
   "metadata": {},
   "outputs": [],
   "source": [
    "G.add_edge(\"Parsee guide\", \"Sir Francis Cromarty\") "
   ]
  },
  {
   "cell_type": "code",
   "execution_count": 45,
   "id": "8f7271ac",
   "metadata": {},
   "outputs": [],
   "source": [
    "G.add_edge(\"Parsee guide\", \"Jean Passepartout\") "
   ]
  },
  {
   "cell_type": "code",
   "execution_count": 46,
   "id": "ac85f0ce",
   "metadata": {},
   "outputs": [],
   "source": [
    "G.add_edge(\"Parsee guide\", \"Phileas Fogg\") "
   ]
  },
  {
   "cell_type": "code",
   "execution_count": 47,
   "id": "71c2826b",
   "metadata": {},
   "outputs": [],
   "source": [
    "G.add_edge(\"Policeman\", \"Phileas Fogg\") "
   ]
  },
  {
   "cell_type": "code",
   "execution_count": 48,
   "id": "8f81eb7b",
   "metadata": {},
   "outputs": [],
   "source": [
    "G.add_edge(\"Policeman\", \"Jean Passepartout\") "
   ]
  },
  {
   "cell_type": "code",
   "execution_count": 49,
   "id": "730110e2",
   "metadata": {},
   "outputs": [],
   "source": [
    "G.add_edge(\"Aouda\", \"Phileas Fogg\") "
   ]
  },
  {
   "cell_type": "code",
   "execution_count": 50,
   "id": "db535896",
   "metadata": {},
   "outputs": [],
   "source": [
    "G.add_edge(\"Clerk\", \"Judge Obadiah\") "
   ]
  },
  {
   "cell_type": "code",
   "execution_count": 51,
   "id": "2fffc787",
   "metadata": {},
   "outputs": [],
   "source": [
    "G.add_edge(\"Phileas Fogg\", \"Judge Obadiah\") "
   ]
  },
  {
   "cell_type": "code",
   "execution_count": 52,
   "id": "8f06323b",
   "metadata": {},
   "outputs": [],
   "source": [
    "G.add_edge(\"Jean Passepartout\", \"Judge Obadiah\") "
   ]
  },
  {
   "cell_type": "code",
   "execution_count": 53,
   "id": "30a62fac",
   "metadata": {},
   "outputs": [],
   "source": [
    "G.add_edge(\"Jean Passepartout\", \"Clerk\") "
   ]
  },
  {
   "cell_type": "code",
   "execution_count": 54,
   "id": "73884d36",
   "metadata": {},
   "outputs": [],
   "source": [
    "G.add_edge(\"Pilot\", \"Phileas Fogg\") "
   ]
  },
  {
   "cell_type": "code",
   "execution_count": 55,
   "id": "074cf5c7",
   "metadata": {},
   "outputs": [],
   "source": [
    "G.add_edge(\"Pilot\", \"Jean Passepartout\") "
   ]
  },
  {
   "cell_type": "code",
   "execution_count": 56,
   "id": "774586cc",
   "metadata": {},
   "outputs": [],
   "source": [
    "G.add_edge(\"Fix\", \"Phileas Fogg\") "
   ]
  },
  {
   "cell_type": "code",
   "execution_count": 57,
   "id": "c8e2e6f9",
   "metadata": {},
   "outputs": [],
   "source": [
    "G.add_edge(\"Fix\", \"Aouda\") "
   ]
  },
  {
   "cell_type": "code",
   "execution_count": 58,
   "id": "7a32a740",
   "metadata": {},
   "outputs": [],
   "source": [
    "G.add_edge(\"Sailor\", \"Phileas Fogg\") "
   ]
  },
  {
   "cell_type": "code",
   "execution_count": 59,
   "id": "fd5c361f",
   "metadata": {},
   "outputs": [],
   "source": [
    "G.add_edge(\"Mr. Batulcar\", \"Jean Passepartout\") "
   ]
  },
  {
   "cell_type": "code",
   "execution_count": 60,
   "id": "d410c9ed",
   "metadata": {},
   "outputs": [],
   "source": [
    "G.add_edge(\"Phileas Fogg\", \"Colonel Proctor\") "
   ]
  },
  {
   "cell_type": "code",
   "execution_count": 61,
   "id": "0ba1ea2e",
   "metadata": {},
   "outputs": [],
   "source": [
    "G.add_edge(\"Elder William Hitch\", \"Jean Passepartout\") "
   ]
  },
  {
   "cell_type": "code",
   "execution_count": 62,
   "id": "74be0c6a",
   "metadata": {},
   "outputs": [],
   "source": [
    "G.add_edge(\"Colonel Proctor\", \"Conductor\")"
   ]
  },
  {
   "cell_type": "code",
   "execution_count": 63,
   "id": "0d852719",
   "metadata": {},
   "outputs": [],
   "source": [
    "G.add_edge(\"Colonel Proctor\", \"Jean Passepartout\")"
   ]
  },
  {
   "cell_type": "code",
   "execution_count": 64,
   "id": "9c61afe1",
   "metadata": {},
   "outputs": [],
   "source": [
    "G.add_edge(\"Forster\", \"Conductor\")"
   ]
  },
  {
   "cell_type": "code",
   "execution_count": 65,
   "id": "98830580",
   "metadata": {},
   "outputs": [],
   "source": [
    "G.add_edge(\"Forster\", \"Jean Passepartout\")"
   ]
  },
  {
   "cell_type": "code",
   "execution_count": 66,
   "id": "0e3d706d",
   "metadata": {},
   "outputs": [],
   "source": [
    "G.add_edge(\"Passenger\", \"Jean Passepartout\")"
   ]
  },
  {
   "cell_type": "code",
   "execution_count": 67,
   "id": "20bf3990",
   "metadata": {},
   "outputs": [],
   "source": [
    "G.add_edge(\"Fix\", \"Colonel Proctor\") "
   ]
  },
  {
   "cell_type": "code",
   "execution_count": 68,
   "id": "0d32daec",
   "metadata": {},
   "outputs": [],
   "source": [
    "G.add_edge(\"Phileas Fogg\", \"Captain\") "
   ]
  },
  {
   "cell_type": "code",
   "execution_count": 69,
   "id": "7fe3bca4",
   "metadata": {},
   "outputs": [],
   "source": [
    "G.add_edge(\"Aouda\", \"Conductor\")"
   ]
  },
  {
   "cell_type": "code",
   "execution_count": 70,
   "id": "8ebc1cf6",
   "metadata": {},
   "outputs": [],
   "source": [
    "G.add_edge(\"Andrew Speedy\", \"Phileas Fogg\")"
   ]
  },
  {
   "cell_type": "code",
   "execution_count": 71,
   "id": "3e186225",
   "metadata": {},
   "outputs": [],
   "source": [
    "G.add_edge(\"John Sullivan\", \"Andrew Stuart\") "
   ]
  },
  {
   "cell_type": "markdown",
   "id": "2e92b823",
   "metadata": {},
   "source": [
    "# 5. Checking the structure of our network"
   ]
  },
  {
   "cell_type": "markdown",
   "id": "a4204360",
   "metadata": {},
   "source": [
    "Now let's have a look at the number of nodes that we have."
   ]
  },
  {
   "cell_type": "code",
   "execution_count": 72,
   "id": "761045f5",
   "metadata": {},
   "outputs": [
    {
     "data": {
      "text/plain": [
       "26"
      ]
     },
     "execution_count": 72,
     "metadata": {},
     "output_type": "execute_result"
    }
   ],
   "source": [
    "G.number_of_nodes()"
   ]
  },
  {
   "cell_type": "code",
   "execution_count": 73,
   "id": "615985d9",
   "metadata": {},
   "outputs": [
    {
     "data": {
      "text/plain": [
       "['Phileas Fogg',\n",
       " 'Jean Passepartout',\n",
       " 'Thomas Flanagan',\n",
       " 'Gauthier Ralph',\n",
       " 'Andrew Stuart',\n",
       " 'John Sullivan',\n",
       " 'Samuel Fallentin',\n",
       " 'Fix',\n",
       " 'Consul',\n",
       " 'Landlord',\n",
       " 'Sir Francis Cromarty',\n",
       " 'Parsee guide',\n",
       " 'Aouda',\n",
       " 'Policeman',\n",
       " 'Judge Obadiah',\n",
       " 'Clerk',\n",
       " 'Pilot',\n",
       " 'Sailor',\n",
       " 'Mr. Batulcar',\n",
       " 'Colonel Proctor',\n",
       " 'Elder William Hitch',\n",
       " 'Conductor',\n",
       " 'Forster',\n",
       " 'Passenger',\n",
       " 'Captain',\n",
       " 'Andrew Speedy']"
      ]
     },
     "execution_count": 73,
     "metadata": {},
     "output_type": "execute_result"
    }
   ],
   "source": [
    "list(G.nodes)"
   ]
  },
  {
   "cell_type": "markdown",
   "id": "e8d04517",
   "metadata": {},
   "source": [
    "Let's do the same with the edges."
   ]
  },
  {
   "cell_type": "code",
   "execution_count": 74,
   "id": "16a7709b",
   "metadata": {},
   "outputs": [
    {
     "data": {
      "text/plain": [
       "41"
      ]
     },
     "execution_count": 74,
     "metadata": {},
     "output_type": "execute_result"
    }
   ],
   "source": [
    "G.number_of_edges()"
   ]
  },
  {
   "cell_type": "code",
   "execution_count": 75,
   "id": "86a1e761",
   "metadata": {},
   "outputs": [
    {
     "data": {
      "text/plain": [
       "[('Phileas Fogg', 'Jean Passepartout'),\n",
       " ('Phileas Fogg', 'Andrew Stuart'),\n",
       " ('Phileas Fogg', 'John Sullivan'),\n",
       " ('Phileas Fogg', 'Consul'),\n",
       " ('Phileas Fogg', 'Landlord'),\n",
       " ('Phileas Fogg', 'Sir Francis Cromarty'),\n",
       " ('Phileas Fogg', 'Parsee guide'),\n",
       " ('Phileas Fogg', 'Policeman'),\n",
       " ('Phileas Fogg', 'Aouda'),\n",
       " ('Phileas Fogg', 'Judge Obadiah'),\n",
       " ('Phileas Fogg', 'Pilot'),\n",
       " ('Phileas Fogg', 'Fix'),\n",
       " ('Phileas Fogg', 'Sailor'),\n",
       " ('Phileas Fogg', 'Colonel Proctor'),\n",
       " ('Phileas Fogg', 'Captain'),\n",
       " ('Phileas Fogg', 'Andrew Speedy'),\n",
       " ('Jean Passepartout', 'Fix'),\n",
       " ('Jean Passepartout', 'Sir Francis Cromarty'),\n",
       " ('Jean Passepartout', 'Parsee guide'),\n",
       " ('Jean Passepartout', 'Policeman'),\n",
       " ('Jean Passepartout', 'Judge Obadiah'),\n",
       " ('Jean Passepartout', 'Clerk'),\n",
       " ('Jean Passepartout', 'Pilot'),\n",
       " ('Jean Passepartout', 'Mr. Batulcar'),\n",
       " ('Jean Passepartout', 'Elder William Hitch'),\n",
       " ('Jean Passepartout', 'Colonel Proctor'),\n",
       " ('Jean Passepartout', 'Forster'),\n",
       " ('Jean Passepartout', 'Passenger'),\n",
       " ('Thomas Flanagan', 'Gauthier Ralph'),\n",
       " ('Thomas Flanagan', 'Andrew Stuart'),\n",
       " ('Gauthier Ralph', 'Andrew Stuart'),\n",
       " ('Andrew Stuart', 'Samuel Fallentin'),\n",
       " ('Andrew Stuart', 'John Sullivan'),\n",
       " ('Fix', 'Consul'),\n",
       " ('Fix', 'Aouda'),\n",
       " ('Fix', 'Colonel Proctor'),\n",
       " ('Sir Francis Cromarty', 'Parsee guide'),\n",
       " ('Aouda', 'Conductor'),\n",
       " ('Judge Obadiah', 'Clerk'),\n",
       " ('Colonel Proctor', 'Conductor'),\n",
       " ('Conductor', 'Forster')]"
      ]
     },
     "execution_count": 75,
     "metadata": {},
     "output_type": "execute_result"
    }
   ],
   "source": [
    "list(G.edges)"
   ]
  },
  {
   "cell_type": "markdown",
   "id": "3d3e70aa",
   "metadata": {},
   "source": [
    "# 6. Network Visualization"
   ]
  },
  {
   "cell_type": "markdown",
   "id": "d8423fd0",
   "metadata": {},
   "source": [
    "And now let's have a look at our network!"
   ]
  },
  {
   "cell_type": "code",
   "execution_count": 76,
   "id": "d980571c",
   "metadata": {},
   "outputs": [],
   "source": [
    "import matplotlib.pyplot as plt"
   ]
  },
  {
   "cell_type": "code",
   "execution_count": 77,
   "id": "db79e4d2",
   "metadata": {},
   "outputs": [],
   "source": [
    "plt.rcParams[\"figure.figsize\"] = (10, 10) #to change the size of the figure"
   ]
  },
  {
   "cell_type": "code",
   "execution_count": 78,
   "id": "cb998041",
   "metadata": {},
   "outputs": [
    {
     "data": {
      "image/png": "[encoded data removed]",
      "text/plain": [
       "<Figure size 1000x1000 with 1 Axes>"
      ]
     },
     "metadata": {},
     "output_type": "display_data"
    }
   ],
   "source": [
    "nx.draw(G, with_labels = True, node_size = 1000) #to change the size of our nodes\n",
    "plt.show()"
   ]
  },
  {
   "cell_type": "markdown",
   "id": "c9f4694d",
   "metadata": {},
   "source": [
    "# 7. Network metrics"
   ]
  },
  {
   "cell_type": "markdown",
   "id": "19022d46",
   "metadata": {},
   "source": [
    "I looks like the tree characters that appear in the center of the network are Kat, Patrick and Joey. Let's try to discover who is the **hub**: the node of the network with the higher number of connections."
   ]
  },
  {
   "cell_type": "markdown",
   "id": "d6affc3c",
   "metadata": {},
   "source": [
    "1. Calculating **Network Degree**: who has more connections?"
   ]
  },
  {
   "cell_type": "code",
   "execution_count": 79,
   "id": "dda65655",
   "metadata": {},
   "outputs": [
    {
     "data": {
      "text/plain": [
       "DegreeView({'Phileas Fogg': 16, 'Jean Passepartout': 13, 'Thomas Flanagan': 2, 'Gauthier Ralph': 2, 'Andrew Stuart': 5, 'John Sullivan': 2, 'Samuel Fallentin': 1, 'Fix': 5, 'Consul': 2, 'Landlord': 1, 'Sir Francis Cromarty': 3, 'Parsee guide': 3, 'Aouda': 3, 'Policeman': 2, 'Judge Obadiah': 3, 'Clerk': 2, 'Pilot': 2, 'Sailor': 1, 'Mr. Batulcar': 1, 'Colonel Proctor': 4, 'Elder William Hitch': 1, 'Conductor': 3, 'Forster': 2, 'Passenger': 1, 'Captain': 1, 'Andrew Speedy': 1})"
      ]
     },
     "execution_count": 79,
     "metadata": {},
     "output_type": "execute_result"
    }
   ],
   "source": [
    "nx.degree(G)"
   ]
  },
  {
   "cell_type": "code",
   "execution_count": 80,
   "id": "a0f8e8bb",
   "metadata": {},
   "outputs": [],
   "source": [
    "degrees = list(sorted(nx.degree(G), key=lambda x: x[1], reverse=True))"
   ]
  },
  {
   "cell_type": "code",
   "execution_count": 81,
   "id": "edeb2e53",
   "metadata": {},
   "outputs": [
    {
     "data": {
      "text/plain": [
       "[('Phileas Fogg', 16),\n",
       " ('Jean Passepartout', 13),\n",
       " ('Andrew Stuart', 5),\n",
       " ('Fix', 5),\n",
       " ('Colonel Proctor', 4),\n",
       " ('Sir Francis Cromarty', 3),\n",
       " ('Parsee guide', 3),\n",
       " ('Aouda', 3),\n",
       " ('Judge Obadiah', 3),\n",
       " ('Conductor', 3),\n",
       " ('Thomas Flanagan', 2),\n",
       " ('Gauthier Ralph', 2),\n",
       " ('John Sullivan', 2),\n",
       " ('Consul', 2),\n",
       " ('Policeman', 2),\n",
       " ('Clerk', 2),\n",
       " ('Pilot', 2),\n",
       " ('Forster', 2),\n",
       " ('Samuel Fallentin', 1),\n",
       " ('Landlord', 1),\n",
       " ('Sailor', 1),\n",
       " ('Mr. Batulcar', 1),\n",
       " ('Elder William Hitch', 1),\n",
       " ('Passenger', 1),\n",
       " ('Captain', 1),\n",
       " ('Andrew Speedy', 1)]"
      ]
     },
     "execution_count": 81,
     "metadata": {},
     "output_type": "execute_result"
    }
   ],
   "source": [
    "degrees"
   ]
  },
  {
   "cell_type": "markdown",
   "id": "641b3829",
   "metadata": {},
   "source": [
    "So: the network hub is Phileas Fogg! He is the character that has the biggest number of connections, followed by Jean Passepartout. This could be considered as a preliminary metric of **plot character agency**, showing that in terms of who knows whom, these two characters are the most popular ones in the story."
   ]
  },
  {
   "cell_type": "markdown",
   "id": "2b9925f3",
   "metadata": {},
   "source": [
    "2. Calculating **Betweenes Centrality Scores**: who is the person that connects more nodes in the network?"
   ]
  },
  {
   "cell_type": "code",
   "execution_count": 82,
   "id": "d02abc15",
   "metadata": {},
   "outputs": [],
   "source": [
    "betweenness = nx.betweenness_centrality(G)"
   ]
  },
  {
   "cell_type": "code",
   "execution_count": 83,
   "id": "ebe04e81",
   "metadata": {},
   "outputs": [
    {
     "data": {
      "text/plain": [
       "{'Phileas Fogg': 0.6655555555555556,\n",
       " 'Jean Passepartout': 0.3761111111111111,\n",
       " 'Thomas Flanagan': 0.0,\n",
       " 'Gauthier Ralph': 0.0,\n",
       " 'Andrew Stuart': 0.22666666666666668,\n",
       " 'John Sullivan': 0.0,\n",
       " 'Samuel Fallentin': 0.0,\n",
       " 'Fix': 0.023333333333333334,\n",
       " 'Consul': 0.0,\n",
       " 'Landlord': 0.0,\n",
       " 'Sir Francis Cromarty': 0.0,\n",
       " 'Parsee guide': 0.0,\n",
       " 'Aouda': 0.02416666666666667,\n",
       " 'Policeman': 0.0,\n",
       " 'Judge Obadiah': 0.01888888888888889,\n",
       " 'Clerk': 0.0,\n",
       " 'Pilot': 0.0,\n",
       " 'Sailor': 0.0,\n",
       " 'Mr. Batulcar': 0.0,\n",
       " 'Colonel Proctor': 0.03666666666666667,\n",
       " 'Elder William Hitch': 0.0,\n",
       " 'Conductor': 0.006111111111111111,\n",
       " 'Forster': 0.0125,\n",
       " 'Passenger': 0.0,\n",
       " 'Captain': 0.0,\n",
       " 'Andrew Speedy': 0.0}"
      ]
     },
     "execution_count": 83,
     "metadata": {},
     "output_type": "execute_result"
    }
   ],
   "source": [
    "betweenness"
   ]
  },
  {
   "cell_type": "code",
   "execution_count": 84,
   "id": "aa79d570",
   "metadata": {},
   "outputs": [],
   "source": [
    "betweenness = sorted(betweenness.items(), key=lambda x: x[1], reverse=True)"
   ]
  },
  {
   "cell_type": "code",
   "execution_count": 85,
   "id": "71f0ad56",
   "metadata": {},
   "outputs": [
    {
     "data": {
      "text/plain": [
       "[('Phileas Fogg', 0.6655555555555556),\n",
       " ('Jean Passepartout', 0.3761111111111111),\n",
       " ('Andrew Stuart', 0.22666666666666668),\n",
       " ('Colonel Proctor', 0.03666666666666667),\n",
       " ('Aouda', 0.02416666666666667),\n",
       " ('Fix', 0.023333333333333334),\n",
       " ('Judge Obadiah', 0.01888888888888889),\n",
       " ('Forster', 0.0125),\n",
       " ('Conductor', 0.006111111111111111),\n",
       " ('Thomas Flanagan', 0.0),\n",
       " ('Gauthier Ralph', 0.0),\n",
       " ('John Sullivan', 0.0),\n",
       " ('Samuel Fallentin', 0.0),\n",
       " ('Consul', 0.0),\n",
       " ('Landlord', 0.0),\n",
       " ('Sir Francis Cromarty', 0.0),\n",
       " ('Parsee guide', 0.0),\n",
       " ('Policeman', 0.0),\n",
       " ('Clerk', 0.0),\n",
       " ('Pilot', 0.0),\n",
       " ('Sailor', 0.0),\n",
       " ('Mr. Batulcar', 0.0),\n",
       " ('Elder William Hitch', 0.0),\n",
       " ('Passenger', 0.0),\n",
       " ('Captain', 0.0),\n",
       " ('Andrew Speedy', 0.0)]"
      ]
     },
     "execution_count": 85,
     "metadata": {},
     "output_type": "execute_result"
    }
   ],
   "source": [
    "betweenness"
   ]
  },
  {
   "cell_type": "markdown",
   "id": "46cd1906",
   "metadata": {},
   "source": [
    "This is another metric to determine who can put more people in touch within the network. That position goes to Phileas Fogg, and by far!"
   ]
  },
  {
   "cell_type": "markdown",
   "id": "83c7c71d",
   "metadata": {},
   "source": [
    "3. **Communities**: who forms different communities within this network?"
   ]
  },
  {
   "cell_type": "code",
   "execution_count": 86,
   "id": "2fc92c40",
   "metadata": {},
   "outputs": [],
   "source": [
    "from networkx.algorithms import community"
   ]
  },
  {
   "cell_type": "code",
   "execution_count": 87,
   "id": "92b9c820",
   "metadata": {},
   "outputs": [],
   "source": [
    "communities = community.greedy_modularity_communities(G)"
   ]
  },
  {
   "cell_type": "code",
   "execution_count": 88,
   "id": "61312b0f",
   "metadata": {},
   "outputs": [
    {
     "data": {
      "text/plain": [
       "[frozenset({'Clerk',\n",
       "            'Elder William Hitch',\n",
       "            'Jean Passepartout',\n",
       "            'Judge Obadiah',\n",
       "            'Mr. Batulcar',\n",
       "            'Passenger',\n",
       "            'Pilot',\n",
       "            'Policeman'}),\n",
       " frozenset({'Andrew Speedy',\n",
       "            'Captain',\n",
       "            'Landlord',\n",
       "            'Parsee guide',\n",
       "            'Phileas Fogg',\n",
       "            'Sailor',\n",
       "            'Sir Francis Cromarty'}),\n",
       " frozenset({'Aouda',\n",
       "            'Colonel Proctor',\n",
       "            'Conductor',\n",
       "            'Consul',\n",
       "            'Fix',\n",
       "            'Forster'}),\n",
       " frozenset({'Andrew Stuart',\n",
       "            'Gauthier Ralph',\n",
       "            'John Sullivan',\n",
       "            'Samuel Fallentin',\n",
       "            'Thomas Flanagan'})]"
      ]
     },
     "execution_count": 88,
     "metadata": {},
     "output_type": "execute_result"
    }
   ],
   "source": [
    "communities"
   ]
  },
  {
   "cell_type": "markdown",
   "id": "c4aefb4d",
   "metadata": {},
   "source": [
    "And then we can check whether there are some narrative sub-groups that tend to interact more with each other, and we do indeed observe four different communities."
   ]
  },
  {
   "cell_type": "markdown",
   "id": "acef227c",
   "metadata": {},
   "source": [
    "# 8. Conclusion"
   ]
  },
  {
   "cell_type": "markdown",
   "id": "4310fa36",
   "metadata": {},
   "source": [
    "While our network does not give any information about the content of the interactions between characters, or about how much they talk to each other (amount of text), it is a preliminary approach that shows how the hub of the network is Phileas Fogg, followed by Jean Passepartout, and therefore, these two characters direct the narrative. "
   ]
  },
  {
   "cell_type": "markdown",
   "id": "d5ddd370",
   "metadata": {},
   "source": [
    "# 9. Saving up our data"
   ]
  },
  {
   "cell_type": "markdown",
   "id": "f5ca00c6",
   "metadata": {},
   "source": [
    "Let's transform our network into a Pandas Dataframe. We can use nx.to_pandas_adjacency() to do this. It will return a Document Term Matrix where each node is assigned 1 point if there is an interaction between two characters, and 0 points if there is no interaction."
   ]
  },
  {
   "cell_type": "code",
   "execution_count": 89,
   "id": "09232847",
   "metadata": {},
   "outputs": [],
   "source": [
    "df_aroundtheworld = nx.to_pandas_adjacency(G)"
   ]
  },
  {
   "cell_type": "code",
   "execution_count": 90,
   "id": "98a1ba9d",
   "metadata": {},
   "outputs": [
    {
     "data": {
      "text/html": [
       "<div>\n",
       "<style scoped>\n",
       "    .dataframe tbody tr th:only-of-type {\n",
       "        vertical-align: middle;\n",
       "    }\n",
       "\n",
       "    .dataframe tbody tr th {\n",
       "        vertical-align: top;\n",
       "    }\n",
       "\n",
       "    .dataframe thead th {\n",
       "        text-align: right;\n",
       "    }\n",
       "</style>\n",
       "<table border=\"1\" class=\"dataframe\">\n",
       "  <thead>\n",
       "    <tr style=\"text-align: right;\">\n",
       "      <th></th>\n",
       "      <th>Phileas Fogg</th>\n",
       "      <th>Jean Passepartout</th>\n",
       "      <th>Thomas Flanagan</th>\n",
       "      <th>Gauthier Ralph</th>\n",
       "      <th>Andrew Stuart</th>\n",
       "      <th>John Sullivan</th>\n",
       "      <th>Samuel Fallentin</th>\n",
       "      <th>Fix</th>\n",
       "      <th>Consul</th>\n",
       "      <th>Landlord</th>\n",
       "      <th>...</th>\n",
       "      <th>Pilot</th>\n",
       "      <th>Sailor</th>\n",
       "      <th>Mr. Batulcar</th>\n",
       "      <th>Colonel Proctor</th>\n",
       "      <th>Elder William Hitch</th>\n",
       "      <th>Conductor</th>\n",
       "      <th>Forster</th>\n",
       "      <th>Passenger</th>\n",
       "      <th>Captain</th>\n",
       "      <th>Andrew Speedy</th>\n",
       "    </tr>\n",
       "  </thead>\n",
       "  <tbody>\n",
       "    <tr>\n",
       "      <th>Phileas Fogg</th>\n",
       "      <td>0.0</td>\n",
       "      <td>1.0</td>\n",
       "      <td>0.0</td>\n",
       "      <td>0.0</td>\n",
       "      <td>1.0</td>\n",
       "      <td>1.0</td>\n",
       "      <td>0.0</td>\n",
       "      <td>1.0</td>\n",
       "      <td>1.0</td>\n",
       "      <td>1.0</td>\n",
       "      <td>...</td>\n",
       "      <td>1.0</td>\n",
       "      <td>1.0</td>\n",
       "      <td>0.0</td>\n",
       "      <td>1.0</td>\n",
       "      <td>0.0</td>\n",
       "      <td>0.0</td>\n",
       "      <td>0.0</td>\n",
       "      <td>0.0</td>\n",
       "      <td>1.0</td>\n",
       "      <td>1.0</td>\n",
       "    </tr>\n",
       "    <tr>\n",
       "      <th>Jean Passepartout</th>\n",
       "      <td>1.0</td>\n",
       "      <td>0.0</td>\n",
       "      <td>0.0</td>\n",
       "      <td>0.0</td>\n",
       "      <td>0.0</td>\n",
       "      <td>0.0</td>\n",
       "      <td>0.0</td>\n",
       "      <td>1.0</td>\n",
       "      <td>0.0</td>\n",
       "      <td>0.0</td>\n",
       "      <td>...</td>\n",
       "      <td>1.0</td>\n",
       "      <td>0.0</td>\n",
       "      <td>1.0</td>\n",
       "      <td>1.0</td>\n",
       "      <td>1.0</td>\n",
       "      <td>0.0</td>\n",
       "      <td>1.0</td>\n",
       "      <td>1.0</td>\n",
       "      <td>0.0</td>\n",
       "      <td>0.0</td>\n",
       "    </tr>\n",
       "    <tr>\n",
       "      <th>Thomas Flanagan</th>\n",
       "      <td>0.0</td>\n",
       "      <td>0.0</td>\n",
       "      <td>0.0</td>\n",
       "      <td>1.0</td>\n",
       "      <td>1.0</td>\n",
       "      <td>0.0</td>\n",
       "      <td>0.0</td>\n",
       "      <td>0.0</td>\n",
       "      <td>0.0</td>\n",
       "      <td>0.0</td>\n",
       "      <td>...</td>\n",
       "      <td>0.0</td>\n",
       "      <td>0.0</td>\n",
       "      <td>0.0</td>\n",
       "      <td>0.0</td>\n",
       "      <td>0.0</td>\n",
       "      <td>0.0</td>\n",
       "      <td>0.0</td>\n",
       "      <td>0.0</td>\n",
       "      <td>0.0</td>\n",
       "      <td>0.0</td>\n",
       "    </tr>\n",
       "    <tr>\n",
       "      <th>Gauthier Ralph</th>\n",
       "      <td>0.0</td>\n",
       "      <td>0.0</td>\n",
       "      <td>1.0</td>\n",
       "      <td>0.0</td>\n",
       "      <td>1.0</td>\n",
       "      <td>0.0</td>\n",
       "      <td>0.0</td>\n",
       "      <td>0.0</td>\n",
       "      <td>0.0</td>\n",
       "      <td>0.0</td>\n",
       "      <td>...</td>\n",
       "      <td>0.0</td>\n",
       "      <td>0.0</td>\n",
       "      <td>0.0</td>\n",
       "      <td>0.0</td>\n",
       "      <td>0.0</td>\n",
       "      <td>0.0</td>\n",
       "      <td>0.0</td>\n",
       "      <td>0.0</td>\n",
       "      <td>0.0</td>\n",
       "      <td>0.0</td>\n",
       "    </tr>\n",
       "    <tr>\n",
       "      <th>Andrew Stuart</th>\n",
       "      <td>1.0</td>\n",
       "      <td>0.0</td>\n",
       "      <td>1.0</td>\n",
       "      <td>1.0</td>\n",
       "      <td>0.0</td>\n",
       "      <td>1.0</td>\n",
       "      <td>1.0</td>\n",
       "      <td>0.0</td>\n",
       "      <td>0.0</td>\n",
       "      <td>0.0</td>\n",
       "      <td>...</td>\n",
       "      <td>0.0</td>\n",
       "      <td>0.0</td>\n",
       "      <td>0.0</td>\n",
       "      <td>0.0</td>\n",
       "      <td>0.0</td>\n",
       "      <td>0.0</td>\n",
       "      <td>0.0</td>\n",
       "      <td>0.0</td>\n",
       "      <td>0.0</td>\n",
       "      <td>0.0</td>\n",
       "    </tr>\n",
       "    <tr>\n",
       "      <th>John Sullivan</th>\n",
       "      <td>1.0</td>\n",
       "      <td>0.0</td>\n",
       "      <td>0.0</td>\n",
       "      <td>0.0</td>\n",
       "      <td>1.0</td>\n",
       "      <td>0.0</td>\n",
       "      <td>0.0</td>\n",
       "      <td>0.0</td>\n",
       "      <td>0.0</td>\n",
       "      <td>0.0</td>\n",
       "      <td>...</td>\n",
       "      <td>0.0</td>\n",
       "      <td>0.0</td>\n",
       "      <td>0.0</td>\n",
       "      <td>0.0</td>\n",
       "      <td>0.0</td>\n",
       "      <td>0.0</td>\n",
       "      <td>0.0</td>\n",
       "      <td>0.0</td>\n",
       "      <td>0.0</td>\n",
       "      <td>0.0</td>\n",
       "    </tr>\n",
       "    <tr>\n",
       "      <th>Samuel Fallentin</th>\n",
       "      <td>0.0</td>\n",
       "      <td>0.0</td>\n",
       "      <td>0.0</td>\n",
       "      <td>0.0</td>\n",
       "      <td>1.0</td>\n",
       "      <td>0.0</td>\n",
       "      <td>0.0</td>\n",
       "      <td>0.0</td>\n",
       "      <td>0.0</td>\n",
       "      <td>0.0</td>\n",
       "      <td>...</td>\n",
       "      <td>0.0</td>\n",
       "      <td>0.0</td>\n",
       "      <td>0.0</td>\n",
       "      <td>0.0</td>\n",
       "      <td>0.0</td>\n",
       "      <td>0.0</td>\n",
       "      <td>0.0</td>\n",
       "      <td>0.0</td>\n",
       "      <td>0.0</td>\n",
       "      <td>0.0</td>\n",
       "    </tr>\n",
       "    <tr>\n",
       "      <th>Fix</th>\n",
       "      <td>1.0</td>\n",
       "      <td>1.0</td>\n",
       "      <td>0.0</td>\n",
       "      <td>0.0</td>\n",
       "      <td>0.0</td>\n",
       "      <td>0.0</td>\n",
       "      <td>0.0</td>\n",
       "      <td>0.0</td>\n",
       "      <td>1.0</td>\n",
       "      <td>0.0</td>\n",
       "      <td>...</td>\n",
       "      <td>0.0</td>\n",
       "      <td>0.0</td>\n",
       "      <td>0.0</td>\n",
       "      <td>1.0</td>\n",
       "      <td>0.0</td>\n",
       "      <td>0.0</td>\n",
       "      <td>0.0</td>\n",
       "      <td>0.0</td>\n",
       "      <td>0.0</td>\n",
       "      <td>0.0</td>\n",
       "    </tr>\n",
       "    <tr>\n",
       "      <th>Consul</th>\n",
       "      <td>1.0</td>\n",
       "      <td>0.0</td>\n",
       "      <td>0.0</td>\n",
       "      <td>0.0</td>\n",
       "      <td>0.0</td>\n",
       "      <td>0.0</td>\n",
       "      <td>0.0</td>\n",
       "      <td>1.0</td>\n",
       "      <td>0.0</td>\n",
       "      <td>0.0</td>\n",
       "      <td>...</td>\n",
       "      <td>0.0</td>\n",
       "      <td>0.0</td>\n",
       "      <td>0.0</td>\n",
       "      <td>0.0</td>\n",
       "      <td>0.0</td>\n",
       "      <td>0.0</td>\n",
       "      <td>0.0</td>\n",
       "      <td>0.0</td>\n",
       "      <td>0.0</td>\n",
       "      <td>0.0</td>\n",
       "    </tr>\n",
       "    <tr>\n",
       "      <th>Landlord</th>\n",
       "      <td>1.0</td>\n",
       "      <td>0.0</td>\n",
       "      <td>0.0</td>\n",
       "      <td>0.0</td>\n",
       "      <td>0.0</td>\n",
       "      <td>0.0</td>\n",
       "      <td>0.0</td>\n",
       "      <td>0.0</td>\n",
       "      <td>0.0</td>\n",
       "      <td>0.0</td>\n",
       "      <td>...</td>\n",
       "      <td>0.0</td>\n",
       "      <td>0.0</td>\n",
       "      <td>0.0</td>\n",
       "      <td>0.0</td>\n",
       "      <td>0.0</td>\n",
       "      <td>0.0</td>\n",
       "      <td>0.0</td>\n",
       "      <td>0.0</td>\n",
       "      <td>0.0</td>\n",
       "      <td>0.0</td>\n",
       "    </tr>\n",
       "    <tr>\n",
       "      <th>Sir Francis Cromarty</th>\n",
       "      <td>1.0</td>\n",
       "      <td>1.0</td>\n",
       "      <td>0.0</td>\n",
       "      <td>0.0</td>\n",
       "      <td>0.0</td>\n",
       "      <td>0.0</td>\n",
       "      <td>0.0</td>\n",
       "      <td>0.0</td>\n",
       "      <td>0.0</td>\n",
       "      <td>0.0</td>\n",
       "      <td>...</td>\n",
       "      <td>0.0</td>\n",
       "      <td>0.0</td>\n",
       "      <td>0.0</td>\n",
       "      <td>0.0</td>\n",
       "      <td>0.0</td>\n",
       "      <td>0.0</td>\n",
       "      <td>0.0</td>\n",
       "      <td>0.0</td>\n",
       "      <td>0.0</td>\n",
       "      <td>0.0</td>\n",
       "    </tr>\n",
       "    <tr>\n",
       "      <th>Parsee guide</th>\n",
       "      <td>1.0</td>\n",
       "      <td>1.0</td>\n",
       "      <td>0.0</td>\n",
       "      <td>0.0</td>\n",
       "      <td>0.0</td>\n",
       "      <td>0.0</td>\n",
       "      <td>0.0</td>\n",
       "      <td>0.0</td>\n",
       "      <td>0.0</td>\n",
       "      <td>0.0</td>\n",
       "      <td>...</td>\n",
       "      <td>0.0</td>\n",
       "      <td>0.0</td>\n",
       "      <td>0.0</td>\n",
       "      <td>0.0</td>\n",
       "      <td>0.0</td>\n",
       "      <td>0.0</td>\n",
       "      <td>0.0</td>\n",
       "      <td>0.0</td>\n",
       "      <td>0.0</td>\n",
       "      <td>0.0</td>\n",
       "    </tr>\n",
       "    <tr>\n",
       "      <th>Aouda</th>\n",
       "      <td>1.0</td>\n",
       "      <td>0.0</td>\n",
       "      <td>0.0</td>\n",
       "      <td>0.0</td>\n",
       "      <td>0.0</td>\n",
       "      <td>0.0</td>\n",
       "      <td>0.0</td>\n",
       "      <td>1.0</td>\n",
       "      <td>0.0</td>\n",
       "      <td>0.0</td>\n",
       "      <td>...</td>\n",
       "      <td>0.0</td>\n",
       "      <td>0.0</td>\n",
       "      <td>0.0</td>\n",
       "      <td>0.0</td>\n",
       "      <td>0.0</td>\n",
       "      <td>1.0</td>\n",
       "      <td>0.0</td>\n",
       "      <td>0.0</td>\n",
       "      <td>0.0</td>\n",
       "      <td>0.0</td>\n",
       "    </tr>\n",
       "    <tr>\n",
       "      <th>Policeman</th>\n",
       "      <td>1.0</td>\n",
       "      <td>1.0</td>\n",
       "      <td>0.0</td>\n",
       "      <td>0.0</td>\n",
       "      <td>0.0</td>\n",
       "      <td>0.0</td>\n",
       "      <td>0.0</td>\n",
       "      <td>0.0</td>\n",
       "      <td>0.0</td>\n",
       "      <td>0.0</td>\n",
       "      <td>...</td>\n",
       "      <td>0.0</td>\n",
       "      <td>0.0</td>\n",
       "      <td>0.0</td>\n",
       "      <td>0.0</td>\n",
       "      <td>0.0</td>\n",
       "      <td>0.0</td>\n",
       "      <td>0.0</td>\n",
       "      <td>0.0</td>\n",
       "      <td>0.0</td>\n",
       "      <td>0.0</td>\n",
       "    </tr>\n",
       "    <tr>\n",
       "      <th>Judge Obadiah</th>\n",
       "      <td>1.0</td>\n",
       "      <td>1.0</td>\n",
       "      <td>0.0</td>\n",
       "      <td>0.0</td>\n",
       "      <td>0.0</td>\n",
       "      <td>0.0</td>\n",
       "      <td>0.0</td>\n",
       "      <td>0.0</td>\n",
       "      <td>0.0</td>\n",
       "      <td>0.0</td>\n",
       "      <td>...</td>\n",
       "      <td>0.0</td>\n",
       "      <td>0.0</td>\n",
       "      <td>0.0</td>\n",
       "      <td>0.0</td>\n",
       "      <td>0.0</td>\n",
       "      <td>0.0</td>\n",
       "      <td>0.0</td>\n",
       "      <td>0.0</td>\n",
       "      <td>0.0</td>\n",
       "      <td>0.0</td>\n",
       "    </tr>\n",
       "    <tr>\n",
       "      <th>Clerk</th>\n",
       "      <td>0.0</td>\n",
       "      <td>1.0</td>\n",
       "      <td>0.0</td>\n",
       "      <td>0.0</td>\n",
       "      <td>0.0</td>\n",
       "      <td>0.0</td>\n",
       "      <td>0.0</td>\n",
       "      <td>0.0</td>\n",
       "      <td>0.0</td>\n",
       "      <td>0.0</td>\n",
       "      <td>...</td>\n",
       "      <td>0.0</td>\n",
       "      <td>0.0</td>\n",
       "      <td>0.0</td>\n",
       "      <td>0.0</td>\n",
       "      <td>0.0</td>\n",
       "      <td>0.0</td>\n",
       "      <td>0.0</td>\n",
       "      <td>0.0</td>\n",
       "      <td>0.0</td>\n",
       "      <td>0.0</td>\n",
       "    </tr>\n",
       "    <tr>\n",
       "      <th>Pilot</th>\n",
       "      <td>1.0</td>\n",
       "      <td>1.0</td>\n",
       "      <td>0.0</td>\n",
       "      <td>0.0</td>\n",
       "      <td>0.0</td>\n",
       "      <td>0.0</td>\n",
       "      <td>0.0</td>\n",
       "      <td>0.0</td>\n",
       "      <td>0.0</td>\n",
       "      <td>0.0</td>\n",
       "      <td>...</td>\n",
       "      <td>0.0</td>\n",
       "      <td>0.0</td>\n",
       "      <td>0.0</td>\n",
       "      <td>0.0</td>\n",
       "      <td>0.0</td>\n",
       "      <td>0.0</td>\n",
       "      <td>0.0</td>\n",
       "      <td>0.0</td>\n",
       "      <td>0.0</td>\n",
       "      <td>0.0</td>\n",
       "    </tr>\n",
       "    <tr>\n",
       "      <th>Sailor</th>\n",
       "      <td>1.0</td>\n",
       "      <td>0.0</td>\n",
       "      <td>0.0</td>\n",
       "      <td>0.0</td>\n",
       "      <td>0.0</td>\n",
       "      <td>0.0</td>\n",
       "      <td>0.0</td>\n",
       "      <td>0.0</td>\n",
       "      <td>0.0</td>\n",
       "      <td>0.0</td>\n",
       "      <td>...</td>\n",
       "      <td>0.0</td>\n",
       "      <td>0.0</td>\n",
       "      <td>0.0</td>\n",
       "      <td>0.0</td>\n",
       "      <td>0.0</td>\n",
       "      <td>0.0</td>\n",
       "      <td>0.0</td>\n",
       "      <td>0.0</td>\n",
       "      <td>0.0</td>\n",
       "      <td>0.0</td>\n",
       "    </tr>\n",
       "    <tr>\n",
       "      <th>Mr. Batulcar</th>\n",
       "      <td>0.0</td>\n",
       "      <td>1.0</td>\n",
       "      <td>0.0</td>\n",
       "      <td>0.0</td>\n",
       "      <td>0.0</td>\n",
       "      <td>0.0</td>\n",
       "      <td>0.0</td>\n",
       "      <td>0.0</td>\n",
       "      <td>0.0</td>\n",
       "      <td>0.0</td>\n",
       "      <td>...</td>\n",
       "      <td>0.0</td>\n",
       "      <td>0.0</td>\n",
       "      <td>0.0</td>\n",
       "      <td>0.0</td>\n",
       "      <td>0.0</td>\n",
       "      <td>0.0</td>\n",
       "      <td>0.0</td>\n",
       "      <td>0.0</td>\n",
       "      <td>0.0</td>\n",
       "      <td>0.0</td>\n",
       "    </tr>\n",
       "    <tr>\n",
       "      <th>Colonel Proctor</th>\n",
       "      <td>1.0</td>\n",
       "      <td>1.0</td>\n",
       "      <td>0.0</td>\n",
       "      <td>0.0</td>\n",
       "      <td>0.0</td>\n",
       "      <td>0.0</td>\n",
       "      <td>0.0</td>\n",
       "      <td>1.0</td>\n",
       "      <td>0.0</td>\n",
       "      <td>0.0</td>\n",
       "      <td>...</td>\n",
       "      <td>0.0</td>\n",
       "      <td>0.0</td>\n",
       "      <td>0.0</td>\n",
       "      <td>0.0</td>\n",
       "      <td>0.0</td>\n",
       "      <td>1.0</td>\n",
       "      <td>0.0</td>\n",
       "      <td>0.0</td>\n",
       "      <td>0.0</td>\n",
       "      <td>0.0</td>\n",
       "    </tr>\n",
       "    <tr>\n",
       "      <th>Elder William Hitch</th>\n",
       "      <td>0.0</td>\n",
       "      <td>1.0</td>\n",
       "      <td>0.0</td>\n",
       "      <td>0.0</td>\n",
       "      <td>0.0</td>\n",
       "      <td>0.0</td>\n",
       "      <td>0.0</td>\n",
       "      <td>0.0</td>\n",
       "      <td>0.0</td>\n",
       "      <td>0.0</td>\n",
       "      <td>...</td>\n",
       "      <td>0.0</td>\n",
       "      <td>0.0</td>\n",
       "      <td>0.0</td>\n",
       "      <td>0.0</td>\n",
       "      <td>0.0</td>\n",
       "      <td>0.0</td>\n",
       "      <td>0.0</td>\n",
       "      <td>0.0</td>\n",
       "      <td>0.0</td>\n",
       "      <td>0.0</td>\n",
       "    </tr>\n",
       "    <tr>\n",
       "      <th>Conductor</th>\n",
       "      <td>0.0</td>\n",
       "      <td>0.0</td>\n",
       "      <td>0.0</td>\n",
       "      <td>0.0</td>\n",
       "      <td>0.0</td>\n",
       "      <td>0.0</td>\n",
       "      <td>0.0</td>\n",
       "      <td>0.0</td>\n",
       "      <td>0.0</td>\n",
       "      <td>0.0</td>\n",
       "      <td>...</td>\n",
       "      <td>0.0</td>\n",
       "      <td>0.0</td>\n",
       "      <td>0.0</td>\n",
       "      <td>1.0</td>\n",
       "      <td>0.0</td>\n",
       "      <td>0.0</td>\n",
       "      <td>1.0</td>\n",
       "      <td>0.0</td>\n",
       "      <td>0.0</td>\n",
       "      <td>0.0</td>\n",
       "    </tr>\n",
       "    <tr>\n",
       "      <th>Forster</th>\n",
       "      <td>0.0</td>\n",
       "      <td>1.0</td>\n",
       "      <td>0.0</td>\n",
       "      <td>0.0</td>\n",
       "      <td>0.0</td>\n",
       "      <td>0.0</td>\n",
       "      <td>0.0</td>\n",
       "      <td>0.0</td>\n",
       "      <td>0.0</td>\n",
       "      <td>0.0</td>\n",
       "      <td>...</td>\n",
       "      <td>0.0</td>\n",
       "      <td>0.0</td>\n",
       "      <td>0.0</td>\n",
       "      <td>0.0</td>\n",
       "      <td>0.0</td>\n",
       "      <td>1.0</td>\n",
       "      <td>0.0</td>\n",
       "      <td>0.0</td>\n",
       "      <td>0.0</td>\n",
       "      <td>0.0</td>\n",
       "    </tr>\n",
       "    <tr>\n",
       "      <th>Passenger</th>\n",
       "      <td>0.0</td>\n",
       "      <td>1.0</td>\n",
       "      <td>0.0</td>\n",
       "      <td>0.0</td>\n",
       "      <td>0.0</td>\n",
       "      <td>0.0</td>\n",
       "      <td>0.0</td>\n",
       "      <td>0.0</td>\n",
       "      <td>0.0</td>\n",
       "      <td>0.0</td>\n",
       "      <td>...</td>\n",
       "      <td>0.0</td>\n",
       "      <td>0.0</td>\n",
       "      <td>0.0</td>\n",
       "      <td>0.0</td>\n",
       "      <td>0.0</td>\n",
       "      <td>0.0</td>\n",
       "      <td>0.0</td>\n",
       "      <td>0.0</td>\n",
       "      <td>0.0</td>\n",
       "      <td>0.0</td>\n",
       "    </tr>\n",
       "    <tr>\n",
       "      <th>Captain</th>\n",
       "      <td>1.0</td>\n",
       "      <td>0.0</td>\n",
       "      <td>0.0</td>\n",
       "      <td>0.0</td>\n",
       "      <td>0.0</td>\n",
       "      <td>0.0</td>\n",
       "      <td>0.0</td>\n",
       "      <td>0.0</td>\n",
       "      <td>0.0</td>\n",
       "      <td>0.0</td>\n",
       "      <td>...</td>\n",
       "      <td>0.0</td>\n",
       "      <td>0.0</td>\n",
       "      <td>0.0</td>\n",
       "      <td>0.0</td>\n",
       "      <td>0.0</td>\n",
       "      <td>0.0</td>\n",
       "      <td>0.0</td>\n",
       "      <td>0.0</td>\n",
       "      <td>0.0</td>\n",
       "      <td>0.0</td>\n",
       "    </tr>\n",
       "    <tr>\n",
       "      <th>Andrew Speedy</th>\n",
       "      <td>1.0</td>\n",
       "      <td>0.0</td>\n",
       "      <td>0.0</td>\n",
       "      <td>0.0</td>\n",
       "      <td>0.0</td>\n",
       "      <td>0.0</td>\n",
       "      <td>0.0</td>\n",
       "      <td>0.0</td>\n",
       "      <td>0.0</td>\n",
       "      <td>0.0</td>\n",
       "      <td>...</td>\n",
       "      <td>0.0</td>\n",
       "      <td>0.0</td>\n",
       "      <td>0.0</td>\n",
       "      <td>0.0</td>\n",
       "      <td>0.0</td>\n",
       "      <td>0.0</td>\n",
       "      <td>0.0</td>\n",
       "      <td>0.0</td>\n",
       "      <td>0.0</td>\n",
       "      <td>0.0</td>\n",
       "    </tr>\n",
       "  </tbody>\n",
       "</table>\n",
       "<p>26 rows × 26 columns</p>\n",
       "</div>"
      ],
      "text/plain": [
       "                      Phileas Fogg  Jean Passepartout  Thomas Flanagan  \\\n",
       "Phileas Fogg                   0.0                1.0              0.0   \n",
       "Jean Passepartout              1.0                0.0              0.0   \n",
       "Thomas Flanagan                0.0                0.0              0.0   \n",
       "Gauthier Ralph                 0.0                0.0              1.0   \n",
       "Andrew Stuart                  1.0                0.0              1.0   \n",
       "John Sullivan                  1.0                0.0              0.0   \n",
       "Samuel Fallentin               0.0                0.0              0.0   \n",
       "Fix                            1.0                1.0              0.0   \n",
       "Consul                         1.0                0.0              0.0   \n",
       "Landlord                       1.0                0.0              0.0   \n",
       "Sir Francis Cromarty           1.0                1.0              0.0   \n",
       "Parsee guide                   1.0                1.0              0.0   \n",
       "Aouda                          1.0                0.0              0.0   \n",
       "Policeman                      1.0                1.0              0.0   \n",
       "Judge Obadiah                  1.0                1.0              0.0   \n",
       "Clerk                          0.0                1.0              0.0   \n",
       "Pilot                          1.0                1.0              0.0   \n",
       "Sailor                         1.0                0.0              0.0   \n",
       "Mr. Batulcar                   0.0                1.0              0.0   \n",
       "Colonel Proctor                1.0                1.0              0.0   \n",
       "Elder William Hitch            0.0                1.0              0.0   \n",
       "Conductor                      0.0                0.0              0.0   \n",
       "Forster                        0.0                1.0              0.0   \n",
       "Passenger                      0.0                1.0              0.0   \n",
       "Captain                        1.0                0.0              0.0   \n",
       "Andrew Speedy                  1.0                0.0              0.0   \n",
       "\n",
       "                      Gauthier Ralph  Andrew Stuart  John Sullivan  \\\n",
       "Phileas Fogg                     0.0            1.0            1.0   \n",
       "Jean Passepartout                0.0            0.0            0.0   \n",
       "Thomas Flanagan                  1.0            1.0            0.0   \n",
       "Gauthier Ralph                   0.0            1.0            0.0   \n",
       "Andrew Stuart                    1.0            0.0            1.0   \n",
       "John Sullivan                    0.0            1.0            0.0   \n",
       "Samuel Fallentin                 0.0            1.0            0.0   \n",
       "Fix                              0.0            0.0            0.0   \n",
       "Consul                           0.0            0.0            0.0   \n",
       "Landlord                         0.0            0.0            0.0   \n",
       "Sir Francis Cromarty             0.0            0.0            0.0   \n",
       "Parsee guide                     0.0            0.0            0.0   \n",
       "Aouda                            0.0            0.0            0.0   \n",
       "Policeman                        0.0            0.0            0.0   \n",
       "Judge Obadiah                    0.0            0.0            0.0   \n",
       "Clerk                            0.0            0.0            0.0   \n",
       "Pilot                            0.0            0.0            0.0   \n",
       "Sailor                           0.0            0.0            0.0   \n",
       "Mr. Batulcar                     0.0            0.0            0.0   \n",
       "Colonel Proctor                  0.0            0.0            0.0   \n",
       "Elder William Hitch              0.0            0.0            0.0   \n",
       "Conductor                        0.0            0.0            0.0   \n",
       "Forster                          0.0            0.0            0.0   \n",
       "Passenger                        0.0            0.0            0.0   \n",
       "Captain                          0.0            0.0            0.0   \n",
       "Andrew Speedy                    0.0            0.0            0.0   \n",
       "\n",
       "                      Samuel Fallentin  Fix  Consul  Landlord  ...  Pilot  \\\n",
       "Phileas Fogg                       0.0  1.0     1.0       1.0  ...    1.0   \n",
       "Jean Passepartout                  0.0  1.0     0.0       0.0  ...    1.0   \n",
       "Thomas Flanagan                    0.0  0.0     0.0       0.0  ...    0.0   \n",
       "Gauthier Ralph                     0.0  0.0     0.0       0.0  ...    0.0   \n",
       "Andrew Stuart                      1.0  0.0     0.0       0.0  ...    0.0   \n",
       "John Sullivan                      0.0  0.0     0.0       0.0  ...    0.0   \n",
       "Samuel Fallentin                   0.0  0.0     0.0       0.0  ...    0.0   \n",
       "Fix                                0.0  0.0     1.0       0.0  ...    0.0   \n",
       "Consul                             0.0  1.0     0.0       0.0  ...    0.0   \n",
       "Landlord                           0.0  0.0     0.0       0.0  ...    0.0   \n",
       "Sir Francis Cromarty               0.0  0.0     0.0       0.0  ...    0.0   \n",
       "Parsee guide                       0.0  0.0     0.0       0.0  ...    0.0   \n",
       "Aouda                              0.0  1.0     0.0       0.0  ...    0.0   \n",
       "Policeman                          0.0  0.0     0.0       0.0  ...    0.0   \n",
       "Judge Obadiah                      0.0  0.0     0.0       0.0  ...    0.0   \n",
       "Clerk                              0.0  0.0     0.0       0.0  ...    0.0   \n",
       "Pilot                              0.0  0.0     0.0       0.0  ...    0.0   \n",
       "Sailor                             0.0  0.0     0.0       0.0  ...    0.0   \n",
       "Mr. Batulcar                       0.0  0.0     0.0       0.0  ...    0.0   \n",
       "Colonel Proctor                    0.0  1.0     0.0       0.0  ...    0.0   \n",
       "Elder William Hitch                0.0  0.0     0.0       0.0  ...    0.0   \n",
       "Conductor                          0.0  0.0     0.0       0.0  ...    0.0   \n",
       "Forster                            0.0  0.0     0.0       0.0  ...    0.0   \n",
       "Passenger                          0.0  0.0     0.0       0.0  ...    0.0   \n",
       "Captain                            0.0  0.0     0.0       0.0  ...    0.0   \n",
       "Andrew Speedy                      0.0  0.0     0.0       0.0  ...    0.0   \n",
       "\n",
       "                      Sailor  Mr. Batulcar  Colonel Proctor  \\\n",
       "Phileas Fogg             1.0           0.0              1.0   \n",
       "Jean Passepartout        0.0           1.0              1.0   \n",
       "Thomas Flanagan          0.0           0.0              0.0   \n",
       "Gauthier Ralph           0.0           0.0              0.0   \n",
       "Andrew Stuart            0.0           0.0              0.0   \n",
       "John Sullivan            0.0           0.0              0.0   \n",
       "Samuel Fallentin         0.0           0.0              0.0   \n",
       "Fix                      0.0           0.0              1.0   \n",
       "Consul                   0.0           0.0              0.0   \n",
       "Landlord                 0.0           0.0              0.0   \n",
       "Sir Francis Cromarty     0.0           0.0              0.0   \n",
       "Parsee guide             0.0           0.0              0.0   \n",
       "Aouda                    0.0           0.0              0.0   \n",
       "Policeman                0.0           0.0              0.0   \n",
       "Judge Obadiah            0.0           0.0              0.0   \n",
       "Clerk                    0.0           0.0              0.0   \n",
       "Pilot                    0.0           0.0              0.0   \n",
       "Sailor                   0.0           0.0              0.0   \n",
       "Mr. Batulcar             0.0           0.0              0.0   \n",
       "Colonel Proctor          0.0           0.0              0.0   \n",
       "Elder William Hitch      0.0           0.0              0.0   \n",
       "Conductor                0.0           0.0              1.0   \n",
       "Forster                  0.0           0.0              0.0   \n",
       "Passenger                0.0           0.0              0.0   \n",
       "Captain                  0.0           0.0              0.0   \n",
       "Andrew Speedy            0.0           0.0              0.0   \n",
       "\n",
       "                      Elder William Hitch  Conductor  Forster  Passenger  \\\n",
       "Phileas Fogg                          0.0        0.0      0.0        0.0   \n",
       "Jean Passepartout                     1.0        0.0      1.0        1.0   \n",
       "Thomas Flanagan                       0.0        0.0      0.0        0.0   \n",
       "Gauthier Ralph                        0.0        0.0      0.0        0.0   \n",
       "Andrew Stuart                         0.0        0.0      0.0        0.0   \n",
       "John Sullivan                         0.0        0.0      0.0        0.0   \n",
       "Samuel Fallentin                      0.0        0.0      0.0        0.0   \n",
       "Fix                                   0.0        0.0      0.0        0.0   \n",
       "Consul                                0.0        0.0      0.0        0.0   \n",
       "Landlord                              0.0        0.0      0.0        0.0   \n",
       "Sir Francis Cromarty                  0.0        0.0      0.0        0.0   \n",
       "Parsee guide                          0.0        0.0      0.0        0.0   \n",
       "Aouda                                 0.0        1.0      0.0        0.0   \n",
       "Policeman                             0.0        0.0      0.0        0.0   \n",
       "Judge Obadiah                         0.0        0.0      0.0        0.0   \n",
       "Clerk                                 0.0        0.0      0.0        0.0   \n",
       "Pilot                                 0.0        0.0      0.0        0.0   \n",
       "Sailor                                0.0        0.0      0.0        0.0   \n",
       "Mr. Batulcar                          0.0        0.0      0.0        0.0   \n",
       "Colonel Proctor                       0.0        1.0      0.0        0.0   \n",
       "Elder William Hitch                   0.0        0.0      0.0        0.0   \n",
       "Conductor                             0.0        0.0      1.0        0.0   \n",
       "Forster                               0.0        1.0      0.0        0.0   \n",
       "Passenger                             0.0        0.0      0.0        0.0   \n",
       "Captain                               0.0        0.0      0.0        0.0   \n",
       "Andrew Speedy                         0.0        0.0      0.0        0.0   \n",
       "\n",
       "                      Captain  Andrew Speedy  \n",
       "Phileas Fogg              1.0            1.0  \n",
       "Jean Passepartout         0.0            0.0  \n",
       "Thomas Flanagan           0.0            0.0  \n",
       "Gauthier Ralph            0.0            0.0  \n",
       "Andrew Stuart             0.0            0.0  \n",
       "John Sullivan             0.0            0.0  \n",
       "Samuel Fallentin          0.0            0.0  \n",
       "Fix                       0.0            0.0  \n",
       "Consul                    0.0            0.0  \n",
       "Landlord                  0.0            0.0  \n",
       "Sir Francis Cromarty      0.0            0.0  \n",
       "Parsee guide              0.0            0.0  \n",
       "Aouda                     0.0            0.0  \n",
       "Policeman                 0.0            0.0  \n",
       "Judge Obadiah             0.0            0.0  \n",
       "Clerk                     0.0            0.0  \n",
       "Pilot                     0.0            0.0  \n",
       "Sailor                    0.0            0.0  \n",
       "Mr. Batulcar              0.0            0.0  \n",
       "Colonel Proctor           0.0            0.0  \n",
       "Elder William Hitch       0.0            0.0  \n",
       "Conductor                 0.0            0.0  \n",
       "Forster                   0.0            0.0  \n",
       "Passenger                 0.0            0.0  \n",
       "Captain                   0.0            0.0  \n",
       "Andrew Speedy             0.0            0.0  \n",
       "\n",
       "[26 rows x 26 columns]"
      ]
     },
     "execution_count": 90,
     "metadata": {},
     "output_type": "execute_result"
    }
   ],
   "source": [
    "df_aroundtheworld"
   ]
  },
  {
   "cell_type": "code",
   "execution_count": 91,
   "id": "b206c2ab",
   "metadata": {},
   "outputs": [],
   "source": [
    "df_aroundtheworld.to_csv(\"aroundtheworld.csv\")"
   ]
  },
  {
   "cell_type": "markdown",
   "id": "e3f16326",
   "metadata": {},
   "source": [
    "# Exercise 1"
   ]
  }
 ],
 "metadata": {
  "kernelspec": {
   "display_name": "Python 3 (ipykernel)",
   "language": "python",
   "name": "python3"
  },
  "language_info": {
   "codemirror_mode": {
    "name": "ipython",
    "version": 3
   },
   "file_extension": ".py",
   "mimetype": "text/x-python",
   "name": "python",
   "nbconvert_exporter": "python",
   "pygments_lexer": "ipython3",
   "version": "3.11.7"
  }
 },
 "nbformat": 4,
 "nbformat_minor": 5
}
